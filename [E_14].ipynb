{
 "cells": [
  {
   "cell_type": "code",
   "execution_count": 1,
   "id": "611bc462",
   "metadata": {},
   "outputs": [
    {
     "data": {
      "text/html": [
       "<div>\n",
       "<style scoped>\n",
       "    .dataframe tbody tr th:only-of-type {\n",
       "        vertical-align: middle;\n",
       "    }\n",
       "\n",
       "    .dataframe tbody tr th {\n",
       "        vertical-align: top;\n",
       "    }\n",
       "\n",
       "    .dataframe thead th {\n",
       "        text-align: right;\n",
       "    }\n",
       "</style>\n",
       "<table border=\"1\" class=\"dataframe\">\n",
       "  <thead>\n",
       "    <tr style=\"text-align: right;\">\n",
       "      <th></th>\n",
       "      <th>user_id</th>\n",
       "      <th>movie_id</th>\n",
       "      <th>ratings</th>\n",
       "      <th>timestamp</th>\n",
       "    </tr>\n",
       "  </thead>\n",
       "  <tbody>\n",
       "    <tr>\n",
       "      <th>0</th>\n",
       "      <td>1</td>\n",
       "      <td>1193</td>\n",
       "      <td>5</td>\n",
       "      <td>978300760</td>\n",
       "    </tr>\n",
       "    <tr>\n",
       "      <th>1</th>\n",
       "      <td>1</td>\n",
       "      <td>661</td>\n",
       "      <td>3</td>\n",
       "      <td>978302109</td>\n",
       "    </tr>\n",
       "    <tr>\n",
       "      <th>2</th>\n",
       "      <td>1</td>\n",
       "      <td>914</td>\n",
       "      <td>3</td>\n",
       "      <td>978301968</td>\n",
       "    </tr>\n",
       "    <tr>\n",
       "      <th>3</th>\n",
       "      <td>1</td>\n",
       "      <td>3408</td>\n",
       "      <td>4</td>\n",
       "      <td>978300275</td>\n",
       "    </tr>\n",
       "    <tr>\n",
       "      <th>4</th>\n",
       "      <td>1</td>\n",
       "      <td>2355</td>\n",
       "      <td>5</td>\n",
       "      <td>978824291</td>\n",
       "    </tr>\n",
       "  </tbody>\n",
       "</table>\n",
       "</div>"
      ],
      "text/plain": [
       "   user_id  movie_id  ratings  timestamp\n",
       "0        1      1193        5  978300760\n",
       "1        1       661        3  978302109\n",
       "2        1       914        3  978301968\n",
       "3        1      3408        4  978300275\n",
       "4        1      2355        5  978824291"
      ]
     },
     "execution_count": 1,
     "metadata": {},
     "output_type": "execute_result"
    }
   ],
   "source": [
    "import pandas as pd\n",
    "import os\n",
    "\n",
    "rating_file_path=os.getenv('HOME') + '/aiffel/recommendata_iu/data/ml-1m/ratings.dat'\n",
    "ratings_cols = ['user_id', 'movie_id', 'ratings', 'timestamp']\n",
    "ratings = pd.read_csv(rating_file_path, sep='::', names=ratings_cols, engine='python', encoding = \"ISO-8859-1\")\n",
    "\n",
    "\n",
    "orginal_data_size = len(ratings)\n",
    "ratings.head()\n"
   ]
  },
  {
   "cell_type": "code",
   "execution_count": 2,
   "id": "4a4590c4",
   "metadata": {},
   "outputs": [
    {
     "data": {
      "text/html": [
       "<div>\n",
       "<style scoped>\n",
       "    .dataframe tbody tr th:only-of-type {\n",
       "        vertical-align: middle;\n",
       "    }\n",
       "\n",
       "    .dataframe tbody tr th {\n",
       "        vertical-align: top;\n",
       "    }\n",
       "\n",
       "    .dataframe thead th {\n",
       "        text-align: right;\n",
       "    }\n",
       "</style>\n",
       "<table border=\"1\" class=\"dataframe\">\n",
       "  <thead>\n",
       "    <tr style=\"text-align: right;\">\n",
       "      <th></th>\n",
       "      <th>movie_id</th>\n",
       "      <th>title</th>\n",
       "      <th>genre</th>\n",
       "    </tr>\n",
       "  </thead>\n",
       "  <tbody>\n",
       "    <tr>\n",
       "      <th>0</th>\n",
       "      <td>1</td>\n",
       "      <td>Toy Story (1995)</td>\n",
       "      <td>Animation|Children's|Comedy</td>\n",
       "    </tr>\n",
       "    <tr>\n",
       "      <th>1</th>\n",
       "      <td>2</td>\n",
       "      <td>Jumanji (1995)</td>\n",
       "      <td>Adventure|Children's|Fantasy</td>\n",
       "    </tr>\n",
       "    <tr>\n",
       "      <th>2</th>\n",
       "      <td>3</td>\n",
       "      <td>Grumpier Old Men (1995)</td>\n",
       "      <td>Comedy|Romance</td>\n",
       "    </tr>\n",
       "    <tr>\n",
       "      <th>3</th>\n",
       "      <td>4</td>\n",
       "      <td>Waiting to Exhale (1995)</td>\n",
       "      <td>Comedy|Drama</td>\n",
       "    </tr>\n",
       "    <tr>\n",
       "      <th>4</th>\n",
       "      <td>5</td>\n",
       "      <td>Father of the Bride Part II (1995)</td>\n",
       "      <td>Comedy</td>\n",
       "    </tr>\n",
       "  </tbody>\n",
       "</table>\n",
       "</div>"
      ],
      "text/plain": [
       "   movie_id                               title                         genre\n",
       "0         1                    Toy Story (1995)   Animation|Children's|Comedy\n",
       "1         2                      Jumanji (1995)  Adventure|Children's|Fantasy\n",
       "2         3             Grumpier Old Men (1995)                Comedy|Romance\n",
       "3         4            Waiting to Exhale (1995)                  Comedy|Drama\n",
       "4         5  Father of the Bride Part II (1995)                        Comedy"
      ]
     },
     "execution_count": 2,
     "metadata": {},
     "output_type": "execute_result"
    }
   ],
   "source": [
    "\n",
    "# 영화 제목을 보기 위해 메타 데이터를 읽어옵니다.\n",
    "movie_file_path=os.getenv('HOME') + '/aiffel/recommendata_iu/data/ml-1m/movies.dat'\n",
    "cols = ['movie_id', 'title', 'genre']\n",
    "movies = pd.read_csv(movie_file_path, sep='::', names=cols, engine='python', encoding='ISO-8859-1')\n",
    "movies.head()"
   ]
  },
  {
   "cell_type": "code",
   "execution_count": 3,
   "id": "6100e51e",
   "metadata": {},
   "outputs": [
    {
     "name": "stdout",
     "output_type": "stream",
     "text": [
      "orginal_data_size: 1000209, filtered_data_size: 836478\n",
      "Ratio of Remaining Data is 83.63%\n"
     ]
    }
   ],
   "source": [
    "# 3점 이상만 남깁니다.\n",
    "ratings = ratings[ratings['ratings']>=3]\n",
    "filtered_data_size = len(ratings)\n",
    "\n",
    "print(f'orginal_data_size: {orginal_data_size}, filtered_data_size: {filtered_data_size}')\n",
    "print(f'Ratio of Remaining Data is {filtered_data_size / orginal_data_size:.2%}')\n"
   ]
  },
  {
   "cell_type": "markdown",
   "id": "86521660",
   "metadata": {},
   "source": [
    "### 일단 ratings 값은 3 이상이면 평균이라 판단하고 추천할 때 3도 추천하게 하자\n",
    "\n",
    "맘 같아서는 2점 이하 추천 모델을 따로 만들어서\n",
    "<br/>\n",
    "3점 이상의 영화를 추천하는 모델이 어떤 유저에게 영화를 추천하기 전에\n",
    "<br/>\n",
    "만약 2점 영화를 추천하는 모델과 결과가 같으면 추천하지 않게 하는 용도로 쓰고 싶어서다\n",
    "\n",
    "<br/>\n",
    "\n",
    "근데 추천하는 알고리즘이 같다면, 3점 이상 영화를 추천하는 모델과 2점 이하 영화를 추천하는 모델과 겹치는 일은 없을 거 같은데?\n",
    "\n",
    "### 사람은 손해에 민감하다\n",
    "<br/>\n",
    "즉 부정적인 평가를 남긴 사람들은 자신이 어째서 부정적인 평가를 남기게 되었는지에 대해 기록한 데이터가 많이 존재할 거다\n",
    "\n",
    "즉 알고리즘을 다르게 할 여지가 많다\n",
    "\n",
    "데이터가 많지 않다 하더라도, 긍정과 부정을 나눠 서로 다른 알고리즘을 가지게 해서 좀 더 정확하게 추천하게 하는 게 결코 의미없는 행동은 아니라고 생각한다\n",
    "<br/>\n",
    "\n",
    "*약간 앙상블 느낌이 난다*\n"
   ]
  },
  {
   "cell_type": "code",
   "execution_count": 4,
   "id": "80cd8260",
   "metadata": {},
   "outputs": [
    {
     "name": "stdout",
     "output_type": "stream",
     "text": [
      "3952\n",
      "        user_id  movie_id  ratings   timestamp\n",
      "2898         23      3952        4   978461000\n",
      "5086         36      3952        5   978062904\n",
      "7310         52      3952        4   977947102\n",
      "10077        72      3952        5   977868330\n",
      "13099       102      3952        3  1039274093\n",
      "...         ...       ...      ...         ...\n",
      "941592     5682      3952        3  1029457829\n",
      "964309     5812      3952        4   992072099\n",
      "967122     5831      3952        3   986223125\n",
      "968244     5837      3952        4  1011902656\n",
      "992932     5998      3952        4  1001781044\n",
      "\n",
      "[353 rows x 4 columns]\n",
      "Empty DataFrame\n",
      "Columns: [user_id, movie_id, ratings, timestamp]\n",
      "Index: []\n"
     ]
    }
   ],
   "source": [
    "print(max(ratings['movie_id']))\n",
    "print(ratings.loc[ratings[\"movie_id\"]==3952])\n",
    "print(ratings.loc[ratings[\"movie_id\"]==3953])"
   ]
  },
  {
   "cell_type": "code",
   "execution_count": 5,
   "id": "cee8676a",
   "metadata": {
    "scrolled": true
   },
   "outputs": [
    {
     "name": "stdout",
     "output_type": "stream",
     "text": [
      "[\"One Flew Over the Cuckoo's Nest (1975)\", 'James and the Giant Peach (1996)', 'My Fair Lady (1964)', 'Erin Brockovich (2000)', \"Bug's Life, A (1998)\", 'Princess Bride, The (1987)', 'Ben-Hur (1959)', 'Christmas Story, A (1983)', 'Snow White and the Seven Dwarfs (1937)', 'Wizard of Oz, The (1939)']\n"
     ]
    }
   ],
   "source": [
    "# 해당 코드를 실행하면 많은 시간이 필요하므로 주의하자\n",
    "\n",
    "r_movie = []\n",
    "\n",
    "for i in ratings['movie_id']:\n",
    "    movies_idx = 0\n",
    "    for j in movies['movie_id']:\n",
    "        if i == j:\n",
    "            r_movie.append(movies['title'][movies_idx])\n",
    "        else:\n",
    "            movies_idx+=1\n",
    "            continue\n",
    "\n",
    "print(r_movie[:10])"
   ]
  },
  {
   "cell_type": "code",
   "execution_count": 6,
   "id": "b310eb12",
   "metadata": {},
   "outputs": [
    {
     "name": "stdout",
     "output_type": "stream",
     "text": [
      "836478\n",
      "836478\n"
     ]
    }
   ],
   "source": [
    "print(len(r_movie))\n",
    "print(len(ratings['movie_id']))"
   ]
  },
  {
   "cell_type": "code",
   "execution_count": 7,
   "id": "2df46eff",
   "metadata": {},
   "outputs": [
    {
     "name": "stdout",
     "output_type": "stream",
     "text": [
      "['Drama', \"Animation|Children's|Musical\", 'Musical|Romance', 'Drama', \"Animation|Children's|Comedy\", 'Action|Adventure|Comedy|Romance', 'Action|Adventure|Drama', 'Comedy|Drama', \"Animation|Children's|Musical\", \"Adventure|Children's|Drama|Musical\"]\n"
     ]
    }
   ],
   "source": [
    "# 해당 코드를 실행하면 많은 시간이 필요하므로 주의하자\n",
    "\n",
    "r_genre = []\n",
    "\n",
    "for i in ratings['movie_id']:\n",
    "    genre_idx = 0\n",
    "    for j in movies['movie_id']:\n",
    "        if i == j:\n",
    "            r_genre.append(movies['genre'][genre_idx])\n",
    "        else:\n",
    "            genre_idx+=1\n",
    "            continue\n",
    "\n",
    "print(r_genre[:10])"
   ]
  },
  {
   "cell_type": "code",
   "execution_count": 8,
   "id": "f3484f72",
   "metadata": {
    "scrolled": false
   },
   "outputs": [
    {
     "name": "stdout",
     "output_type": "stream",
     "text": [
      "3883\n",
      "836478\n",
      "      movie_id                                   title  genre\n",
      "1176      1193  One Flew Over the Cuckoo's Nest (1975)  Drama\n",
      "     movie_id                             title                         genre\n",
      "655       661  James and the Giant Peach (1996)  Animation|Children's|Musical\n",
      "     movie_id                title            genre\n",
      "902       914  My Fair Lady (1964)  Musical|Romance\n",
      "      movie_id                   title  genre\n",
      "3339      3408  Erin Brockovich (2000)  Drama\n",
      "      movie_id                 title                        genre\n",
      "2286      2355  Bug's Life, A (1998)  Animation|Children's|Comedy\n",
      "836478\n",
      "836478\n"
     ]
    }
   ],
   "source": [
    "print(len(movies['movie_id']))\n",
    "print(len(ratings['user_id']))\n",
    "\n",
    "print(movies.loc[movies[\"movie_id\"]==1193])\n",
    "print(movies.loc[movies[\"movie_id\"]==661])\n",
    "print(movies.loc[movies[\"movie_id\"]==914])\n",
    "print(movies.loc[movies[\"movie_id\"]==3408])\n",
    "print(movies.loc[movies[\"movie_id\"]==2355])\n",
    "\n",
    "print(len(r_movie))\n",
    "print(len(r_genre))"
   ]
  },
  {
   "cell_type": "markdown",
   "id": "858ffb5a",
   "metadata": {},
   "source": [
    "df.loc[df[a]==b] 사용법을 서술한 글\n",
    "\n",
    "https://www.delftstack.com/ko/howto/python-pandas/pandas-get-index-of-row/\n",
    "\n",
    "df[a]의 값 중 b와 같은 값을 가진 행렬을 출력하라는 뜻이다"
   ]
  },
  {
   "cell_type": "code",
   "execution_count": 9,
   "id": "aae0678a",
   "metadata": {
    "scrolled": false
   },
   "outputs": [
    {
     "name": "stdout",
     "output_type": "stream",
     "text": [
      "836478\n",
      "836478\n",
      "836478\n",
      "3883\n",
      "         user_id\n",
      "1000203     6040\n",
      "1000205     6040\n",
      "1000206     6040\n",
      "1000207     6040\n",
      "1000208     6040\n"
     ]
    }
   ],
   "source": [
    "n_data = pd.DataFrame(ratings['user_id'])\n",
    "print(len(n_data))\n",
    "\n",
    "print(len(r_movie))\n",
    "print(len(r_genre))\n",
    "\n",
    "print(len(movies))\n",
    "\n",
    "print(n_data.tail())\n",
    "\n",
    "#n_data{'movie':r_movie,'genre':r_genre}"
   ]
  },
  {
   "cell_type": "code",
   "execution_count": 10,
   "id": "e44761be",
   "metadata": {
    "scrolled": true
   },
   "outputs": [
    {
     "data": {
      "text/html": [
       "<div>\n",
       "<style scoped>\n",
       "    .dataframe tbody tr th:only-of-type {\n",
       "        vertical-align: middle;\n",
       "    }\n",
       "\n",
       "    .dataframe tbody tr th {\n",
       "        vertical-align: top;\n",
       "    }\n",
       "\n",
       "    .dataframe thead th {\n",
       "        text-align: right;\n",
       "    }\n",
       "</style>\n",
       "<table border=\"1\" class=\"dataframe\">\n",
       "  <thead>\n",
       "    <tr style=\"text-align: right;\">\n",
       "      <th></th>\n",
       "      <th>user_id</th>\n",
       "      <th>title</th>\n",
       "      <th>genre</th>\n",
       "    </tr>\n",
       "  </thead>\n",
       "  <tbody>\n",
       "    <tr>\n",
       "      <th>0</th>\n",
       "      <td>1</td>\n",
       "      <td>One Flew Over the Cuckoo's Nest (1975)</td>\n",
       "      <td>Drama</td>\n",
       "    </tr>\n",
       "    <tr>\n",
       "      <th>1</th>\n",
       "      <td>1</td>\n",
       "      <td>James and the Giant Peach (1996)</td>\n",
       "      <td>Animation|Children's|Musical</td>\n",
       "    </tr>\n",
       "    <tr>\n",
       "      <th>2</th>\n",
       "      <td>1</td>\n",
       "      <td>My Fair Lady (1964)</td>\n",
       "      <td>Musical|Romance</td>\n",
       "    </tr>\n",
       "    <tr>\n",
       "      <th>3</th>\n",
       "      <td>1</td>\n",
       "      <td>Erin Brockovich (2000)</td>\n",
       "      <td>Drama</td>\n",
       "    </tr>\n",
       "    <tr>\n",
       "      <th>4</th>\n",
       "      <td>1</td>\n",
       "      <td>Bug's Life, A (1998)</td>\n",
       "      <td>Animation|Children's|Comedy</td>\n",
       "    </tr>\n",
       "  </tbody>\n",
       "</table>\n",
       "</div>"
      ],
      "text/plain": [
       "   user_id                                   title  \\\n",
       "0        1  One Flew Over the Cuckoo's Nest (1975)   \n",
       "1        1        James and the Giant Peach (1996)   \n",
       "2        1                     My Fair Lady (1964)   \n",
       "3        1                  Erin Brockovich (2000)   \n",
       "4        1                    Bug's Life, A (1998)   \n",
       "\n",
       "                          genre  \n",
       "0                         Drama  \n",
       "1  Animation|Children's|Musical  \n",
       "2               Musical|Romance  \n",
       "3                         Drama  \n",
       "4   Animation|Children's|Comedy  "
      ]
     },
     "execution_count": 10,
     "metadata": {},
     "output_type": "execute_result"
    }
   ],
   "source": [
    "n_data['title']=r_movie\n",
    "n_data['genre']=r_genre\n",
    "n_data.head()"
   ]
  },
  {
   "cell_type": "code",
   "execution_count": 11,
   "id": "dc83cca3",
   "metadata": {},
   "outputs": [
    {
     "data": {
      "text/plain": [
       "0             1\n",
       "1             1\n",
       "2             1\n",
       "3             1\n",
       "4             1\n",
       "           ... \n",
       "1000203    6040\n",
       "1000205    6040\n",
       "1000206    6040\n",
       "1000207    6040\n",
       "1000208    6040\n",
       "Name: user_id, Length: 836478, dtype: int64"
      ]
     },
     "execution_count": 11,
     "metadata": {},
     "output_type": "execute_result"
    }
   ],
   "source": [
    "n_data.user_id"
   ]
  },
  {
   "cell_type": "code",
   "execution_count": 12,
   "id": "49a75a03",
   "metadata": {
    "scrolled": true
   },
   "outputs": [
    {
     "name": "stdout",
     "output_type": "stream",
     "text": [
      "301\n"
     ]
    }
   ],
   "source": [
    "print(len(n_data['genre'].unique()))\n",
    "\n",
    "gen_num = list(n_data['genre'].unique())"
   ]
  },
  {
   "cell_type": "code",
   "execution_count": 13,
   "id": "5b277771",
   "metadata": {
    "scrolled": true
   },
   "outputs": [
    {
     "name": "stdout",
     "output_type": "stream",
     "text": [
      "[0, 1, 2, 0, 3, 4, 5, 6, 1, 7]\n"
     ]
    }
   ],
   "source": [
    "# 해당 코드를 실행하면 많은 시간이 필요하므로 주의하자\n",
    "\n",
    "r_genre_n = []\n",
    "\n",
    "for i in ratings['movie_id']:\n",
    "    genre_n_idx = 0\n",
    "    for j in movies['movie_id']:\n",
    "        if i == j:\n",
    "            gen_num_c = 0\n",
    "            for k in gen_num:\n",
    "                if movies['genre'][genre_n_idx] == k:\n",
    "                    r_genre_n.append(gen_num_c)\n",
    "                else:\n",
    "                    gen_num_c +=1\n",
    "        else:\n",
    "            genre_n_idx+=1\n",
    "            continue\n",
    "\n",
    "print(r_genre_n[:10])"
   ]
  },
  {
   "cell_type": "markdown",
   "id": "2fbc05a6",
   "metadata": {},
   "source": [
    "csr_matrix((a, (b,c)), shape= (num_b, num_c))\n",
    "\n",
    "해당 코드에서 a는 정량적으로 해석할 수 있는 데이터다\n",
    "<br/>\n",
    "b와 c는 고유벡터 즉 정량적으로 해석할 수 없는 데이터다\n",
    "\n",
    "때문에 정략적인 데이터를 만들 필요가 있었다\n",
    "\n",
    "그럼 어떤 데이터가 정략적 해석을 할 수 있는 데이터인가?\n",
    "<br/>\n",
    "총 영화 조회수"
   ]
  },
  {
   "cell_type": "code",
   "execution_count": 14,
   "id": "87c26205",
   "metadata": {},
   "outputs": [],
   "source": [
    "views = []\n",
    "\n",
    "for i in n_data['title'].unique():\n",
    "    views.append(len(n_data.loc[n_data['title']==i]))"
   ]
  },
  {
   "cell_type": "code",
   "execution_count": 15,
   "id": "2ac37fbf",
   "metadata": {},
   "outputs": [
    {
     "name": "stdout",
     "output_type": "stream",
     "text": [
      "836478\n",
      "0    One Flew Over the Cuckoo's Nest (1975)\n",
      "1          James and the Giant Peach (1996)\n",
      "2                       My Fair Lady (1964)\n",
      "3                    Erin Brockovich (2000)\n",
      "4                      Bug's Life, A (1998)\n",
      "5                Princess Bride, The (1987)\n",
      "6                            Ben-Hur (1959)\n",
      "7                 Christmas Story, A (1983)\n",
      "8    Snow White and the Seven Dwarfs (1937)\n",
      "9                  Wizard of Oz, The (1939)\n",
      "Name: title, dtype: object\n",
      "3628\n",
      "3628\n",
      "[1680, 443, 611, 1223, 1599, 2252, 666, 1290, 707, 1650]\n"
     ]
    }
   ],
   "source": [
    "print(len(n_data))\n",
    "print(n_data['title'][:10])\n",
    "print(n_data['title'].nunique())\n",
    "print(len(views))\n",
    "print(views[:10])"
   ]
  },
  {
   "cell_type": "markdown",
   "id": "d4478d48",
   "metadata": {},
   "source": [
    "총 영화는 3628개이며,\n",
    "<br/>\n",
    "n_data['title'] 순서로 조회수를 기록했다\n",
    "\n",
    "<br/>\n",
    "\n",
    "그럼 이제 영화에 맞게 조회수를 기입하자"
   ]
  },
  {
   "cell_type": "code",
   "execution_count": 16,
   "id": "1f3fd363",
   "metadata": {
    "scrolled": true
   },
   "outputs": [
    {
     "name": "stdout",
     "output_type": "stream",
     "text": [
      "7889      4\n",
      "19557     4\n",
      "30625     4\n",
      "39617     4\n",
      "52226     4\n",
      "         ..\n",
      "978191    4\n",
      "979392    4\n",
      "980833    4\n",
      "993392    4\n",
      "995286    4\n",
      "Name: views, Length: 218, dtype: int64\n",
      "        user_id                                              title  \\\n",
      "7889         53  City Slickers II: The Legend of Curly's Gold (...   \n",
      "19557       148  City Slickers II: The Legend of Curly's Gold (...   \n",
      "30625       204  City Slickers II: The Legend of Curly's Gold (...   \n",
      "39617       268  City Slickers II: The Legend of Curly's Gold (...   \n",
      "52226       343  City Slickers II: The Legend of Curly's Gold (...   \n",
      "...         ...                                                ...   \n",
      "978191     5894  City Slickers II: The Legend of Curly's Gold (...   \n",
      "979392     5908  City Slickers II: The Legend of Curly's Gold (...   \n",
      "980833     5916  City Slickers II: The Legend of Curly's Gold (...   \n",
      "993392     6000  City Slickers II: The Legend of Curly's Gold (...   \n",
      "995286     6010  City Slickers II: The Legend of Curly's Gold (...   \n",
      "\n",
      "                 genre  views  \n",
      "7889    Comedy|Western      4  \n",
      "19557   Comedy|Western      4  \n",
      "30625   Comedy|Western      4  \n",
      "39617   Comedy|Western      4  \n",
      "52226   Comedy|Western      4  \n",
      "...                ...    ...  \n",
      "978191  Comedy|Western      4  \n",
      "979392  Comedy|Western      4  \n",
      "980833  Comedy|Western      4  \n",
      "993392  Comedy|Western      4  \n",
      "995286  Comedy|Western      4  \n",
      "\n",
      "[218 rows x 4 columns]\n"
     ]
    },
    {
     "name": "stderr",
     "output_type": "stream",
     "text": [
      "/tmp/ipykernel_67/672558532.py:3: SettingWithCopyWarning: \n",
      "A value is trying to be set on a copy of a slice from a DataFrame.\n",
      "Try using .loc[row_indexer,col_indexer] = value instead\n",
      "\n",
      "See the caveats in the documentation: https://pandas.pydata.org/pandas-docs/stable/user_guide/indexing.html#returning-a-view-versus-a-copy\n",
      "  aaaa['views'] = 4\n"
     ]
    }
   ],
   "source": [
    "aaaa = n_data.loc[n_data['title']==list(set(n_data['title']))[0]]\n",
    "\n",
    "aaaa['views'] = 4\n",
    "\n",
    "print(aaaa['views'])\n",
    "print(aaaa)"
   ]
  },
  {
   "cell_type": "code",
   "execution_count": 17,
   "id": "d2b44df2",
   "metadata": {},
   "outputs": [
    {
     "name": "stdout",
     "output_type": "stream",
     "text": [
      "3628\n",
      "[\"City Slickers II: The Legend of Curly's Gold (1994)\", 'Roadside Prophets (1992)', 'Indiana Jones and the Temple of Doom (1984)', 'Around the World in 80 Days (1956)', 'Glimmer Man, The (1996)', 'Bastard Out of Carolina (1996)', 'Jungle Book, The (1967)', 'Glass Bottom Boat, The (1966)', \"Cats Don't Dance (1997)\", 'Sixth Sense, The (1999)']\n"
     ]
    }
   ],
   "source": [
    "print(len(set(n_data['title'])))\n",
    "print(list(set(n_data['title']))[:10])"
   ]
  },
  {
   "cell_type": "code",
   "execution_count": 18,
   "id": "26c16462",
   "metadata": {
    "scrolled": true
   },
   "outputs": [
    {
     "name": "stdout",
     "output_type": "stream",
     "text": [
      "[1680, 443, 611, 1223, 1599, 2252, 666, 1290, 707, 1650]\n",
      "3211\n",
      "836478\n"
     ]
    }
   ],
   "source": [
    "print(views[:10])\n",
    "print(max(views))\n",
    "print(len(n_data))"
   ]
  },
  {
   "cell_type": "code",
   "execution_count": 19,
   "id": "6a4b697c",
   "metadata": {
    "scrolled": true
   },
   "outputs": [
    {
     "data": {
      "text/plain": [
       "66    Jackal, The (1997)\n",
       "68      Gladiator (2000)\n",
       "Name: title, dtype: object"
      ]
     },
     "execution_count": 19,
     "metadata": {},
     "output_type": "execute_result"
    }
   ],
   "source": [
    "n_data['title'][66:68]\n",
    "\n",
    "# 67 인덱스가 사라졌다"
   ]
  },
  {
   "cell_type": "code",
   "execution_count": 20,
   "id": "83197ecc",
   "metadata": {},
   "outputs": [
    {
     "data": {
      "text/html": [
       "<div>\n",
       "<style scoped>\n",
       "    .dataframe tbody tr th:only-of-type {\n",
       "        vertical-align: middle;\n",
       "    }\n",
       "\n",
       "    .dataframe tbody tr th {\n",
       "        vertical-align: top;\n",
       "    }\n",
       "\n",
       "    .dataframe thead th {\n",
       "        text-align: right;\n",
       "    }\n",
       "</style>\n",
       "<table border=\"1\" class=\"dataframe\">\n",
       "  <thead>\n",
       "    <tr style=\"text-align: right;\">\n",
       "      <th></th>\n",
       "      <th>user_id</th>\n",
       "      <th>title</th>\n",
       "      <th>genre</th>\n",
       "    </tr>\n",
       "  </thead>\n",
       "  <tbody>\n",
       "    <tr>\n",
       "      <th>1000208</th>\n",
       "      <td>6040</td>\n",
       "      <td>E.T. the Extra-Terrestrial (1982)</td>\n",
       "      <td>Children's|Drama|Fantasy|Sci-Fi</td>\n",
       "    </tr>\n",
       "  </tbody>\n",
       "</table>\n",
       "</div>"
      ],
      "text/plain": [
       "         user_id                              title  \\\n",
       "1000208     6040  E.T. the Extra-Terrestrial (1982)   \n",
       "\n",
       "                                   genre  \n",
       "1000208  Children's|Drama|Fantasy|Sci-Fi  "
      ]
     },
     "execution_count": 20,
     "metadata": {},
     "output_type": "execute_result"
    }
   ],
   "source": [
    "n_data[-1:]"
   ]
  },
  {
   "cell_type": "code",
   "execution_count": 21,
   "id": "fde59d26",
   "metadata": {},
   "outputs": [
    {
     "data": {
      "text/plain": [
       "836478"
      ]
     },
     "execution_count": 21,
     "metadata": {},
     "output_type": "execute_result"
    }
   ],
   "source": [
    "len(n_data)"
   ]
  },
  {
   "cell_type": "code",
   "execution_count": 22,
   "id": "7e717538",
   "metadata": {
    "scrolled": true
   },
   "outputs": [
    {
     "data": {
      "text/plain": [
       "163730"
      ]
     },
     "execution_count": 22,
     "metadata": {},
     "output_type": "execute_result"
    }
   ],
   "source": [
    "1000208 - 836478"
   ]
  },
  {
   "cell_type": "markdown",
   "id": "e5ea9ce7",
   "metadata": {},
   "source": [
    "확인해보니까 null 값도 아니었다\n",
    "\n",
    "도대체 뭐지?\n",
    "\n",
    "왜 인덱스 값은 백만인데, 실제 길이는 80만인거지?\n",
    "<br/>\n",
    "확인해보니, 원래 요소는 80만개밖에 없다\n",
    "<br/>\n",
    "인덱스를 재정의해줘야 겠다\n",
    "<br/>\n"
   ]
  },
  {
   "cell_type": "code",
   "execution_count": 23,
   "id": "394b6b79",
   "metadata": {},
   "outputs": [],
   "source": [
    "n_data.index=list(range(836478))"
   ]
  },
  {
   "cell_type": "markdown",
   "id": "9ead70f9",
   "metadata": {},
   "source": [
    "인덱스 재정의하는 방법\n",
    "\n",
    "https://kongdols-room.tistory.com/123"
   ]
  },
  {
   "cell_type": "code",
   "execution_count": 24,
   "id": "dbbdb5ac",
   "metadata": {
    "scrolled": true
   },
   "outputs": [
    {
     "data": {
      "text/html": [
       "<div>\n",
       "<style scoped>\n",
       "    .dataframe tbody tr th:only-of-type {\n",
       "        vertical-align: middle;\n",
       "    }\n",
       "\n",
       "    .dataframe tbody tr th {\n",
       "        vertical-align: top;\n",
       "    }\n",
       "\n",
       "    .dataframe thead th {\n",
       "        text-align: right;\n",
       "    }\n",
       "</style>\n",
       "<table border=\"1\" class=\"dataframe\">\n",
       "  <thead>\n",
       "    <tr style=\"text-align: right;\">\n",
       "      <th></th>\n",
       "      <th>user_id</th>\n",
       "      <th>title</th>\n",
       "      <th>genre</th>\n",
       "    </tr>\n",
       "  </thead>\n",
       "  <tbody>\n",
       "    <tr>\n",
       "      <th>836477</th>\n",
       "      <td>6040</td>\n",
       "      <td>E.T. the Extra-Terrestrial (1982)</td>\n",
       "      <td>Children's|Drama|Fantasy|Sci-Fi</td>\n",
       "    </tr>\n",
       "  </tbody>\n",
       "</table>\n",
       "</div>"
      ],
      "text/plain": [
       "        user_id                              title  \\\n",
       "836477     6040  E.T. the Extra-Terrestrial (1982)   \n",
       "\n",
       "                                  genre  \n",
       "836477  Children's|Drama|Fantasy|Sci-Fi  "
      ]
     },
     "execution_count": 24,
     "metadata": {},
     "output_type": "execute_result"
    }
   ],
   "source": [
    "n_data[-1:]"
   ]
  },
  {
   "cell_type": "markdown",
   "id": "71df3456",
   "metadata": {
    "scrolled": false
   },
   "source": [
    "n_data['views'] = list(n_data['title'])\n",
    "cc = 0\n",
    "\n",
    "for i in n_data['title']:\n",
    "    c_views = 0\n",
    "    for j in range(3211):\n",
    "        if n_data['views'][c_views] == i:\n",
    "            n_data['views'][c_views] = views[c_views]\n",
    "        else:\n",
    "            c_views+=1\n",
    "    cc +=1\n",
    "    print(cc)"
   ]
  },
  {
   "cell_type": "code",
   "execution_count": 69,
   "id": "d42dad52",
   "metadata": {
    "scrolled": true
   },
   "outputs": [
    {
     "ename": "ValueError",
     "evalue": "invalid literal for int() with base 10: \"One Flew Over the Cuckoo's Nest (1975)\"",
     "output_type": "error",
     "traceback": [
      "\u001b[0;31m---------------------------------------------------------------------------\u001b[0m",
      "\u001b[0;31mValueError\u001b[0m                                Traceback (most recent call last)",
      "\u001b[0;32m/tmp/ipykernel_67/2345774683.py\u001b[0m in \u001b[0;36m<module>\u001b[0;34m\u001b[0m\n\u001b[1;32m      5\u001b[0m \u001b[0mnum_artist\u001b[0m \u001b[0;34m=\u001b[0m \u001b[0mn_data\u001b[0m\u001b[0;34m[\u001b[0m\u001b[0;34m'title'\u001b[0m\u001b[0;34m]\u001b[0m\u001b[0;34m.\u001b[0m\u001b[0mnunique\u001b[0m\u001b[0;34m(\u001b[0m\u001b[0;34m)\u001b[0m\u001b[0;34m\u001b[0m\u001b[0;34m\u001b[0m\u001b[0m\n\u001b[1;32m      6\u001b[0m \u001b[0;34m\u001b[0m\u001b[0m\n\u001b[0;32m----> 7\u001b[0;31m \u001b[0mcsr_data\u001b[0m \u001b[0;34m=\u001b[0m \u001b[0mcsr_matrix\u001b[0m\u001b[0;34m(\u001b[0m\u001b[0;34m(\u001b[0m\u001b[0mn_data\u001b[0m\u001b[0;34m.\u001b[0m\u001b[0mviews\u001b[0m\u001b[0;34m,\u001b[0m \u001b[0;34m(\u001b[0m\u001b[0mn_data\u001b[0m\u001b[0;34m.\u001b[0m\u001b[0muser_id\u001b[0m\u001b[0;34m,\u001b[0m\u001b[0mn_data\u001b[0m\u001b[0;34m.\u001b[0m\u001b[0mtitle\u001b[0m\u001b[0;34m)\u001b[0m\u001b[0;34m)\u001b[0m\u001b[0;34m,\u001b[0m \u001b[0mshape\u001b[0m\u001b[0;34m=\u001b[0m \u001b[0;34m(\u001b[0m\u001b[0mnum_user\u001b[0m\u001b[0;34m,\u001b[0m \u001b[0mnum_artist\u001b[0m\u001b[0;34m)\u001b[0m\u001b[0;34m)\u001b[0m\u001b[0;34m\u001b[0m\u001b[0;34m\u001b[0m\u001b[0m\n\u001b[0m\u001b[1;32m      8\u001b[0m \u001b[0mcsr_data\u001b[0m\u001b[0;34m\u001b[0m\u001b[0;34m\u001b[0m\u001b[0m\n",
      "\u001b[0;32m/opt/conda/lib/python3.9/site-packages/scipy/sparse/compressed.py\u001b[0m in \u001b[0;36m__init__\u001b[0;34m(self, arg1, shape, dtype, copy)\u001b[0m\n\u001b[1;32m     52\u001b[0m                     \u001b[0;31m# (data, ij) format\u001b[0m\u001b[0;34m\u001b[0m\u001b[0;34m\u001b[0m\u001b[0m\n\u001b[1;32m     53\u001b[0m                     \u001b[0;32mfrom\u001b[0m \u001b[0;34m.\u001b[0m\u001b[0mcoo\u001b[0m \u001b[0;32mimport\u001b[0m \u001b[0mcoo_matrix\u001b[0m\u001b[0;34m\u001b[0m\u001b[0;34m\u001b[0m\u001b[0m\n\u001b[0;32m---> 54\u001b[0;31m                     other = self.__class__(coo_matrix(arg1, shape=shape,\n\u001b[0m\u001b[1;32m     55\u001b[0m                                                       dtype=dtype))\n\u001b[1;32m     56\u001b[0m                     \u001b[0mself\u001b[0m\u001b[0;34m.\u001b[0m\u001b[0m_set_self\u001b[0m\u001b[0;34m(\u001b[0m\u001b[0mother\u001b[0m\u001b[0;34m)\u001b[0m\u001b[0;34m\u001b[0m\u001b[0;34m\u001b[0m\u001b[0m\n",
      "\u001b[0;32m/opt/conda/lib/python3.9/site-packages/scipy/sparse/coo.py\u001b[0m in \u001b[0;36m__init__\u001b[0;34m(self, arg1, shape, dtype, copy)\u001b[0m\n\u001b[1;32m    157\u001b[0m                 \u001b[0midx_dtype\u001b[0m \u001b[0;34m=\u001b[0m \u001b[0mget_index_dtype\u001b[0m\u001b[0;34m(\u001b[0m\u001b[0mmaxval\u001b[0m\u001b[0;34m=\u001b[0m\u001b[0mmax\u001b[0m\u001b[0;34m(\u001b[0m\u001b[0mself\u001b[0m\u001b[0;34m.\u001b[0m\u001b[0mshape\u001b[0m\u001b[0;34m)\u001b[0m\u001b[0;34m)\u001b[0m\u001b[0;34m\u001b[0m\u001b[0;34m\u001b[0m\u001b[0m\n\u001b[1;32m    158\u001b[0m                 \u001b[0mself\u001b[0m\u001b[0;34m.\u001b[0m\u001b[0mrow\u001b[0m \u001b[0;34m=\u001b[0m \u001b[0mnp\u001b[0m\u001b[0;34m.\u001b[0m\u001b[0marray\u001b[0m\u001b[0;34m(\u001b[0m\u001b[0mrow\u001b[0m\u001b[0;34m,\u001b[0m \u001b[0mcopy\u001b[0m\u001b[0;34m=\u001b[0m\u001b[0mcopy\u001b[0m\u001b[0;34m,\u001b[0m \u001b[0mdtype\u001b[0m\u001b[0;34m=\u001b[0m\u001b[0midx_dtype\u001b[0m\u001b[0;34m)\u001b[0m\u001b[0;34m\u001b[0m\u001b[0;34m\u001b[0m\u001b[0m\n\u001b[0;32m--> 159\u001b[0;31m                 \u001b[0mself\u001b[0m\u001b[0;34m.\u001b[0m\u001b[0mcol\u001b[0m \u001b[0;34m=\u001b[0m \u001b[0mnp\u001b[0m\u001b[0;34m.\u001b[0m\u001b[0marray\u001b[0m\u001b[0;34m(\u001b[0m\u001b[0mcol\u001b[0m\u001b[0;34m,\u001b[0m \u001b[0mcopy\u001b[0m\u001b[0;34m=\u001b[0m\u001b[0mcopy\u001b[0m\u001b[0;34m,\u001b[0m \u001b[0mdtype\u001b[0m\u001b[0;34m=\u001b[0m\u001b[0midx_dtype\u001b[0m\u001b[0;34m)\u001b[0m\u001b[0;34m\u001b[0m\u001b[0;34m\u001b[0m\u001b[0m\n\u001b[0m\u001b[1;32m    160\u001b[0m                 \u001b[0mself\u001b[0m\u001b[0;34m.\u001b[0m\u001b[0mdata\u001b[0m \u001b[0;34m=\u001b[0m \u001b[0mgetdata\u001b[0m\u001b[0;34m(\u001b[0m\u001b[0mobj\u001b[0m\u001b[0;34m,\u001b[0m \u001b[0mcopy\u001b[0m\u001b[0;34m=\u001b[0m\u001b[0mcopy\u001b[0m\u001b[0;34m,\u001b[0m \u001b[0mdtype\u001b[0m\u001b[0;34m=\u001b[0m\u001b[0mdtype\u001b[0m\u001b[0;34m)\u001b[0m\u001b[0;34m\u001b[0m\u001b[0;34m\u001b[0m\u001b[0m\n\u001b[1;32m    161\u001b[0m                 \u001b[0mself\u001b[0m\u001b[0;34m.\u001b[0m\u001b[0mhas_canonical_format\u001b[0m \u001b[0;34m=\u001b[0m \u001b[0;32mFalse\u001b[0m\u001b[0;34m\u001b[0m\u001b[0;34m\u001b[0m\u001b[0m\n",
      "\u001b[0;32m/opt/conda/lib/python3.9/site-packages/pandas/core/series.py\u001b[0m in \u001b[0;36m__array__\u001b[0;34m(self, dtype)\u001b[0m\n\u001b[1;32m    855\u001b[0m               dtype='datetime64[ns]')\n\u001b[1;32m    856\u001b[0m         \"\"\"\n\u001b[0;32m--> 857\u001b[0;31m         \u001b[0;32mreturn\u001b[0m \u001b[0mnp\u001b[0m\u001b[0;34m.\u001b[0m\u001b[0masarray\u001b[0m\u001b[0;34m(\u001b[0m\u001b[0mself\u001b[0m\u001b[0;34m.\u001b[0m\u001b[0m_values\u001b[0m\u001b[0;34m,\u001b[0m \u001b[0mdtype\u001b[0m\u001b[0;34m)\u001b[0m\u001b[0;34m\u001b[0m\u001b[0;34m\u001b[0m\u001b[0m\n\u001b[0m\u001b[1;32m    858\u001b[0m \u001b[0;34m\u001b[0m\u001b[0m\n\u001b[1;32m    859\u001b[0m     \u001b[0;31m# ----------------------------------------------------------------------\u001b[0m\u001b[0;34m\u001b[0m\u001b[0;34m\u001b[0m\u001b[0m\n",
      "\u001b[0;31mValueError\u001b[0m: invalid literal for int() with base 10: \"One Flew Over the Cuckoo's Nest (1975)\""
     ]
    }
   ],
   "source": [
    "# 실습 위에 설명보고 이해해서 만들어보기\n",
    "from scipy.sparse import csr_matrix\n",
    "\n",
    "num_user = n_data['user_id'].nunique()\n",
    "num_artist = n_data['title'].nunique()\n",
    "\n",
    "csr_data = csr_matrix((n_data.views, (n_data.user_id,n_data.title)), shape= (num_user, num_artist))\n",
    "csr_data"
   ]
  },
  {
   "cell_type": "code",
   "execution_count": 43,
   "id": "1ef57436",
   "metadata": {
    "scrolled": true
   },
   "outputs": [
    {
     "ename": "ValueError",
     "evalue": "column index exceeds matrix dimensions",
     "output_type": "error",
     "traceback": [
      "\u001b[0;31m---------------------------------------------------------------------------\u001b[0m",
      "\u001b[0;31mValueError\u001b[0m                                Traceback (most recent call last)",
      "\u001b[0;32m/tmp/ipykernel_67/338397317.py\u001b[0m in \u001b[0;36m<module>\u001b[0;34m\u001b[0m\n\u001b[1;32m     10\u001b[0m \u001b[0mnum_artist\u001b[0m \u001b[0;34m=\u001b[0m \u001b[0maaaa\u001b[0m\u001b[0;34m[\u001b[0m\u001b[0;34m'eqwr'\u001b[0m\u001b[0;34m]\u001b[0m\u001b[0;34m.\u001b[0m\u001b[0mnunique\u001b[0m\u001b[0;34m(\u001b[0m\u001b[0;34m)\u001b[0m\u001b[0;34m\u001b[0m\u001b[0;34m\u001b[0m\u001b[0m\n\u001b[1;32m     11\u001b[0m \u001b[0;34m\u001b[0m\u001b[0m\n\u001b[0;32m---> 12\u001b[0;31m \u001b[0mcsr_matrix\u001b[0m\u001b[0;34m(\u001b[0m\u001b[0;34m(\u001b[0m\u001b[0maaaa\u001b[0m\u001b[0;34m.\u001b[0m\u001b[0msqa\u001b[0m\u001b[0;34m,\u001b[0m \u001b[0;34m(\u001b[0m\u001b[0maaaa\u001b[0m\u001b[0;34m.\u001b[0m\u001b[0msd\u001b[0m\u001b[0;34m,\u001b[0m \u001b[0maaaa\u001b[0m\u001b[0;34m.\u001b[0m\u001b[0meqwr\u001b[0m\u001b[0;34m)\u001b[0m\u001b[0;34m)\u001b[0m\u001b[0;34m,\u001b[0m \u001b[0mshape\u001b[0m\u001b[0;34m=\u001b[0m\u001b[0;34m(\u001b[0m\u001b[0mnum_user\u001b[0m\u001b[0;34m,\u001b[0m \u001b[0mnum_artist\u001b[0m\u001b[0;34m)\u001b[0m\u001b[0;34m)\u001b[0m\u001b[0;34m\u001b[0m\u001b[0;34m\u001b[0m\u001b[0m\n\u001b[0m",
      "\u001b[0;32m/opt/conda/lib/python3.9/site-packages/scipy/sparse/compressed.py\u001b[0m in \u001b[0;36m__init__\u001b[0;34m(self, arg1, shape, dtype, copy)\u001b[0m\n\u001b[1;32m     52\u001b[0m                     \u001b[0;31m# (data, ij) format\u001b[0m\u001b[0;34m\u001b[0m\u001b[0;34m\u001b[0m\u001b[0m\n\u001b[1;32m     53\u001b[0m                     \u001b[0;32mfrom\u001b[0m \u001b[0;34m.\u001b[0m\u001b[0mcoo\u001b[0m \u001b[0;32mimport\u001b[0m \u001b[0mcoo_matrix\u001b[0m\u001b[0;34m\u001b[0m\u001b[0;34m\u001b[0m\u001b[0m\n\u001b[0;32m---> 54\u001b[0;31m                     other = self.__class__(coo_matrix(arg1, shape=shape,\n\u001b[0m\u001b[1;32m     55\u001b[0m                                                       dtype=dtype))\n\u001b[1;32m     56\u001b[0m                     \u001b[0mself\u001b[0m\u001b[0;34m.\u001b[0m\u001b[0m_set_self\u001b[0m\u001b[0;34m(\u001b[0m\u001b[0mother\u001b[0m\u001b[0;34m)\u001b[0m\u001b[0;34m\u001b[0m\u001b[0;34m\u001b[0m\u001b[0m\n",
      "\u001b[0;32m/opt/conda/lib/python3.9/site-packages/scipy/sparse/coo.py\u001b[0m in \u001b[0;36m__init__\u001b[0;34m(self, arg1, shape, dtype, copy)\u001b[0m\n\u001b[1;32m    194\u001b[0m             \u001b[0mself\u001b[0m\u001b[0;34m.\u001b[0m\u001b[0mdata\u001b[0m \u001b[0;34m=\u001b[0m \u001b[0mself\u001b[0m\u001b[0;34m.\u001b[0m\u001b[0mdata\u001b[0m\u001b[0;34m.\u001b[0m\u001b[0mastype\u001b[0m\u001b[0;34m(\u001b[0m\u001b[0mdtype\u001b[0m\u001b[0;34m,\u001b[0m \u001b[0mcopy\u001b[0m\u001b[0;34m=\u001b[0m\u001b[0;32mFalse\u001b[0m\u001b[0;34m)\u001b[0m\u001b[0;34m\u001b[0m\u001b[0;34m\u001b[0m\u001b[0m\n\u001b[1;32m    195\u001b[0m \u001b[0;34m\u001b[0m\u001b[0m\n\u001b[0;32m--> 196\u001b[0;31m         \u001b[0mself\u001b[0m\u001b[0;34m.\u001b[0m\u001b[0m_check\u001b[0m\u001b[0;34m(\u001b[0m\u001b[0;34m)\u001b[0m\u001b[0;34m\u001b[0m\u001b[0;34m\u001b[0m\u001b[0m\n\u001b[0m\u001b[1;32m    197\u001b[0m \u001b[0;34m\u001b[0m\u001b[0m\n\u001b[1;32m    198\u001b[0m     \u001b[0;32mdef\u001b[0m \u001b[0mreshape\u001b[0m\u001b[0;34m(\u001b[0m\u001b[0mself\u001b[0m\u001b[0;34m,\u001b[0m \u001b[0;34m*\u001b[0m\u001b[0margs\u001b[0m\u001b[0;34m,\u001b[0m \u001b[0;34m**\u001b[0m\u001b[0mkwargs\u001b[0m\u001b[0;34m)\u001b[0m\u001b[0;34m:\u001b[0m\u001b[0;34m\u001b[0m\u001b[0;34m\u001b[0m\u001b[0m\n",
      "\u001b[0;32m/opt/conda/lib/python3.9/site-packages/scipy/sparse/coo.py\u001b[0m in \u001b[0;36m_check\u001b[0;34m(self)\u001b[0m\n\u001b[1;32m    283\u001b[0m                 \u001b[0;32mraise\u001b[0m \u001b[0mValueError\u001b[0m\u001b[0;34m(\u001b[0m\u001b[0;34m'row index exceeds matrix dimensions'\u001b[0m\u001b[0;34m)\u001b[0m\u001b[0;34m\u001b[0m\u001b[0;34m\u001b[0m\u001b[0m\n\u001b[1;32m    284\u001b[0m             \u001b[0;32mif\u001b[0m \u001b[0mself\u001b[0m\u001b[0;34m.\u001b[0m\u001b[0mcol\u001b[0m\u001b[0;34m.\u001b[0m\u001b[0mmax\u001b[0m\u001b[0;34m(\u001b[0m\u001b[0;34m)\u001b[0m \u001b[0;34m>=\u001b[0m \u001b[0mself\u001b[0m\u001b[0;34m.\u001b[0m\u001b[0mshape\u001b[0m\u001b[0;34m[\u001b[0m\u001b[0;36m1\u001b[0m\u001b[0;34m]\u001b[0m\u001b[0;34m:\u001b[0m\u001b[0;34m\u001b[0m\u001b[0;34m\u001b[0m\u001b[0m\n\u001b[0;32m--> 285\u001b[0;31m                 \u001b[0;32mraise\u001b[0m \u001b[0mValueError\u001b[0m\u001b[0;34m(\u001b[0m\u001b[0;34m'column index exceeds matrix dimensions'\u001b[0m\u001b[0;34m)\u001b[0m\u001b[0;34m\u001b[0m\u001b[0;34m\u001b[0m\u001b[0m\n\u001b[0m\u001b[1;32m    286\u001b[0m             \u001b[0;32mif\u001b[0m \u001b[0mself\u001b[0m\u001b[0;34m.\u001b[0m\u001b[0mrow\u001b[0m\u001b[0;34m.\u001b[0m\u001b[0mmin\u001b[0m\u001b[0;34m(\u001b[0m\u001b[0;34m)\u001b[0m \u001b[0;34m<\u001b[0m \u001b[0;36m0\u001b[0m\u001b[0;34m:\u001b[0m\u001b[0;34m\u001b[0m\u001b[0;34m\u001b[0m\u001b[0m\n\u001b[1;32m    287\u001b[0m                 \u001b[0;32mraise\u001b[0m \u001b[0mValueError\u001b[0m\u001b[0;34m(\u001b[0m\u001b[0;34m'negative row index found'\u001b[0m\u001b[0;34m)\u001b[0m\u001b[0;34m\u001b[0m\u001b[0;34m\u001b[0m\u001b[0m\n",
      "\u001b[0;31mValueError\u001b[0m: column index exceeds matrix dimensions"
     ]
    }
   ],
   "source": [
    "from random import randrange\n",
    "\n",
    "aaaa = pd.DataFrame({'sd':list(range(8)), 'sqa':list(range(8,16)), 'eqwr':randrange(1,8)})\n",
    "\n",
    "from scipy.sparse import csr_matrix\n",
    "\n",
    "aaaa.sort_values(by='sd' ,ascending=False)\n",
    "\n",
    "num_user = aaaa['sd'].nunique()\n",
    "num_artist = aaaa['eqwr'].nunique()\n",
    "\n",
    "csr_matrix((aaaa.sqa, (aaaa.sd, aaaa.eqwr)), shape=(num_user, num_artist))\n"
   ]
  },
  {
   "cell_type": "markdown",
   "id": "ef693aba",
   "metadata": {},
   "source": [
    "## 회고\n",
    "\n",
    "csr을 만들기 위해서는 숫자를 넣어야 될 거 같아 새로운 파일로 만들었습니다\n",
    "\n",
    "결과 row index exceeds matrix dimensions 라는 에러만 뜨네요\n",
    "\n",
    "https://stackoverflow.com/questions/46396450/sparse-matrix-valueerror-row-index-exceeds-matrix-dimensions\n",
    "\n",
    "답변을 읽어도 모르겠습니다\n",
    "\n",
    "설마 csr 매트릭스 제작하는 과정에서 이렇게 막힐 줄 몰랐습니다\n",
    "<br/>\n",
    "여튼 저는 영화 이름의 출현 빈도수를 조회수라 정의하고 조회수를 csr_matrix의 첫번째 매게변수로 넣어주고자 했습니다\n",
    "<br/>\n",
    "허나 조회수를 기입하는 단계가 엄청나게 오래걸렸고, 결국 이렇게 되었네요\n",
    "<br/>\n"
   ]
  }
 ],
 "metadata": {
  "kernelspec": {
   "display_name": "Python 3 (ipykernel)",
   "language": "python",
   "name": "python3"
  },
  "language_info": {
   "codemirror_mode": {
    "name": "ipython",
    "version": 3
   },
   "file_extension": ".py",
   "mimetype": "text/x-python",
   "name": "python",
   "nbconvert_exporter": "python",
   "pygments_lexer": "ipython3",
   "version": "3.9.7"
  }
 },
 "nbformat": 4,
 "nbformat_minor": 5
}
