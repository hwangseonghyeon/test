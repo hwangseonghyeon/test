{
 "cells": [
  {
   "cell_type": "code",
   "execution_count": 31,
   "id": "e3994386",
   "metadata": {},
   "outputs": [],
   "source": [
    "import pandas as pd\n",
    "import numpy as np\n",
    "import matplotlib.pyplot as plt\n",
    "import re"
   ]
  },
  {
   "cell_type": "code",
   "execution_count": 32,
   "id": "a6f657b3",
   "metadata": {},
   "outputs": [],
   "source": [
    "train_data = pd.read_table('~/aiffel/sentiment_classification/data/ratings_train.txt')\n",
    "test_data = pd.read_table('~/aiffel/sentiment_classification/data/ratings_test.txt')"
   ]
  },
  {
   "cell_type": "code",
   "execution_count": 33,
   "id": "282d83c0",
   "metadata": {},
   "outputs": [
    {
     "name": "stdout",
     "output_type": "stream",
     "text": [
      "훈련용 리뷰 개수 : 150000\n",
      "테스트용 리뷰 개수 : 50000\n"
     ]
    }
   ],
   "source": [
    "print('훈련용 리뷰 개수 :',len(train_data))\n",
    "\n",
    "print('테스트용 리뷰 개수 :',len(test_data))\n"
   ]
  },
  {
   "cell_type": "code",
   "execution_count": 34,
   "id": "6945f619",
   "metadata": {},
   "outputs": [
    {
     "name": "stdout",
     "output_type": "stream",
     "text": [
      "id          0\n",
      "document    5\n",
      "label       0\n",
      "dtype: int64\n"
     ]
    },
    {
     "data": {
      "text/html": [
       "<div>\n",
       "<style scoped>\n",
       "    .dataframe tbody tr th:only-of-type {\n",
       "        vertical-align: middle;\n",
       "    }\n",
       "\n",
       "    .dataframe tbody tr th {\n",
       "        vertical-align: top;\n",
       "    }\n",
       "\n",
       "    .dataframe thead th {\n",
       "        text-align: right;\n",
       "    }\n",
       "</style>\n",
       "<table border=\"1\" class=\"dataframe\">\n",
       "  <thead>\n",
       "    <tr style=\"text-align: right;\">\n",
       "      <th></th>\n",
       "      <th>id</th>\n",
       "      <th>document</th>\n",
       "      <th>label</th>\n",
       "    </tr>\n",
       "  </thead>\n",
       "  <tbody>\n",
       "    <tr>\n",
       "      <th>25857</th>\n",
       "      <td>2172111</td>\n",
       "      <td>NaN</td>\n",
       "      <td>1</td>\n",
       "    </tr>\n",
       "    <tr>\n",
       "      <th>55737</th>\n",
       "      <td>6369843</td>\n",
       "      <td>NaN</td>\n",
       "      <td>1</td>\n",
       "    </tr>\n",
       "    <tr>\n",
       "      <th>110014</th>\n",
       "      <td>1034280</td>\n",
       "      <td>NaN</td>\n",
       "      <td>0</td>\n",
       "    </tr>\n",
       "    <tr>\n",
       "      <th>126782</th>\n",
       "      <td>5942978</td>\n",
       "      <td>NaN</td>\n",
       "      <td>0</td>\n",
       "    </tr>\n",
       "    <tr>\n",
       "      <th>140721</th>\n",
       "      <td>1034283</td>\n",
       "      <td>NaN</td>\n",
       "      <td>0</td>\n",
       "    </tr>\n",
       "  </tbody>\n",
       "</table>\n",
       "</div>"
      ],
      "text/plain": [
       "             id document  label\n",
       "25857   2172111      NaN      1\n",
       "55737   6369843      NaN      1\n",
       "110014  1034280      NaN      0\n",
       "126782  5942978      NaN      0\n",
       "140721  1034283      NaN      0"
      ]
     },
     "execution_count": 34,
     "metadata": {},
     "output_type": "execute_result"
    }
   ],
   "source": [
    "print(train_data.isnull().sum())\n",
    "train_data.loc[train_data.document.isnull()]\n"
   ]
  },
  {
   "cell_type": "code",
   "execution_count": 35,
   "id": "772bc242",
   "metadata": {},
   "outputs": [
    {
     "name": "stdout",
     "output_type": "stream",
     "text": [
      "id          0\n",
      "document    0\n",
      "label       0\n",
      "dtype: int64\n"
     ]
    }
   ],
   "source": [
    "train_data = train_data.dropna(how = 'any')\n",
    "print(train_data.isnull().sum())\n"
   ]
  },
  {
   "cell_type": "markdown",
   "id": "e56f298e",
   "metadata": {},
   "source": [
    "특수문자가 감정 표현의 역할을 할 때가 있으므로 .을 제외한 나머지 감정 표현을 위해 쓰이는 특수문자는 삭제하지 않았습니다"
   ]
  },
  {
   "cell_type": "code",
   "execution_count": 36,
   "id": "098c25ba",
   "metadata": {},
   "outputs": [
    {
     "name": "stderr",
     "output_type": "stream",
     "text": [
      "/tmp/ipykernel_572/3413504693.py:1: FutureWarning: The default value of regex will change from True to False in a future version.\n",
      "  train_data['document'] = train_data['document'].str.replace(\"[^ㄱ-ㅎㅏ-ㅣ가-힣 ?!^;]\",\"\")\n"
     ]
    },
    {
     "data": {
      "text/html": [
       "<div>\n",
       "<style scoped>\n",
       "    .dataframe tbody tr th:only-of-type {\n",
       "        vertical-align: middle;\n",
       "    }\n",
       "\n",
       "    .dataframe tbody tr th {\n",
       "        vertical-align: top;\n",
       "    }\n",
       "\n",
       "    .dataframe thead th {\n",
       "        text-align: right;\n",
       "    }\n",
       "</style>\n",
       "<table border=\"1\" class=\"dataframe\">\n",
       "  <thead>\n",
       "    <tr style=\"text-align: right;\">\n",
       "      <th></th>\n",
       "      <th>id</th>\n",
       "      <th>document</th>\n",
       "      <th>label</th>\n",
       "    </tr>\n",
       "  </thead>\n",
       "  <tbody>\n",
       "    <tr>\n",
       "      <th>0</th>\n",
       "      <td>9976970</td>\n",
       "      <td>아 더빙 진짜 짜증나네요 목소리</td>\n",
       "      <td>0</td>\n",
       "    </tr>\n",
       "    <tr>\n",
       "      <th>1</th>\n",
       "      <td>3819312</td>\n",
       "      <td>흠포스터보고 초딩영화줄오버연기조차 가볍지 않구나</td>\n",
       "      <td>1</td>\n",
       "    </tr>\n",
       "    <tr>\n",
       "      <th>2</th>\n",
       "      <td>10265843</td>\n",
       "      <td>너무재밓었다그래서보는것을추천한다</td>\n",
       "      <td>0</td>\n",
       "    </tr>\n",
       "    <tr>\n",
       "      <th>3</th>\n",
       "      <td>9045019</td>\n",
       "      <td>교도소 이야기구먼 솔직히 재미는 없다평점 조정</td>\n",
       "      <td>0</td>\n",
       "    </tr>\n",
       "    <tr>\n",
       "      <th>4</th>\n",
       "      <td>6483659</td>\n",
       "      <td>사이몬페그의 익살스런 연기가 돋보였던 영화!스파이더맨에서 늙어보이기만 했던 커스틴 ...</td>\n",
       "      <td>1</td>\n",
       "    </tr>\n",
       "  </tbody>\n",
       "</table>\n",
       "</div>"
      ],
      "text/plain": [
       "         id                                           document  label\n",
       "0   9976970                                  아 더빙 진짜 짜증나네요 목소리      0\n",
       "1   3819312                         흠포스터보고 초딩영화줄오버연기조차 가볍지 않구나      1\n",
       "2  10265843                                  너무재밓었다그래서보는것을추천한다      0\n",
       "3   9045019                          교도소 이야기구먼 솔직히 재미는 없다평점 조정      0\n",
       "4   6483659  사이몬페그의 익살스런 연기가 돋보였던 영화!스파이더맨에서 늙어보이기만 했던 커스틴 ...      1"
      ]
     },
     "execution_count": 36,
     "metadata": {},
     "output_type": "execute_result"
    }
   ],
   "source": [
    "train_data['document'] = train_data['document'].str.replace(\"[^ㄱ-ㅎㅏ-ㅣ가-힣 ?!^;]\",\"\")\n",
    "train_data[:5]"
   ]
  },
  {
   "cell_type": "markdown",
   "id": "dcbc5cc1",
   "metadata": {},
   "source": [
    "문자열은 공란이면 none 값으로 처리되는 게 아니라,\n",
    "빈 리스트처럼 무언가 존재하는 값으로 처리된다\n",
    "\n",
    "이 값을 none으로 바꿔주는 코드가 아래와 같다\n"
   ]
  },
  {
   "cell_type": "code",
   "execution_count": 37,
   "id": "3592eaef",
   "metadata": {},
   "outputs": [
    {
     "name": "stdout",
     "output_type": "stream",
     "text": [
      "id            0\n",
      "document    984\n",
      "label         0\n",
      "dtype: int64\n"
     ]
    },
    {
     "name": "stderr",
     "output_type": "stream",
     "text": [
      "/tmp/ipykernel_572/1966753476.py:1: FutureWarning: The default value of regex will change from True to False in a future version.\n",
      "  train_data['document'] = train_data['document'].str.replace('^ +', \"\")\n"
     ]
    }
   ],
   "source": [
    "train_data['document'] = train_data['document'].str.replace('^ +', \"\")\n",
    "train_data['document'].replace('', np.nan, inplace=True)\n",
    "print(train_data.isnull().sum())\n"
   ]
  },
  {
   "cell_type": "code",
   "execution_count": 38,
   "id": "197f3c40",
   "metadata": {},
   "outputs": [
    {
     "name": "stdout",
     "output_type": "stream",
     "text": [
      "True\n"
     ]
    }
   ],
   "source": [
    "print(train_data.isnull().values.any())"
   ]
  },
  {
   "cell_type": "code",
   "execution_count": 39,
   "id": "b15b4578",
   "metadata": {},
   "outputs": [
    {
     "name": "stdout",
     "output_type": "stream",
     "text": [
      "149011\n"
     ]
    }
   ],
   "source": [
    "train_data = train_data.dropna(how = 'any')\n",
    "print(len(train_data))"
   ]
  },
  {
   "cell_type": "markdown",
   "id": "c51829f6",
   "metadata": {},
   "source": [
    "아래는 문장을 입력하면, 맞춤법을 교정해서 return 해주는 모듈을 사용하는 방법에 대해 서술한 블로그 입니다\n",
    "https://blog.naver.com/PostView.naver?blogId=dsz08082&logNo=222317249656&redirect=Dlog&widgetTypeCall=true&directAccess=false\n",
    "\n",
    "hanspell 이라는 모듈이며, 해당 모듈을 이용해서 문장을 전처리 하고자 했지만,\n",
    "install이 안되어 시도해보지는 못 했습니다\n",
    "\n",
    "하지만 추후 해당 모듈이 왜 install이 안되었고,\n",
    "어떻게 고칠 수 있는지를 알게 된다면 유용하게 쓰일 거 같아 기록해둡니다"
   ]
  },
  {
   "cell_type": "code",
   "execution_count": 40,
   "id": "3958113f",
   "metadata": {},
   "outputs": [
    {
     "name": "stderr",
     "output_type": "stream",
     "text": [
      "/tmp/ipykernel_572/2294496749.py:2: FutureWarning: The default value of regex will change from True to False in a future version.\n",
      "  test_data['document'] = test_data['document'].str.replace(\"[^ㄱ-ㅎㅏ-ㅣ가-힣 ?!^;]\",\"\") # 정규 표현식 수행\n"
     ]
    },
    {
     "name": "stdout",
     "output_type": "stream",
     "text": [
      "전처리 후 테스트용 샘플의 개수 : 48933\n"
     ]
    },
    {
     "name": "stderr",
     "output_type": "stream",
     "text": [
      "/tmp/ipykernel_572/2294496749.py:3: FutureWarning: The default value of regex will change from True to False in a future version.\n",
      "  test_data['document'] = test_data['document'].str.replace('^ +', \"\") # 공백은 empty 값으로 변경\n"
     ]
    }
   ],
   "source": [
    "test_data.drop_duplicates(subset = ['document'], inplace=True) # document 열에서 중복인 내용이 있다면 중복 제거\n",
    "test_data['document'] = test_data['document'].str.replace(\"[^ㄱ-ㅎㅏ-ㅣ가-힣 ?!^;]\",\"\") # 정규 표현식 수행\n",
    "test_data['document'] = test_data['document'].str.replace('^ +', \"\") # 공백은 empty 값으로 변경\n",
    "test_data['document'].replace('', np.nan, inplace=True) # 공백은 Null 값으로 변경\n",
    "test_data = test_data.dropna(how='any') # Null 값 제거\n",
    "print('전처리 후 테스트용 샘플의 개수 :',len(test_data))\n"
   ]
  },
  {
   "cell_type": "code",
   "execution_count": 41,
   "id": "733e71e8",
   "metadata": {},
   "outputs": [
    {
     "name": "stdout",
     "output_type": "stream",
     "text": [
      "[['아', '더', '빙', '진짜', '짜증', '나', '네요', '목소리'], ['흠', '포스터', '보고', '초딩', '영화', '줄', '오버', '연기', '조차', '가볍', '지', '않', '구나'], ['너무', '재', '밓었다그래서보는것을추천한다']]\n"
     ]
    }
   ],
   "source": [
    "from konlpy.tag import Mecab\n",
    "\n",
    "mecab = Mecab()\n",
    "stopwords = ['의','가','이','은','들','는','좀','잘','걍','과','도','를','으로','자','에','와','한','하다']\n",
    "\n",
    "\n",
    "X_train = []\n",
    "for sentence in train_data['document']:\n",
    "    temp_X = mecab.morphs(sentence) # 토큰화\n",
    "    temp_X = [word for word in temp_X if not word in stopwords] # 불용어 제거\n",
    "    X_train.append(temp_X)\n",
    "\n",
    "\n",
    "print(X_train[:3])\n",
    "\n"
   ]
  },
  {
   "cell_type": "markdown",
   "id": "1a246589",
   "metadata": {},
   "source": [
    "# 실패 코드"
   ]
  },
  {
   "cell_type": "markdown",
   "id": "e7592b1c",
   "metadata": {},
   "source": [
    "from konlpy.tag import Okt\n",
    "from konlpy.tag import Kkma\n",
    "from konlpy.tag import Komoran\n",
    "from konlpy.tag import Hannanum\n",
    "\n",
    "\n",
    "X_train_O = []\n",
    "for sentence in train_data['document']:\n",
    "    tokenized_sentence = Okt().morphs(sentence) # 토큰화\n",
    "    stopwords_removed_sentence = [word for word in tokenized_sentence if not word in stopwords] # 불용어 제거\n",
    "    X_train_O.append(stopwords_removed_sentence)\n",
    "\n",
    "print(X_train_O[:3])\n",
    "\n",
    "\n",
    "X_train_K = []\n",
    "for sentence in train_data['document']:\n",
    "    tokenized_sentence = Kkma().morphs(sentence) # 토큰화\n",
    "    stopwords_removed_sentence = [word for word in tokenized_sentence if not word in stopwords] # 불용어 제거\n",
    "    X_train_K.append(stopwords_removed_sentence)\n",
    "\n",
    "print(X_train_K[:3])\n",
    "\n",
    "\n",
    "X_train_Ko = []\n",
    "for sentence in train_data['document']:\n",
    "    tokenized_sentence = Komoran().morphs(sentence) # 토큰화\n",
    "    stopwords_removed_sentence = [word for word in tokenized_sentence if not word in stopwords] # 불용어 제거\n",
    "    X_train_Ko.append(stopwords_removed_sentence)\n",
    "\n",
    "print(X_train_Ko[:3])\n",
    "\n",
    "\n",
    "X_train_H = []\n",
    "for sentence in train_data['document']:\n",
    "    tokenized_sentence = Hannanum().morphs(sentence) # 토큰화\n",
    "    stopwords_removed_sentence = [word for word in tokenized_sentence if not word in stopwords] # 불용어 제거\n",
    "    X_train_H.append(stopwords_removed_sentence)\n",
    "    \n",
    "print(X_train_H[:3])\n"
   ]
  },
  {
   "cell_type": "markdown",
   "id": "34a8f6de",
   "metadata": {},
   "source": [
    "# 실패 원인:\n",
    "konlpy API를 여러개 쓰면 에러가 뜬다는 조원님이 계셨는데,\n",
    "다른 파일에서 Mecab 이외의 모듈을 써 봤는데 딱히 오류가 나지 않았기 때문에 그분 말이 맞는 거 같다\n",
    "\n",
    "임베딩에 대한 차이를 직관적으로 보여주고 싶었지만, 불가능 하므로 글로 쓰겠습니다\n",
    "\n",
    "각 API마다 다른 점은 문장 데이터가 어떤 식으로 맞춤법을 틀렸는지에 따라 쓰임새가 다릅니다\n",
    "(임베딩 소요 시간도 각자 다릅니다)\n",
    "\n",
    "아래 예시\n",
    "\n",
    "사랑하고싶게하는가슴속온감정을헤집어놓는영화예요정말최고\n",
    "\n",
    "Mecab: [[‘사랑/NNG’, ‘하/XSV’, ‘고/EC’, ‘싶/VX’, ‘게/EC’, ‘하/VV’, ‘는/ETM’, ‘가슴속/NNG’, ‘온/VV+ETM’, ‘감정/NNG’, ‘을/JKO’, ‘헤집/VV’, ‘어/EC’, ‘놓/VX’, ‘는/ETM’, ‘영화/NNG’, ‘예요/VCP+EF’, ‘정말/MAG’, ‘최고/NNG’]]\n",
    "\n",
    "Komoran: [[‘사랑/NNG’, ‘하/XSV’, ‘고/EC’, ‘싶/VX’, ‘게/EC’, ‘하/VX’, ‘는/ETM’, ‘가슴속/NNG’, ‘오/VV’, ‘ㄴ/ETM’, ‘감정/NNP’, ‘을/JKO’, ‘헤집/VV’, ‘어/EC’, ‘놓/VX’, ‘는/ETM’, ‘영화/NNP’, ‘예/NNG’, ‘요정/NNP’, ‘말/NNG’, ‘최고/NNP’]]\n",
    "\n",
    "Kkma: [[‘사랑/NNG’, ‘하/XSV’, ‘고/ECE’], [‘싶/VXA’, ‘게/ECD’], [‘하/VV’, ‘는/ETD’], [‘가슴속/NNG’], [‘오/VV’, ‘ㄴ/ETD’], [‘감정/NNG’, ‘을/JKO’], [‘헤집/VV’, ‘어/ECD’], [‘놓/VXV’, ‘는/ETD’], [‘영화/NNG’, ‘이/VCP’, ‘에요/EFN’], [‘정말/MAG’], [‘최고/NNG’]]\n",
    "\n",
    "Okt: [‘사랑/Noun’, ‘하다/Verb’, ‘싶다/Verb’, ‘가슴속/Noun’, ‘온/Noun’, ‘감정/Noun’, ‘을/Josa’, ‘헤집다/Verb’, ‘영화/Noun’, ‘예요/Josa’, ‘정말/Noun’, ‘최고/Noun’]\n",
    "\n",
    "\n",
    "너무재밓었다그래서보는것을추천한다\n",
    "\n",
    "Mecab: [[‘너무/MAG’, ‘재/XPN’, ‘밓었다그래서보는것을추천한다/UNKNOWN’]]\n",
    "\n",
    "Komoran: [[‘너무재밓었다그래서보는것을추천한다/NA’]]\n",
    "\n",
    "Kkma: [[‘너무/MAG’], [‘재/NNG’], [‘밓/UN’], [‘어/VV’, ‘었/EPT’, ‘다/EFN’], [‘그래서/MAC’], [‘보/VV’, ‘는/ETD’], [‘것/NNB’, ‘을/JKO’], [‘추천/NNG’, ‘하/XSV’, ‘ㄴ다/EFN’]]\n",
    "\n",
    "Okt: [‘너/Modifier’, ‘무재/Noun’, ‘밓었/Noun’, ‘다그/Noun’, ‘래서/Noun’, ‘보다/Verb’, ‘추천/Noun’, ‘한/Josa’, ‘다/Adverb’]\n",
    "\n",
    "\n",
    "너무재밋었다그래서보는것을추천한다\n",
    "\n",
    "Mecab: [[‘너무/MAG’, ‘재/XPN’, ‘밋/NNG’, ‘었/EP’, ‘다/EF’, ‘그래서/MAJ’, ‘보/VV’, ‘는/ETM’, ‘것/NNB’, ‘을/JKO’, ‘추천/NNG’, ‘한다/XSV+EC’]]\n",
    "\n",
    "Komoran: [[‘너무재밋었다그래서보는것을추천한다/NA’]]\n",
    "\n",
    "Kkma: [[‘너무/MAG’], [‘재/NNG’], [‘밋/UN’], [‘어/VV’, ‘었/EPT’, ‘다/EFN’], [‘그래서/MAC’], [‘보/VV’, ‘는/ETD’], [‘것/NNB’, ‘을/JKO’], [‘추천/NNG’, ‘하/XSV’, ‘ㄴ다/EFN’]]\n",
    "\n",
    "Okt: [‘너무/Adverb’, ‘재밌다/Adjective’, ‘그래서/Adverb’, ‘보다/Verb’, ‘추천/Noun’, ‘한/Josa’, ‘다/Adverb’]\n",
    "\n",
    "\n",
    "\n",
    "출처: https://soohee410.github.io/compare_tagger\n"
   ]
  },
  {
   "cell_type": "code",
   "execution_count": 42,
   "id": "9bfda66b",
   "metadata": {},
   "outputs": [],
   "source": [
    "X_test = []\n",
    "for sentence in test_data['document']:\n",
    "    temp_X = mecab.morphs(sentence) # 토큰화\n",
    "    temp_X = [word for word in temp_X if not word in stopwords] # 불용어 제거\n",
    "    X_test.append(temp_X)"
   ]
  },
  {
   "cell_type": "code",
   "execution_count": 43,
   "id": "4f5fbde9",
   "metadata": {},
   "outputs": [],
   "source": [
    "from tensorflow.keras.preprocessing.text import Tokenizer\n",
    "\n",
    "tokenizer = Tokenizer()\n",
    "tokenizer.fit_on_texts(X_train)"
   ]
  },
  {
   "cell_type": "code",
   "execution_count": 44,
   "id": "9aa7424e",
   "metadata": {},
   "outputs": [
    {
     "name": "stdout",
     "output_type": "stream",
     "text": [
      "단어 집합(vocabulary)의 크기 : 49940\n",
      "등장 빈도가 2번 이하인 희귀 단어의 수: 28247\n",
      "단어 집합에서 희귀 단어의 비율: 56.56187424909892\n",
      "전체 등장 빈도에서 희귀 단어 등장 빈도 비율: 1.7074476719816445\n"
     ]
    }
   ],
   "source": [
    "threshold = 3\n",
    "total_cnt = len(tokenizer.word_index) # 단어의 수\n",
    "rare_cnt = 0 # 등장 빈도수가 threshold보다 작은 단어의 개수를 카운트\n",
    "total_freq = 0 # 훈련 데이터의 전체 단어 빈도수 총 합\n",
    "rare_freq = 0 # 등장 빈도수가 threshold보다 작은 단어의 등장 빈도수의 총 합\n",
    "\n",
    "# 단어와 빈도수의 쌍(pair)을 key와 value로 받는다.\n",
    "for key, value in tokenizer.word_counts.items():\n",
    "    total_freq = total_freq + value\n",
    "\n",
    "    # 단어의 등장 빈도수가 threshold보다 작으면\n",
    "    if(value < threshold):\n",
    "        rare_cnt = rare_cnt + 1\n",
    "        rare_freq = rare_freq + value\n",
    "\n",
    "print('단어 집합(vocabulary)의 크기 :',total_cnt)\n",
    "print('등장 빈도가 %s번 이하인 희귀 단어의 수: %s'%(threshold - 1, rare_cnt))\n",
    "print(\"단어 집합에서 희귀 단어의 비율:\", (rare_cnt / total_cnt)*100)\n",
    "print(\"전체 등장 빈도에서 희귀 단어 등장 빈도 비율:\", (rare_freq / total_freq)*100)"
   ]
  },
  {
   "cell_type": "code",
   "execution_count": 45,
   "id": "41e5973f",
   "metadata": {},
   "outputs": [
    {
     "name": "stdout",
     "output_type": "stream",
     "text": [
      "단어 집합의 크기 : 21694\n"
     ]
    }
   ],
   "source": [
    "vocab_size = total_cnt - rare_cnt + 1\n",
    "print('단어 집합의 크기 :',vocab_size)"
   ]
  },
  {
   "cell_type": "code",
   "execution_count": 46,
   "id": "481c5cd3",
   "metadata": {},
   "outputs": [],
   "source": [
    "tokenizer = Tokenizer(vocab_size) \n",
    "tokenizer.fit_on_texts(X_train)\n",
    "X_train = tokenizer.texts_to_sequences(X_train)\n",
    "X_test = tokenizer.texts_to_sequences(X_test)"
   ]
  },
  {
   "cell_type": "code",
   "execution_count": 47,
   "id": "12944dc4",
   "metadata": {},
   "outputs": [
    {
     "name": "stdout",
     "output_type": "stream",
     "text": [
      "[[26, 66, 902, 32, 218, 14, 28, 707], [975, 486, 496, 638, 1, 109, 1568, 47, 872, 958, 9, 38, 367], [18, 192]]\n"
     ]
    }
   ],
   "source": [
    "print(X_train[:3])"
   ]
  },
  {
   "cell_type": "code",
   "execution_count": 48,
   "id": "8aa651dd",
   "metadata": {},
   "outputs": [],
   "source": [
    "y_train = np.array(train_data['label'])\n",
    "y_test = np.array(test_data['label'])"
   ]
  },
  {
   "cell_type": "code",
   "execution_count": 49,
   "id": "7aba09c6",
   "metadata": {},
   "outputs": [
    {
     "name": "stdout",
     "output_type": "stream",
     "text": [
      "[10, 793, 3122, 4312, 4414, 5328, 6084, 6371, 6595, 7193, 9156, 9746, 9906, 11127, 12019, 12237, 12900, 15868, 16630, 16705, 17326, 17778, 18862, 19240, 19925, 20029, 20334, 20640, 24681, 24943, 26665, 27492, 28065, 28300, 28410, 28612, 28880, 30054, 30638, 31280, 34753, 35468, 38079, 39924, 40200, 41343, 41669, 43437, 43540, 44740, 46742, 48281, 49678, 49708, 50210, 51219, 51611, 52719, 54586, 55628, 56405, 56755, 57302, 58014, 58083, 58334, 59471, 61092, 62571, 62795, 63126, 63253, 64028, 64855, 65180, 65549, 65878, 65951, 68291, 69029, 69604, 69781, 71010, 72726, 73105, 74165, 74729, 75712, 76320, 77469, 77715, 78832, 79006, 79659, 80036, 80518, 80807, 81334, 81410, 82230, 83061, 85237, 86842, 87087, 87295, 88045, 89123, 89251, 89363, 89399, 90767, 90798, 90936, 93687, 93742, 95588, 95746, 97072, 98582, 101442, 101897, 102786, 105167, 105333, 106989, 107105, 109343, 109356, 109474, 109841, 112692, 113990, 114289, 116122, 116781, 117086, 118590, 118598, 120727, 120753, 121039, 121130, 123975, 126024, 126774, 128089, 128662, 128983, 128996, 129057, 129396, 129419, 133637, 134191, 134596, 134788, 135947, 136122, 136944, 137248, 137379, 137663, 139764, 139859, 140044, 140417, 140425, 141356, 142551, 143370, 143712, 143798, 144080, 144477, 145606, 145792, 146141, 148124, 148460]\n"
     ]
    }
   ],
   "source": [
    "drop_train = [index for index, sentence in enumerate(X_train) if len(sentence) < 1]\n",
    "\n",
    "print(drop_train)"
   ]
  },
  {
   "cell_type": "code",
   "execution_count": 50,
   "id": "d2e352f2",
   "metadata": {},
   "outputs": [
    {
     "name": "stdout",
     "output_type": "stream",
     "text": [
      "149011\n",
      "149011\n",
      "148832\n",
      "148832\n"
     ]
    },
    {
     "name": "stderr",
     "output_type": "stream",
     "text": [
      "/opt/conda/lib/python3.9/site-packages/numpy/lib/function_base.py:4454: VisibleDeprecationWarning: Creating an ndarray from ragged nested sequences (which is a list-or-tuple of lists-or-tuples-or ndarrays with different lengths or shapes) is deprecated. If you meant to do this, you must specify 'dtype=object' when creating the ndarray.\n",
      "  arr = asarray(arr)\n"
     ]
    }
   ],
   "source": [
    "print(len(X_train))\n",
    "print(len(y_train))\n",
    "\n",
    "X_train = np.delete(X_train, drop_train, axis=0)\n",
    "y_train = np.delete(y_train, drop_train, axis=0)\n",
    "print(len(X_train))\n",
    "print(len(y_train))"
   ]
  },
  {
   "cell_type": "code",
   "execution_count": 51,
   "id": "d3e54070",
   "metadata": {},
   "outputs": [
    {
     "name": "stdout",
     "output_type": "stream",
     "text": [
      "리뷰의 최대 길이 : 83\n",
      "리뷰의 최소 길이 : 1\n",
      "리뷰의 평균 길이 : 13.628984358202537\n"
     ]
    },
    {
     "data": {
      "image/png": "[encoded data removed]",
      "text/plain": [
       "<Figure size 432x288 with 1 Axes>"
      ]
     },
     "metadata": {
      "needs_background": "light"
     },
     "output_type": "display_data"
    }
   ],
   "source": [
    "print('리뷰의 최대 길이 :',max(len(review) for review in X_train))\n",
    "print('리뷰의 최소 길이 :',min(len(review) for review in X_train))\n",
    "print('리뷰의 평균 길이 :',sum(map(len, X_train))/len(X_train))\n",
    "plt.hist([len(review) for review in X_train], bins=50)\n",
    "plt.xlabel('length of samples')\n",
    "plt.ylabel('number of samples')\n",
    "plt.show()"
   ]
  },
  {
   "cell_type": "code",
   "execution_count": 52,
   "id": "6fdde0ff",
   "metadata": {},
   "outputs": [
    {
     "name": "stdout",
     "output_type": "stream",
     "text": [
      "전체 샘플 중 길이가 30 이하인 샘플의 비율: 90.87763384218448\n"
     ]
    }
   ],
   "source": [
    "def below_threshold_len(max_len, nested_list):\n",
    "    count = 0\n",
    "    for sentence in nested_list:\n",
    "        if(len(sentence) <= max_len):\n",
    "            count = count + 1\n",
    "    print('전체 샘플 중 길이가 %s 이하인 샘플의 비율: %s'%(max_len, (count / len(nested_list))*100))\n",
    "\n",
    "max_len = 30\n",
    "below_threshold_len(max_len, X_train)\n"
   ]
  },
  {
   "cell_type": "code",
   "execution_count": 53,
   "id": "8eebc48c",
   "metadata": {},
   "outputs": [],
   "source": [
    "from tensorflow.keras.preprocessing.sequence import pad_sequences\n",
    "\n",
    "X_train = pad_sequences(X_train, maxlen=max_len)\n",
    "X_test = pad_sequences(X_test, maxlen=max_len)"
   ]
  },
  {
   "cell_type": "code",
   "execution_count": 54,
   "id": "b8649ce0",
   "metadata": {},
   "outputs": [
    {
     "name": "stdout",
     "output_type": "stream",
     "text": [
      "Epoch 1/15\n",
      "1861/1861 [==============================] - 12s 6ms/step - loss: 0.3844 - acc: 0.8271 - val_loss: 0.3407 - val_acc: 0.8509\n",
      "\n",
      "Epoch 00001: val_acc improved from -inf to 0.85088, saving model to best_model.h5\n",
      "Epoch 2/15\n",
      "1861/1861 [==============================] - 10s 5ms/step - loss: 0.3179 - acc: 0.8636 - val_loss: 0.3210 - val_acc: 0.8610\n",
      "\n",
      "Epoch 00002: val_acc improved from 0.85088 to 0.86102, saving model to best_model.h5\n",
      "Epoch 3/15\n",
      "1861/1861 [==============================] - 10s 5ms/step - loss: 0.2903 - acc: 0.8792 - val_loss: 0.3145 - val_acc: 0.8646\n",
      "\n",
      "Epoch 00003: val_acc improved from 0.86102 to 0.86458, saving model to best_model.h5\n",
      "Epoch 4/15\n",
      "1861/1861 [==============================] - 10s 5ms/step - loss: 0.2700 - acc: 0.8895 - val_loss: 0.3218 - val_acc: 0.8662\n",
      "\n",
      "Epoch 00004: val_acc improved from 0.86458 to 0.86619, saving model to best_model.h5\n",
      "Epoch 5/15\n",
      "1861/1861 [==============================] - 10s 5ms/step - loss: 0.2529 - acc: 0.8982 - val_loss: 0.3125 - val_acc: 0.8692\n",
      "\n",
      "Epoch 00005: val_acc improved from 0.86619 to 0.86915, saving model to best_model.h5\n",
      "Epoch 6/15\n",
      "1861/1861 [==============================] - 10s 5ms/step - loss: 0.2368 - acc: 0.9059 - val_loss: 0.3266 - val_acc: 0.8656\n",
      "\n",
      "Epoch 00006: val_acc did not improve from 0.86915\n",
      "Epoch 7/15\n",
      "1861/1861 [==============================] - 10s 5ms/step - loss: 0.2212 - acc: 0.9129 - val_loss: 0.3306 - val_acc: 0.8665\n",
      "\n",
      "Epoch 00007: val_acc did not improve from 0.86915\n",
      "Epoch 8/15\n",
      "1861/1861 [==============================] - 10s 5ms/step - loss: 0.2059 - acc: 0.9206 - val_loss: 0.3369 - val_acc: 0.8568\n",
      "\n",
      "Epoch 00008: val_acc did not improve from 0.86915\n",
      "Epoch 9/15\n",
      "1861/1861 [==============================] - 10s 5ms/step - loss: 0.1899 - acc: 0.9273 - val_loss: 0.3518 - val_acc: 0.8575\n",
      "\n",
      "Epoch 00009: val_acc did not improve from 0.86915\n",
      "Epoch 00009: early stopping\n"
     ]
    }
   ],
   "source": [
    "from tensorflow.keras.layers import Embedding, Dense, LSTM\n",
    "from tensorflow.keras.models import Sequential\n",
    "from tensorflow.keras.models import load_model\n",
    "from tensorflow.keras.callbacks import EarlyStopping, ModelCheckpoint\n",
    "\n",
    "embedding_dim = 100\n",
    "hidden_units = 128\n",
    "\n",
    "model = Sequential()\n",
    "model.add(Embedding(vocab_size, embedding_dim))\n",
    "model.add(LSTM(hidden_units))\n",
    "model.add(Dense(1, activation='sigmoid'))\n",
    "\n",
    "es = EarlyStopping(monitor='val_loss', mode='min', verbose=1, patience=4)\n",
    "mc = ModelCheckpoint('best_model.h5', monitor='val_acc', mode='max', verbose=1, save_best_only=True)\n",
    "\n",
    "model.compile(optimizer='rmsprop', loss='binary_crossentropy', metrics=['acc'])\n",
    "history = model.fit(X_train, y_train, epochs=15, callbacks=[es, mc], batch_size=64, validation_split=0.2)"
   ]
  },
  {
   "cell_type": "code",
   "execution_count": 55,
   "id": "c2460f3f",
   "metadata": {},
   "outputs": [
    {
     "name": "stdout",
     "output_type": "stream",
     "text": [
      "1530/1530 [==============================] - 4s 2ms/step - loss: 0.3209 - acc: 0.8632\n",
      "\n",
      " 테스트 정확도: 0.8632\n"
     ]
    }
   ],
   "source": [
    "loaded_model = load_model('best_model.h5')\n",
    "print(\"\\n 테스트 정확도: %.4f\" % (loaded_model.evaluate(X_test, y_test)[1]))"
   ]
  },
  {
   "cell_type": "code",
   "execution_count": 56,
   "id": "80530817",
   "metadata": {},
   "outputs": [
    {
     "data": {
      "image/png": "[encoded data removed]",
      "text/plain": [
       "<Figure size 432x288 with 1 Axes>"
      ]
     },
     "metadata": {
      "needs_background": "light"
     },
     "output_type": "display_data"
    }
   ],
   "source": [
    "history_dict = history.history\n",
    "\n",
    "loss = history_dict['loss']\n",
    "val_loss = history_dict['val_loss']\n",
    "epochs = range(1, len(loss)+1)\n",
    "\n",
    "plt.plot(epochs ,loss, label='Training loss')\n",
    "plt.plot(epochs ,val_loss,label='Validation loss')\n",
    "plt.title('Training and validation loss')\n",
    "plt.xlabel('Epochs')\n",
    "plt.ylabel('Loss')\n",
    "plt.legend()\n",
    "plt.show()"
   ]
  },
  {
   "cell_type": "code",
   "execution_count": 57,
   "id": "9bbb2642",
   "metadata": {},
   "outputs": [
    {
     "data": {
      "text/plain": [
       "0.6622524676598615"
      ]
     },
     "execution_count": 57,
     "metadata": {},
     "output_type": "execute_result"
    }
   ],
   "source": [
    "import lightgbm as lgb\n",
    "from sklearn.ensemble import RandomForestClassifier\n",
    "from sklearn.metrics import accuracy_score\n",
    "\n",
    "rf = RandomForestClassifier(n_estimators=350)\n",
    "rf.fit(X_train, y_train)\n",
    "rf_pred = rf.predict(X_test)\n",
    "accuracy_score(y_test, rf_pred)"
   ]
  },
  {
   "cell_type": "code",
   "execution_count": 58,
   "id": "13794d47",
   "metadata": {},
   "outputs": [
    {
     "name": "stdout",
     "output_type": "stream",
     "text": [
      "[LightGBM] [Warning] lambda_l2 is set with lambda=0.8, reg_lambda=0.0 will be ignored. Current value: lambda_l2=0.8\n",
      "[LightGBM] [Warning] feature_fraction is set=0.8, colsample_bytree=1.0 will be ignored. Current value: feature_fraction=0.8\n",
      "[LightGBM] [Warning] bagging_freq is set=5, subsample_freq=0 will be ignored. Current value: bagging_freq=5\n",
      "[LightGBM] [Warning] bagging_fraction is set=0.7, subsample=1.0 will be ignored. Current value: bagging_fraction=0.7\n"
     ]
    },
    {
     "data": {
      "text/plain": [
       "0.7225798540861995"
      ]
     },
     "execution_count": 58,
     "metadata": {},
     "output_type": "execute_result"
    }
   ],
   "source": [
    "params = {\n",
    "    'metric': 'acc',\n",
    "    'learning_rate': 0.05,\n",
    "    'max_depth': -1,          \n",
    "    'num_leaves': 500,        \n",
    "    'feature_fraction': 0.8, \n",
    "    'bagging_fraction': 0.7, \n",
    "    'bagging_freq': 5,\n",
    "    'lambda' : 0.8\n",
    "}\n",
    "\n",
    "lgbm = lgb.LGBMClassifier(**params)\n",
    "lgbm.fit(X_train,y_train)\n",
    "lgb_pred = lgbm.predict(X_test)\n",
    "accuracy_score(y_test, lgb_pred)"
   ]
  },
  {
   "cell_type": "code",
   "execution_count": 61,
   "id": "b2858d5f",
   "metadata": {},
   "outputs": [],
   "source": [
    "def sentiment_predict(new_sentence):\n",
    "    new_sentence = re.sub(r'[^ㄱ-ㅎㅏ-ㅣ가-힣 ]','', new_sentence)\n",
    "    new_sentence = mecab.morphs(new_sentence) # 토큰화\n",
    "    new_sentence = [word for word in new_sentence if not word in stopwords] # 불용어 제거\n",
    "    encoded = tokenizer.texts_to_sequences([new_sentence]) # 정수 인코딩\n",
    "    pad_new = pad_sequences(encoded, maxlen = max_len) # 패딩\n",
    "    score = float(loaded_model.predict(pad_new)) # 예측\n",
    "    if(score > 0.5):\n",
    "        print(\"{:.2f}% 확률로 긍정 리뷰입니다.\\n\".format(score * 100))\n",
    "    else:\n",
    "        print(\"{:.2f}% 확률로 부정 리뷰입니다.\\n\".format((1 - score) * 100))\n",
    "    "
   ]
  },
  {
   "cell_type": "code",
   "execution_count": 62,
   "id": "5435e368",
   "metadata": {},
   "outputs": [
    {
     "name": "stdout",
     "output_type": "stream",
     "text": [
      "73.51% 확률로 부정 리뷰입니다.\n",
      "\n"
     ]
    }
   ],
   "source": [
    "practice = '영화 리뷰 입력'\n",
    "\n",
    "sentiment_predict(practice)"
   ]
  },
  {
   "cell_type": "markdown",
   "id": "ea3422cf",
   "metadata": {},
   "source": [
    "## 회고\n",
    "\n",
    "5주차 정도 되었으면\n",
    "이제 슬슬 완벽하지는 않더라도 처음부터 끝까지 코드를 쌓을 수 있지 않을까 싶었는데,\n",
    "거의 대부분을 인터넷에서 찾은 그대로 복붙했습니다\n",
    "\n",
    "가장 기억에 남는 부분은,\n",
    "pd.read_table() 로 불러온 데이터는 int도 str도 아닌 취급이 되더군요\n",
    "그런데 pd.dropna() 를 해서 결측치를 없애면,\n",
    "그때부터 pd 객체로 인식되어 int 혹은 str 취급이 됩니다\n",
    "\n",
    "그동안 배운 지식들을 이용하면 분명 혼자 쌓을 수 있을 거 같은데,\n",
    "아무것도 없는 상태에서는 아무리 발버둥을 쳐봐도 쌓으면 쌓을 수록 에러만 발생하네요\n",
    "\n",
    "아무래도 이번 설연휴 때 그동안 배운 기능을 라이브러리화 시켜서\n",
    "어딘가에 저장해 바로바로 쓸 수 있게 해야겠습니다\n"
   ]
  },
  {
   "cell_type": "markdown",
   "id": "767e1777",
   "metadata": {},
   "source": [
    "## 다음 목표\n",
    "\n",
    "프로젝트를 끝내는데 드는 시간을 줄이기 어떻게든 줄이기"
   ]
  },
  {
   "cell_type": "code",
   "execution_count": null,
   "id": "67281b6f",
   "metadata": {},
   "outputs": [],
   "source": []
  }
 ],
 "metadata": {
  "kernelspec": {
   "display_name": "Python 3 (ipykernel)",
   "language": "python",
   "name": "python3"
  },
  "language_info": {
   "codemirror_mode": {
    "name": "ipython",
    "version": 3
   },
   "file_extension": ".py",
   "mimetype": "text/x-python",
   "name": "python",
   "nbconvert_exporter": "python",
   "pygments_lexer": "ipython3",
   "version": "3.9.7"
  }
 },
 "nbformat": 4,
 "nbformat_minor": 5
}
