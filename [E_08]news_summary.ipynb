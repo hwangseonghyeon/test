{
 "cells": [
  {
   "cell_type": "markdown",
   "id": "295196ef",
   "metadata": {},
   "source": [
    "## Abstractive 모델 구성을 위한 텍스트 전처리 단계가 체계적으로 진행되었는가\n",
    ":\n",
    "분석 단계, 정제단계, 정규화와 불용어 제거, 데이터셋 분리, 인코딩 과정이 빠짐없이 체계적으로 진행되었는가\n",
    "<br/>\n",
    "<br/>\n",
    "\n",
    "## 텍스트 요약모델이 성공적으로 학습되었음을 확인하였는가\n",
    ":\n",
    "모델학습이 안정적으로 수렴되었음을 그래프를 통해 확인하였으며, 실제 요약문과 유사한 요약문장을 얻을 수 있었다\n",
    "<br/>\n",
    "<br/>\n",
    "\n",
    "## Extractive 요약을 시도해 보고 Abstractive 요약 결과와 함께 비교해 보았는가\n",
    ":\n",
    "두 요약 결과를 문법완성도 측면과 핵심단어 포함 측면으로 나누어 비교분석 결과를 제시하였다"
   ]
  },
  {
   "cell_type": "code",
   "execution_count": 30,
   "id": "61d17243",
   "metadata": {},
   "outputs": [
    {
     "name": "stderr",
     "output_type": "stream",
     "text": [
      "[nltk_data] Downloading package stopwords to /aiffel/nltk_data...\n",
      "[nltk_data]   Package stopwords is already up-to-date!\n"
     ]
    }
   ],
   "source": [
    "import nltk\n",
    "nltk.download('stopwords')\n",
    "\n",
    "import numpy as np\n",
    "import pandas as pd\n",
    "import os\n",
    "import re\n",
    "import matplotlib.pyplot as plt\n",
    "from nltk.corpus import stopwords\n",
    "from bs4 import BeautifulSoup \n",
    "from tensorflow.keras.preprocessing.text import Tokenizer \n",
    "from tensorflow.keras.preprocessing.sequence import pad_sequences\n",
    "import urllib.request\n",
    "import warnings\n",
    "warnings.filterwarnings(\"ignore\", category=UserWarning, module='bs4')\n",
    "\n"
   ]
  },
  {
   "cell_type": "code",
   "execution_count": 31,
   "id": "591e9b66",
   "metadata": {},
   "outputs": [
    {
     "name": "stdout",
     "output_type": "stream",
     "text": [
      "전체 샘플수 : 98401\n",
      "                                           headlines  \\\n",
      "0  upGrad learner switches to career in ML & Al w...   \n",
      "1  Delhi techie wins free food from Swiggy for on...   \n",
      "2  New Zealand end Rohit Sharma-led India's 12-ma...   \n",
      "3  Aegon life iTerm insurance plan helps customer...   \n",
      "4  Have known Hirani for yrs, what if MeToo claim...   \n",
      "\n",
      "                                                text  \n",
      "0  Saurav Kant, an alumnus of upGrad and IIIT-B's...  \n",
      "1  Kunal Shah's credit card bill payment platform...  \n",
      "2  New Zealand defeated India by 8 wickets in the...  \n",
      "3  With Aegon Life iTerm Insurance plan, customer...  \n",
      "4  Speaking about the sexual harassment allegatio...  \n"
     ]
    }
   ],
   "source": [
    "data = pd.read_csv('news_summary_more.csv')\n",
    "print('전체 샘플수 :', (len(data)))\n",
    "\n",
    "print(data.head())"
   ]
  },
  {
   "cell_type": "code",
   "execution_count": 32,
   "id": "2b8a46cb",
   "metadata": {},
   "outputs": [
    {
     "name": "stdout",
     "output_type": "stream",
     "text": [
      "UP cousins fed human excreta for friendship with boys\n",
      "Two minor cousins in Uttar Pradesh's Gorakhpur were allegedly repeatedly burnt with tongs and forced to eat human excreta by their family for being friends with two boys from the same school. The cousins revealed their ordeal to the police and Child Welfare Committee after being brought back to Gorakhpur from Nepal, where they had fled to escape the torture.\n"
     ]
    }
   ],
   "source": [
    "print(data['headlines'][10])\n",
    "print(data['text'][10])\n",
    "\n",
    "data_sample = data.sample(10)"
   ]
  },
  {
   "cell_type": "markdown",
   "id": "b4c217f5",
   "metadata": {},
   "source": [
    "10번째 데이터를 분석해본 결과, 굉장히 흥미로웠습니다\n",
    "\n",
    "뉴스 헤드라인에 우정을 위해서 똥을 먹였다 라는 글이 써져있어서\n",
    "이상치인가? 싶어서 text를 보게 되었는데,\n",
    "똥을 먹인게 폭력이었으며 이를 가해자가 우정이라 치부한 것이었다는 사실을 알게 되었습니다\n",
    "\n",
    "여기서 하나 배우게 된게,\n",
    "뉴스 타이틀은 기본 문법은 지키면서 상식적이지 않고, 자극적인 소재로 쓰면 독자의 호기심을 자극할 수 있구나를 알게 되었습니다"
   ]
  },
  {
   "cell_type": "code",
   "execution_count": 33,
   "id": "7273175d",
   "metadata": {},
   "outputs": [
    {
     "name": "stdout",
     "output_type": "stream",
     "text": [
      "headlines 유일한 샘플의 수 : 98280\n",
      "Text 유일한 샘플의 수 : 98360\n",
      "98401\n"
     ]
    }
   ],
   "source": [
    "print('headlines 유일한 샘플의 수 :', data['headlines'].nunique())\n",
    "print('Text 유일한 샘플의 수 :', data['text'].nunique())\n",
    "\n",
    "print(len(data))"
   ]
  },
  {
   "cell_type": "markdown",
   "id": "a905834e",
   "metadata": {},
   "source": [
    "headlines은 120개의 값이 중복이고,\n",
    "text는 40개의 값이 중복입니다\n",
    "\n",
    "일단 text는 긴 문장이기 때문에 중복이 생기기 어려울텐데 중복이 있으므로 text를 삭제합니다\n",
    "\n",
    "그리고 headlines은 텍스트 내용이 완전히 일치하지 않고 비슷하더라도 똑같은 결과를 낼 수 있기 때문에 삭제하지 않습니다\n",
    "\n",
    "즉 텍스트의 중복값만 삭제해 전체 데이터 중 80개는 text가 다르더라도 headlines이 같을 수 있다는 가능성을 살려줍니다"
   ]
  },
  {
   "cell_type": "code",
   "execution_count": 34,
   "id": "da02c735",
   "metadata": {},
   "outputs": [
    {
     "name": "stdout",
     "output_type": "stream",
     "text": [
      "전체 샘플수 : 98360\n"
     ]
    }
   ],
   "source": [
    "data.drop_duplicates(subset = ['text'], inplace=True)\n",
    "print('전체 샘플수 :', data['text'].nunique())"
   ]
  },
  {
   "cell_type": "code",
   "execution_count": 35,
   "id": "efc79de7",
   "metadata": {
    "scrolled": false
   },
   "outputs": [
    {
     "name": "stdout",
     "output_type": "stream",
     "text": [
      "headlines    0\n",
      "text         0\n",
      "dtype: int64\n"
     ]
    }
   ],
   "source": [
    "print(data.isnull().sum())"
   ]
  },
  {
   "cell_type": "code",
   "execution_count": 36,
   "id": "f1058197",
   "metadata": {},
   "outputs": [
    {
     "name": "stdout",
     "output_type": "stream",
     "text": [
      "(98360,)\n",
      "0\n",
      "0\n",
      "1\n",
      "2\n"
     ]
    }
   ],
   "source": [
    "def str_len(data):\n",
    "    strlen = 0\n",
    "    for i in data:\n",
    "        if len(i) == 0:\n",
    "            strlen +=1\n",
    "            \n",
    "    return strlen\n",
    "\n",
    "print(data['headlines'].shape)\n",
    "print(str_len(data['headlines']))\n",
    "\n",
    "print(str_len(data['text']))\n",
    "\n",
    "\n",
    "# 만든 함수 확인해보기\n",
    "Doh = {'a':['scd', 'qdqw', 'asdca', 'qweqz', '']}\n",
    "print(str_len(Doh['a']))\n",
    "\n",
    "Doh = {'a':['scd', 'qdqw', 'asdca', 'qweqz', '', '']}\n",
    "print(str_len(Doh['a']))"
   ]
  },
  {
   "cell_type": "markdown",
   "id": "d90de3ea",
   "metadata": {},
   "source": [
    "결측치는 없습니다\n",
    "\n",
    "하지만 데이터를 전처리 하다보면 str 길이가 0이지만, 결측치가 아닌 데이터가 생길 수 있기 때문에,\n",
    "\n",
    "len(str)이 0이면 결측치가 있다고 판단하는 함수를 만들었습니다"
   ]
  },
  {
   "cell_type": "code",
   "execution_count": 37,
   "id": "7efa48e7",
   "metadata": {
    "scrolled": true
   },
   "outputs": [
    {
     "name": "stdout",
     "output_type": "stream",
     "text": [
      "정규화 사전의 수:  120\n",
      "불용어 개수 : 179\n",
      "[\"aren't\", \"couldn't\", \"didn't\", \"doesn't\", \"don't\", \"hadn't\", \"hasn't\", \"haven't\", \"isn't\", \"it's\", \"mightn't\", \"mustn't\", \"needn't\", \"shan't\", \"she's\", \"should've\", \"shouldn't\", \"wasn't\", \"weren't\", \"won't\", \"wouldn't\", \"you'd\", \"you'll\", \"you're\", \"you've\"]\n"
     ]
    }
   ],
   "source": [
    "contractions = {\"ain't\": \"is not\", \"aren't\": \"are not\",\"can't\": \"cannot\", \"'cause\": \"because\", \"could've\": \"could have\", \"couldn't\": \"could not\",\n",
    "                           \"didn't\": \"did not\",  \"doesn't\": \"does not\", \"don't\": \"do not\", \"hadn't\": \"had not\", \"hasn't\": \"has not\", \"haven't\": \"have not\",\n",
    "                           \"he'd\": \"he would\",\"he'll\": \"he will\", \"he's\": \"he is\", \"how'd\": \"how did\", \"how'd'y\": \"how do you\", \"how'll\": \"how will\", \"how's\": \"how is\",\n",
    "                           \"I'd\": \"I would\", \"I'd've\": \"I would have\", \"I'll\": \"I will\", \"I'll've\": \"I will have\",\"I'm\": \"I am\", \"I've\": \"I have\", \"i'd\": \"i would\",\n",
    "                           \"i'd've\": \"i would have\", \"i'll\": \"i will\",  \"i'll've\": \"i will have\",\"i'm\": \"i am\", \"i've\": \"i have\", \"isn't\": \"is not\", \"it'd\": \"it would\",\n",
    "                           \"it'd've\": \"it would have\", \"it'll\": \"it will\", \"it'll've\": \"it will have\",\"it's\": \"it is\", \"let's\": \"let us\", \"ma'am\": \"madam\",\n",
    "                           \"mayn't\": \"may not\", \"might've\": \"might have\",\"mightn't\": \"might not\",\"mightn't've\": \"might not have\", \"must've\": \"must have\",\n",
    "                           \"mustn't\": \"must not\", \"mustn't've\": \"must not have\", \"needn't\": \"need not\", \"needn't've\": \"need not have\",\"o'clock\": \"of the clock\",\n",
    "                           \"oughtn't\": \"ought not\", \"oughtn't've\": \"ought not have\", \"shan't\": \"shall not\", \"sha'n't\": \"shall not\", \"shan't've\": \"shall not have\",\n",
    "                           \"she'd\": \"she would\", \"she'd've\": \"she would have\", \"she'll\": \"she will\", \"she'll've\": \"she will have\", \"she's\": \"she is\",\n",
    "                           \"should've\": \"should have\", \"shouldn't\": \"should not\", \"shouldn't've\": \"should not have\", \"so've\": \"so have\",\"so's\": \"so as\",\n",
    "                           \"this's\": \"this is\",\"that'd\": \"that would\", \"that'd've\": \"that would have\", \"that's\": \"that is\", \"there'd\": \"there would\",\n",
    "                           \"there'd've\": \"there would have\", \"there's\": \"there is\", \"here's\": \"here is\",\"they'd\": \"they would\", \"they'd've\": \"they would have\",\n",
    "                           \"they'll\": \"they will\", \"they'll've\": \"they will have\", \"they're\": \"they are\", \"they've\": \"they have\", \"to've\": \"to have\",\n",
    "                           \"wasn't\": \"was not\", \"we'd\": \"we would\", \"we'd've\": \"we would have\", \"we'll\": \"we will\", \"we'll've\": \"we will have\", \"we're\": \"we are\",\n",
    "                           \"we've\": \"we have\", \"weren't\": \"were not\", \"what'll\": \"what will\", \"what'll've\": \"what will have\", \"what're\": \"what are\",\n",
    "                           \"what's\": \"what is\", \"what've\": \"what have\", \"when's\": \"when is\", \"when've\": \"when have\", \"where'd\": \"where did\", \"where's\": \"where is\",\n",
    "                           \"where've\": \"where have\", \"who'll\": \"who will\", \"who'll've\": \"who will have\", \"who's\": \"who is\", \"who've\": \"who have\",\n",
    "                           \"why's\": \"why is\", \"why've\": \"why have\", \"will've\": \"will have\", \"won't\": \"will not\", \"won't've\": \"will not have\",\n",
    "                           \"would've\": \"would have\", \"wouldn't\": \"would not\", \"wouldn't've\": \"would not have\", \"y'all\": \"you all\",\n",
    "                           \"y'all'd\": \"you all would\",\"y'all'd've\": \"you all would have\",\"y'all're\": \"you all are\",\"y'all've\": \"you all have\",\n",
    "                           \"you'd\": \"you would\", \"you'd've\": \"you would have\", \"you'll\": \"you will\", \"you'll've\": \"you will have\",\n",
    "                           \"you're\": \"you are\", \"you've\": \"you have\"}\n",
    "\n",
    "print(\"정규화 사전의 수: \", len(contractions))\n",
    "\n",
    "stopword = stopwords.words('english')\n",
    "\n",
    "print('불용어 개수 :', len(stopword))\n",
    "\n",
    "stop_contraction = []\n",
    "\n",
    "for word in contractions:\n",
    "    if word in stopword:\n",
    "        stop_contraction.append(word)\n",
    "        \n",
    "print(stop_contraction)\n"
   ]
  },
  {
   "cell_type": "markdown",
   "id": "ead86c96",
   "metadata": {},
   "source": [
    "contraction와 stopword가 중복되는 값이 있습니다\n",
    "\n",
    "만약 정규화를 하게 된다면, stopword에 감지되지 않게 됩니다"
   ]
  },
  {
   "cell_type": "code",
   "execution_count": 38,
   "id": "f0715aed",
   "metadata": {},
   "outputs": [
    {
     "name": "stdout",
     "output_type": "stream",
     "text": [
      "120\n",
      "120\n",
      "True\n"
     ]
    }
   ],
   "source": [
    "import copy\n",
    "\n",
    "contractions_c = copy.deepcopy(contractions)\n",
    "\n",
    "print(len(contractions))\n",
    "print(len(contractions_c))\n",
    "\n",
    "print(contractions == contractions_c)"
   ]
  },
  {
   "cell_type": "code",
   "execution_count": 39,
   "id": "04fea8f5",
   "metadata": {},
   "outputs": [],
   "source": [
    "contractions_c\n",
    "\n",
    "for con in contractions.keys():\n",
    "    if con in stop_contraction:\n",
    "        del contractions_c[con]"
   ]
  },
  {
   "cell_type": "code",
   "execution_count": 40,
   "id": "ecc6e749",
   "metadata": {},
   "outputs": [
    {
     "name": "stdout",
     "output_type": "stream",
     "text": [
      "120\n",
      "25\n",
      "95\n"
     ]
    }
   ],
   "source": [
    "print(len(contractions))\n",
    "print(len(stop_contraction))\n",
    "print(len(contractions_c))"
   ]
  },
  {
   "cell_type": "markdown",
   "id": "d43682ab",
   "metadata": {},
   "source": [
    "해당 데이터를 삭제한 또다른 contractions_c를 만들어줍니다\n",
    "\n",
    "허나 해당 데이터를 삭제한다고 무조건 성능이 향상될거란 보장이 없으므로,\n",
    "추후 성능비교를 하고자 합니다"
   ]
  },
  {
   "cell_type": "code",
   "execution_count": 41,
   "id": "ee78f367",
   "metadata": {},
   "outputs": [],
   "source": [
    "# 데이터 전처리 함수 origin\n",
    "def preprocess_sentence(sentence, remove_stopwords=True):\n",
    "    sentence = sentence.lower() # 텍스트 소문자화\n",
    "    sentence = BeautifulSoup(sentence, \"lxml\").text # <br />, <a href = ...> 등의 html 태그 제거\n",
    "    sentence = re.sub(r'\\([^)]*\\)', '', sentence) # 괄호로 닫힌 문자열 (...) 제거 Ex) my husband (and myself!) for => my husband for\n",
    "    sentence = re.sub('\"','', sentence) # 쌍따옴표 \" 제거\n",
    "    sentence = ' '.join([contractions[t] if t in contractions else t for t in sentence.split(\" \")]) # 약어 정규화\n",
    "    sentence = re.sub(r\"'s\\b\",\"\", sentence) # 소유격 제거. Ex) roland's -> roland\n",
    "    sentence = re.sub(\"[^a-zA-Z]\", \" \", sentence) # 영어 외 문자(숫자, 특수문자 등) 공백으로 변환\n",
    "    sentence = re.sub('[m]{2,}', 'mm', sentence) # m이 3개 이상이면 2개로 변경. Ex) ummmmmmm yeah -> umm yeah\n",
    "    \n",
    "    # 불용어 제거 (Text)\n",
    "    if remove_stopwords:\n",
    "        tokens = ' '.join(word for word in sentence.split() if not word in stopwords.words('english') if len(word) > 1)\n",
    "    # 불용어 미제거 (Summary)\n",
    "    else:\n",
    "        tokens = ' '.join(word for word in sentence.split() if len(word) > 1)\n",
    "    return tokens\n",
    "\n"
   ]
  },
  {
   "cell_type": "code",
   "execution_count": 42,
   "id": "5a15f9dd",
   "metadata": {},
   "outputs": [],
   "source": [
    "# 데이터 전처리 함수 v1\n",
    "def preprocess_sentence1(sentence, remove_stopwords=True):\n",
    "    sentence = sentence.lower() # 텍스트 소문자화\n",
    "    sentence = BeautifulSoup(sentence, \"lxml\").text # <br />, <a href = ...> 등의 html 태그 제거\n",
    "    sentence = re.sub(r'\\([^)]*\\)', '', sentence) # 괄호로 닫힌 문자열 (...) 제거 Ex) my husband (and myself!) for => my husband for\n",
    "    sentence = re.sub('\"','', sentence) # 쌍따옴표 \" 제거\n",
    "    sentence = ' '.join([contractions[t] if t in contractions_c else t for t in sentence.split(\" \")]) # 약어 정규화\n",
    "    sentence = re.sub(r\"'s\\b\",\"\", sentence) # 소유격 제거. Ex) roland's -> roland\n",
    "    sentence = re.sub(\"[^a-zA-Z]\", \" \", sentence) # 영어 외 문자(숫자, 특수문자 등) 공백으로 변환\n",
    "    sentence = re.sub('[m]{2,}', 'mm', sentence) # m이 3개 이상이면 2개로 변경. Ex) ummmmmmm yeah -> umm yeah\n",
    "    \n",
    "    # 불용어 제거 (Text)\n",
    "    if remove_stopwords:\n",
    "        tokens = ' '.join(word for word in sentence.split() if not word in stopwords.words('english') if len(word) > 1)\n",
    "    # 불용어 미제거 (Summary)\n",
    "    else:\n",
    "        tokens = ' '.join(word for word in sentence.split() if len(word) > 1)\n",
    "    return tokens\n",
    "\n",
    "# 새로 만든 contractions_c 적용"
   ]
  },
  {
   "cell_type": "code",
   "execution_count": 43,
   "id": "36e0883c",
   "metadata": {},
   "outputs": [
    {
     "name": "stdout",
     "output_type": "stream",
     "text": [
      "text:  everything bought great infact ordered twice third ordered wasfor mother father\n",
      "summary: great way to start the day\n",
      "text:  two minor cousins uttar pradesh gorakhpur allegedly repeatedly burnt tongs forced eat human excreta family friends two boys school cousins revealed ordeal police child welfare committee brought back gorakhpur nepal fled escape torture\n",
      "summary: up cousins fed human excreta for friendship with boys\n",
      "text:  everything bought great infact ordered twice third ordered wasfor mother father\n",
      "summary: great way to start the day\n",
      "text:  two minor cousins uttar pradesh gorakhpur allegedly repeatedly burnt tongs forced eat human excreta family friends two boys school cousins revealed ordeal police child welfare committee brought back gorakhpur nepal fled escape torture\n",
      "summary: up cousins fed human excreta for friendship with boys\n",
      "True\n",
      "True\n",
      "could say agneepath hrithik film completing yrs\n",
      "say agneepath hrithik film completing yrs\n",
      "bharat needs eid release could fit time abcd katrina\n",
      "bharat needs eid release fit time abcd katrina\n",
      "could eat sleep life meaningless chanu doping ban\n",
      "eat sleep life meaningless chanu doping ban\n",
      "bal thackeray would alive today big\n",
      "bal thackeray alive today big\n",
      "pak could yrs pm modi shah yrs delhi cm\n",
      "pak yrs pm modi shah yrs delhi cm\n",
      "offered sanju could pass look test akshaye\n",
      "offered sanju pass look test akshaye\n",
      "would like loose money situation rbi guv liquidity\n",
      "like loose money situation rbi guv liquidity\n",
      "pujara dad could see run knock due heart procedure\n",
      "pujara dad see run knock due heart procedure\n",
      "would like prime minister job australia fast bowler cummins\n",
      "like prime minister job australia fast bowler cummins\n",
      "thought bumrah would last long proved wrong kapil\n",
      "thought bumrah last long proved wrong kapil\n",
      "accusations could truth fb nyt report\n",
      "accusations truth fb nyt report\n",
      "would want face bumrah pitch like perth virat kohli\n",
      "want face bumrah pitch like perth virat kohli\n",
      "could meet srk come back pak man freed months\n",
      "meet srk come back pak man freed months\n",
      "initially could tolerate voice rahat fateh ali khan\n",
      "initially tolerate voice rahat fateh ali khan\n",
      "could pay investors firm made losses producer prernaa\n",
      "pay investors firm made losses producer prernaa\n",
      "could enjoy years kkr due price tag pressure gambhir\n",
      "enjoy years kkr due price tag pressure gambhir\n",
      "mom could recognise airport weight loss sara\n",
      "mom recognise airport weight loss sara\n",
      "would say cool ice kohli run win vs australia\n",
      "say cool ice kohli run win vs australia\n",
      "pm modi could meet expectations bihar upendra kushwaha\n",
      "pm modi meet expectations bihar upendra kushwaha\n",
      "man went missing back family could remember\n",
      "man went missing back family remember\n",
      "would played another world ship lost carlsen\n",
      "played another world ship lost carlsen\n",
      "could even see dhoni mcg boundary kl rahul debut\n",
      "even see dhoni mcg boundary kl rahul debut\n",
      "coach insulted could control tears wt semi mithali\n",
      "coach insulted control tears wt semi mithali\n",
      "adhia told would work day nov jaitley\n",
      "adhia told work day nov jaitley\n",
      "nawazuddin grabbed would let go ex girlfriend\n",
      "nawazuddin grabbed let go ex girlfriend\n",
      "would take money saudi journo murder elon musk\n",
      "take money saudi journo murder elon musk\n",
      "tried yrs could succeed arbaaz relationship\n",
      "tried yrs succeed arbaaz relationship\n",
      "saudi would killed journo without us protection iran\n",
      "saudi killed journo without us protection iran\n",
      "relation ranbir today could better deepika\n",
      "relation ranbir today better deepika\n",
      "braked could stop train sped people threw stones driver\n",
      "braked stop train sped people threw stones driver\n",
      "could spell entrepreneur heard class oyo ceo\n",
      "spell entrepreneur heard class oyo ceo\n",
      "could sit film chup chup ke shahid\n",
      "sit film chup chup ke shahid\n",
      "told saudi king would last without us support trump\n",
      "told saudi king last without us support trump\n",
      "woman sets bus fire could meet pm modi\n",
      "woman sets bus fire meet pm modi\n",
      "could handle indian beer naked chinese men crashing suv\n",
      "handle indian beer naked chinese men crashing suv\n",
      "could happier sumeet getting married ekta\n",
      "happier sumeet getting married ekta\n",
      "could understand happening shaan getting work\n",
      "understand happening shaan getting work\n",
      "wanted continue could digest asiad loss sardar\n",
      "wanted continue digest asiad loss sardar\n",
      "sorry could fix pain ariana tribute late ex\n",
      "sorry fix pain ariana tribute late ex\n",
      "test cricket youngest centurion could save innings loss\n",
      "test cricket youngest centurion save innings loss\n",
      "could get air time champ federer us open exit\n",
      "get air time champ federer us open exit\n",
      "devastated could stop crying alia sridevi demise\n",
      "devastated stop crying alia sridevi demise\n",
      "brexit without deal would end world uk pm\n",
      "brexit without deal end world uk pm\n",
      "could afford milk medal asian games bronze winner\n",
      "afford milk medal asian games bronze winner\n",
      "pm modi could yrs cong rupee slump\n",
      "pm modi yrs cong rupee slump\n",
      "could say read script varun sui dhaaga\n",
      "say read script varun sui dhaaga\n",
      "pm modi could list big achievement interviews cong\n",
      "pm modi list big achievement interviews cong\n",
      "could sleep last night mom england th test\n",
      "sleep last night mom england th test\n",
      "would reacted kid abused dcw bihar cm\n",
      "reacted kid abused dcw bihar cm\n",
      "bhansali wanted padmaavat could get khilji aish\n",
      "bhansali wanted padmaavat get khilji aish\n",
      "could done without achrekar sir sachin\n",
      "done without achrekar sir sachin\n",
      "could look football world cup brazil neymar\n",
      "look football world cup brazil neymar\n",
      "teen could buy shoes wins indonesia st wc gold\n",
      "teen buy shoes wins indonesia st wc gold\n",
      "hima family could see receive gold due power cut\n",
      "hima family see receive gold due power cut\n",
      "could forgive dutt smoking mom hospital room\n",
      "forgive dutt smoking mom hospital room\n",
      "would believe successful xiaomi global vp\n",
      "believe successful xiaomi global vp\n",
      "identified mallya assets could attach police\n",
      "identified mallya assets attach police\n",
      "would able date actor jacqueline fernandez\n",
      "able date actor jacqueline fernandez\n",
      "hurt could help smith aus odi whitewash\n",
      "hurt help smith aus odi whitewash\n",
      "without open microsoft web would happened ceo\n",
      "without open microsoft web happened ceo\n",
      "could chiseled body parmanu john abraham\n",
      "chiseled body parmanu john abraham\n",
      "avengers could stop thanos canadian police\n",
      "avengers stop thanos canadian police\n",
      "anupam kher shares speech could deliver bafta awards\n",
      "anupam kher shares speech deliver bafta awards\n",
      "sachin could kohli done chasing warne\n",
      "sachin kohli done chasing warne\n",
      "elon musk would want compete us candy buffett\n",
      "elon musk want compete us candy buffett\n",
      "could predict storm intensity faulty radar met dept\n",
      "predict storm intensity faulty radar met dept\n",
      "could made raazi without alia meghna gulzar\n",
      "made raazi without alia meghna gulzar\n",
      "could go longer avicii family demise\n",
      "go longer avicii family demise\n",
      "would offer host trump kim jong un meet russia\n",
      "offer host trump kim jong un meet russia\n",
      "largest us oil spill could plugged months\n",
      "largest us oil spill plugged months\n",
      "world cup without would world cup zlatan\n",
      "world cup without world cup zlatan\n",
      "could sleep days dad denied entry saina\n",
      "sleep days dad denied entry saina\n",
      "would give hope gst point raghuram rajan\n",
      "give hope gst point raghuram rajan\n",
      "sad could break cwg record india gold medalist\n",
      "sad break cwg record india gold medalist\n",
      "feeling low could take pain depp divorce\n",
      "feeling low take pain depp divorce\n",
      "rex could stick tongue models incorrect study\n",
      "rex stick tongue models incorrect study\n",
      "race would worked commercially bad bobby\n",
      "race worked commercially bad bobby\n",
      "froze could react nushrat molested fan\n",
      "froze react nushrat molested fan\n",
      "pak must admitted nuclear suppliers group watchdog\n",
      "pak admitted nuclear suppliers group watchdog\n",
      "could sleep also parent javadekar cbse leak\n",
      "sleep also parent javadekar cbse leak\n",
      "would situation cook fb data scandal\n",
      "situation cook fb data scandal\n",
      "could assume missing people dead govt indians death\n",
      "assume missing people dead govt indians death\n",
      "hawking could see taj disabled friendly\n",
      "hawking see taj disabled friendly\n",
      "could remove shirt act cute october varun\n",
      "remove shirt act cute october varun\n",
      "could care less us election meddling putin\n",
      "care less us election meddling putin\n",
      "cult films yet makers could find role manoj\n",
      "cult films yet makers find role manoj\n",
      "would put ai charge command control ex google ceo\n",
      "put ai charge command control ex google ceo\n",
      "could afford batting kit became bowler lungi ngidi\n",
      "afford batting kit became bowler lungi ngidi\n",
      "would career cared haters priyanka\n",
      "career cared haters priyanka\n",
      "uber made profitable would sacrifice growth ceo\n",
      "uber made profitable sacrifice growth ceo\n",
      "would mind seeing trump dead us professor students\n",
      "mind seeing trump dead us professor students\n",
      "beyonc would successful darker skin father\n",
      "beyonc successful darker skin father\n",
      "could think coming back csk ms dhoni\n",
      "think coming back csk ms dhoni\n",
      "hiding taimur gave us privacy would mind saif\n",
      "hiding taimur gave us privacy mind saif\n",
      "muslim women brother pm modi must fear bjp mp\n",
      "muslim women brother pm modi fear bjp mp\n",
      "life earth would possible without fungi study\n",
      "life earth possible without fungi study\n",
      "tiger zinda hai would made without katrina ali\n",
      "tiger zinda hai made without katrina ali\n",
      "sit could find victim accused murthal gang rapes case\n",
      "sit find victim accused murthal gang rapes case\n",
      "bjp achieved pakistan could yrs kejriwal\n",
      "bjp achieved pakistan yrs kejriwal\n",
      "one point could afford thanksgiving dinner dwayne\n",
      "one point afford thanksgiving dinner dwayne\n",
      "would wood salman zareen\n",
      "wood salman zareen\n",
      "delhi civic bodies could identify even one clean area hc\n",
      "delhi civic bodies identify even one clean area hc\n",
      "would identical kohli field gilchrist\n",
      "identical kohli field gilchrist\n",
      "gandhi made patel pm would issue tripura guv\n",
      "gandhi made patel pm issue tripura guv\n",
      "could hack encrypted devices fbi director\n",
      "hack encrypted devices fbi director\n",
      "kundan shah could cope politics showbiz suchitra\n",
      "kundan shah cope politics showbiz suchitra\n",
      "jaitley would job applicant yashwant\n",
      "jaitley job applicant yashwant\n",
      "trump emmy would run prez colbert\n",
      "trump emmy run prez colbert\n",
      "could shoot kapil show due cine strike tiwari\n",
      "shoot kapil show due cine strike tiwari\n",
      "would called women neurotic fired google employee\n",
      "called women neurotic fired google employee\n",
      "parent would want help kid shah nepotism\n",
      "parent want help kid shah nepotism\n",
      "uncle bhatt would actor emraan\n",
      "uncle bhatt actor emraan\n",
      "would made ae dil hai mushkil without aish karan\n",
      "made ae dil hai mushkil without aish karan\n",
      "started revolution could proud akshay\n",
      "started revolution proud akshay\n",
      "srk anushka would faced nepotism ali\n",
      "srk anushka faced nepotism ali\n",
      "armstrong could afford insurance moon mission\n",
      "armstrong afford insurance moon mission\n",
      "rex could run could walked kmph study\n",
      "rex run could walked kmph study\n",
      "priyanka could ask pm min wear sari madhu\n",
      "priyanka ask pm min wear sari madhu\n",
      "could hear voice one last time celina dad death\n",
      "hear voice one last time celina dad death\n",
      "even woods could make golf biz profitable nike founder\n",
      "even woods make golf biz profitable nike founder\n",
      "would take credit stock jump prez buffett\n",
      "take credit stock jump prez buffett\n",
      "professional liar would actor otherwise srk\n",
      "professional liar actor otherwise srk\n",
      "telco fined cr users could call emergency number\n",
      "telco fined cr users call emergency number\n",
      "could make roads pothole free money left cm\n",
      "make roads pothole free money left cm\n",
      "would say sidharth malhotra best friend varun\n",
      "say sidharth malhotra best friend varun\n",
      "could speak english inferiority complex kejriwal\n",
      "speak english inferiority complex kejriwal\n",
      "could move fast enough digital hit us saregama md\n",
      "move fast enough digital hit us saregama md\n",
      "chris would hurt kids taking life says wife\n",
      "chris hurt kids taking life says wife\n",
      "could recognise rajkummar rao look raabta\n",
      "recognise rajkummar rao look raabta\n",
      "shirts made men could sew replace buttons\n",
      "shirts made men sew replace buttons\n",
      "railways asked pay family could use loo\n",
      "railways asked pay family use loo\n",
      "trump would billionaire stupid duterte\n",
      "trump billionaire stupid duterte\n",
      "could done munna bhai mbbs well dutt srk\n",
      "done munna bhai mbbs well dutt srk\n"
     ]
    }
   ],
   "source": [
    "# 전처리 함수 확인하기\n",
    "\n",
    "temp_text = 'Everything I bought was great, infact I ordered twice and the third ordered was<br />for my mother and father.'\n",
    "temp_summary = 'Great way to start (or finish) the day!!!'\n",
    "\n",
    "tdh = data['headlines'][10]\n",
    "tdt = data['text'][10]\n",
    "\n",
    "\n",
    "print(\"text: \", preprocess_sentence(temp_text))\n",
    "print(\"summary:\", preprocess_sentence(temp_summary, False))  # 불용어를 제거하지 않습니다.\n",
    "print(\"text: \", preprocess_sentence(tdt))\n",
    "print(\"summary:\", preprocess_sentence(tdh, False))  # 불용어를 제거하지 않습니다.\n",
    "\n",
    "\n",
    "print(\"text: \", preprocess_sentence1(temp_text))\n",
    "print(\"summary:\", preprocess_sentence1(temp_summary, False))  # 불용어를 제거하지 않습니다.\n",
    "print(\"text: \", preprocess_sentence1(tdt))\n",
    "print(\"summary:\", preprocess_sentence1(tdh, False))  # 불용어를 제거하지 않습니다.\n",
    "\n",
    "\n",
    "print(preprocess_sentence(tdh) == preprocess_sentence1(tdh))\n",
    "print(preprocess_sentence(tdt) == preprocess_sentence1(tdt))\n",
    "\n",
    "for csdif in data['headlines']:\n",
    "    if preprocess_sentence(csdif) == preprocess_sentence1(csdif):\n",
    "        continue\n",
    "    else:\n",
    "        print(preprocess_sentence(csdif))\n",
    "        print(preprocess_sentence1(csdif))\n",
    "        \n"
   ]
  },
  {
   "cell_type": "markdown",
   "id": "e2c5090b",
   "metadata": {},
   "source": [
    "새로 만든 contractions_c가 불용어를 더 확실하게 없앤 것을 확인할 수 있습니다\n",
    "\n",
    "데이터를 headlines으로 한 이유는 text가 너무 길기 때문에,\n",
    "셀의 크기가 커지는 것을 방지하기 위해 headlines으로 더미 실험을 했습니다"
   ]
  },
  {
   "cell_type": "code",
   "execution_count": 44,
   "id": "e8f05637",
   "metadata": {},
   "outputs": [
    {
     "name": "stdout",
     "output_type": "stream",
     "text": [
      "Text 전처리 후 결과:  ['saurav kant alumnus upgrad iiit pg program machine learning artificial intelligence sr systems engineer infosys almost years work experience program upgrad degree career support helped transition data scientist tech mahindra salary hike upgrad online power learning powered lakh careers', 'kunal shah credit card bill payment platform cred gave users chance win free food swiggy one year pranav kaushik delhi techie bagged reward spending cred coins users get one cred coin per rupee bill paid used avail rewards brands like ixigo bookmyshow ubereats cult fit', 'new zealand defeated india wickets fourth odi hamilton thursday win first match five match odi series india lost international match rohit sharma captaincy consecutive victories dating back march match witnessed india getting seventh lowest total odi cricket history', 'aegon life iterm insurance plan customers enjoy tax benefits premiums paid save taxes plan provides life cover age years also customers options insure critical illnesses disability accidental death benefit rider life cover age years', 'speaking sexual harassment allegations rajkumar hirani sonam kapoor said known hirani many years true metoo movement get derailed metoo movement always believe woman case need reserve judgment added hirani accused assistant worked sanju']\n",
      "Summary 전처리 후 결과:  ['upgrad learner switches to career in ml al with salary hike', 'delhi techie wins free food from swiggy for one year on cred', 'new zealand end rohit sharma led india match winning streak', 'aegon life iterm insurance plan helps customers save tax', 'have known hirani for yrs what if metoo claims are not true sonam']\n"
     ]
    }
   ],
   "source": [
    "clean_text = []\n",
    "for s in data['text']:\n",
    "    clean_text.append(preprocess_sentence1(s))\n",
    "\n",
    "print(\"Text 전처리 후 결과: \", clean_text[:5])\n",
    "\n",
    "\n",
    "clean_summary = []\n",
    "for s in data['headlines']:\n",
    "    clean_summary.append(preprocess_sentence1(s, False))\n",
    "\n",
    "print(\"Summary 전처리 후 결과: \", clean_summary[:5])"
   ]
  },
  {
   "cell_type": "code",
   "execution_count": 45,
   "id": "0f311bdd",
   "metadata": {},
   "outputs": [],
   "source": [
    "data['text'] = clean_text\n",
    "data['headlines'] = clean_summary\n",
    "\n",
    "# 빈 값을 Null 값으로 변환\n",
    "data.replace('', np.nan, inplace=True)"
   ]
  },
  {
   "cell_type": "code",
   "execution_count": 46,
   "id": "69d35495",
   "metadata": {
    "scrolled": true
   },
   "outputs": [
    {
     "data": {
      "text/plain": [
       "headlines    0\n",
       "text         0\n",
       "dtype: int64"
      ]
     },
     "execution_count": 46,
     "metadata": {},
     "output_type": "execute_result"
    }
   ],
   "source": [
    "data.isnull().sum()"
   ]
  },
  {
   "cell_type": "markdown",
   "id": "239b6a9a",
   "metadata": {},
   "source": [
    "결측치가 없으니 다음 단계로 넘어가겠습니다"
   ]
  },
  {
   "cell_type": "code",
   "execution_count": 47,
   "id": "049fcff8",
   "metadata": {},
   "outputs": [
    {
     "name": "stdout",
     "output_type": "stream",
     "text": [
      "텍스트의 최소 길이 : 1\n",
      "텍스트의 최대 길이 : 60\n",
      "텍스트의 평균 길이 : 35.09229361529077\n",
      "요약의 최소 길이 : 1\n",
      "요약의 최대 길이 : 16\n",
      "요약의 평균 길이 : 9.27199064660431\n"
     ]
    },
    {
     "data": {
      "image/png": "[encoded data removed]",
      "text/plain": [
       "<Figure size 432x288 with 2 Axes>"
      ]
     },
     "metadata": {
      "needs_background": "light"
     },
     "output_type": "display_data"
    },
    {
     "data": {
      "image/png": "[encoded data removed]",
      "text/plain": [
       "<Figure size 432x288 with 1 Axes>"
      ]
     },
     "metadata": {
      "needs_background": "light"
     },
     "output_type": "display_data"
    },
    {
     "data": {
      "image/png": "[encoded data removed]",
      "text/plain": [
       "<Figure size 432x288 with 1 Axes>"
      ]
     },
     "metadata": {
      "needs_background": "light"
     },
     "output_type": "display_data"
    }
   ],
   "source": [
    "text_len = [len(s.split()) for s in data['text']]\n",
    "summary_len = [len(s.split()) for s in data['headlines']]\n",
    "\n",
    "print('텍스트의 최소 길이 : {}'.format(np.min(text_len)))\n",
    "print('텍스트의 최대 길이 : {}'.format(np.max(text_len)))\n",
    "print('텍스트의 평균 길이 : {}'.format(np.mean(text_len)))\n",
    "print('요약의 최소 길이 : {}'.format(np.min(summary_len)))\n",
    "print('요약의 최대 길이 : {}'.format(np.max(summary_len)))\n",
    "print('요약의 평균 길이 : {}'.format(np.mean(summary_len)))\n",
    "\n",
    "plt.subplot(1,2,1)\n",
    "plt.boxplot(text_len)\n",
    "plt.title('text')\n",
    "plt.subplot(1,2,2)\n",
    "plt.boxplot(summary_len)\n",
    "plt.title('headlines')\n",
    "plt.tight_layout()\n",
    "plt.show()\n",
    "\n",
    "plt.title('text')\n",
    "plt.hist(text_len, bins = 40)\n",
    "plt.xlabel('length of samples')\n",
    "plt.ylabel('number of samples')\n",
    "plt.show()\n",
    "\n",
    "plt.title('headlines')\n",
    "plt.hist(summary_len, bins = 40)\n",
    "plt.xlabel('length of samples')\n",
    "plt.ylabel('number of samples')\n",
    "plt.show()"
   ]
  },
  {
   "cell_type": "code",
   "execution_count": 48,
   "id": "bf1d9fbc",
   "metadata": {},
   "outputs": [
    {
     "name": "stdout",
     "output_type": "stream",
     "text": [
      "전체 샘플 중 길이가 45 이하인 샘플의 비율: 0.9968178121187474\n",
      "전체 샘플 중 길이가 12 이하인 샘플의 비율: 0.9904839365595771\n"
     ]
    }
   ],
   "source": [
    "text_max_len = 45\n",
    "summary_max_len = 12\n",
    "\n",
    "def below_threshold_len(max_len, nested_list):\n",
    "    cnt = 0\n",
    "    for s in nested_list:\n",
    "        if(len(s.split()) <= max_len):\n",
    "            cnt = cnt + 1\n",
    "    print('전체 샘플 중 길이가 %s 이하인 샘플의 비율: %s'%(max_len, (cnt / len(nested_list))))\n",
    "\n",
    "below_threshold_len(text_max_len, data['text'])\n",
    "below_threshold_len(summary_max_len, data['headlines'])\n"
   ]
  },
  {
   "cell_type": "code",
   "execution_count": 49,
   "id": "356f8aba",
   "metadata": {},
   "outputs": [
    {
     "name": "stdout",
     "output_type": "stream",
     "text": [
      "전체 샘플수 : 97114\n"
     ]
    }
   ],
   "source": [
    "data = data[data['text'].apply(lambda x: len(x.split()) <= text_max_len)]\n",
    "data = data[data['headlines'].apply(lambda x: len(x.split()) <= summary_max_len)]\n",
    "print('전체 샘플수 :', (len(data)))"
   ]
  },
  {
   "cell_type": "code",
   "execution_count": 50,
   "id": "7f32e187",
   "metadata": {},
   "outputs": [
    {
     "data": {
      "text/html": [
       "<div>\n",
       "<style scoped>\n",
       "    .dataframe tbody tr th:only-of-type {\n",
       "        vertical-align: middle;\n",
       "    }\n",
       "\n",
       "    .dataframe tbody tr th {\n",
       "        vertical-align: top;\n",
       "    }\n",
       "\n",
       "    .dataframe thead th {\n",
       "        text-align: right;\n",
       "    }\n",
       "</style>\n",
       "<table border=\"1\" class=\"dataframe\">\n",
       "  <thead>\n",
       "    <tr style=\"text-align: right;\">\n",
       "      <th></th>\n",
       "      <th>headlines</th>\n",
       "      <th>text</th>\n",
       "      <th>decoder_input</th>\n",
       "      <th>decoder_target</th>\n",
       "    </tr>\n",
       "  </thead>\n",
       "  <tbody>\n",
       "    <tr>\n",
       "      <th>0</th>\n",
       "      <td>upgrad learner switches to career in ml al wit...</td>\n",
       "      <td>saurav kant alumnus upgrad iiit pg program mac...</td>\n",
       "      <td>sostoken upgrad learner switches to career in ...</td>\n",
       "      <td>upgrad learner switches to career in ml al wit...</td>\n",
       "    </tr>\n",
       "    <tr>\n",
       "      <th>1</th>\n",
       "      <td>delhi techie wins free food from swiggy for on...</td>\n",
       "      <td>kunal shah credit card bill payment platform c...</td>\n",
       "      <td>sostoken delhi techie wins free food from swig...</td>\n",
       "      <td>delhi techie wins free food from swiggy for on...</td>\n",
       "    </tr>\n",
       "    <tr>\n",
       "      <th>2</th>\n",
       "      <td>new zealand end rohit sharma led india match w...</td>\n",
       "      <td>new zealand defeated india wickets fourth odi ...</td>\n",
       "      <td>sostoken new zealand end rohit sharma led indi...</td>\n",
       "      <td>new zealand end rohit sharma led india match w...</td>\n",
       "    </tr>\n",
       "    <tr>\n",
       "      <th>3</th>\n",
       "      <td>aegon life iterm insurance plan helps customer...</td>\n",
       "      <td>aegon life iterm insurance plan customers enjo...</td>\n",
       "      <td>sostoken aegon life iterm insurance plan helps...</td>\n",
       "      <td>aegon life iterm insurance plan helps customer...</td>\n",
       "    </tr>\n",
       "    <tr>\n",
       "      <th>5</th>\n",
       "      <td>rahat fateh ali khan denies getting notice for...</td>\n",
       "      <td>pakistani singer rahat fateh ali khan denied r...</td>\n",
       "      <td>sostoken rahat fateh ali khan denies getting n...</td>\n",
       "      <td>rahat fateh ali khan denies getting notice for...</td>\n",
       "    </tr>\n",
       "  </tbody>\n",
       "</table>\n",
       "</div>"
      ],
      "text/plain": [
       "                                           headlines  \\\n",
       "0  upgrad learner switches to career in ml al wit...   \n",
       "1  delhi techie wins free food from swiggy for on...   \n",
       "2  new zealand end rohit sharma led india match w...   \n",
       "3  aegon life iterm insurance plan helps customer...   \n",
       "5  rahat fateh ali khan denies getting notice for...   \n",
       "\n",
       "                                                text  \\\n",
       "0  saurav kant alumnus upgrad iiit pg program mac...   \n",
       "1  kunal shah credit card bill payment platform c...   \n",
       "2  new zealand defeated india wickets fourth odi ...   \n",
       "3  aegon life iterm insurance plan customers enjo...   \n",
       "5  pakistani singer rahat fateh ali khan denied r...   \n",
       "\n",
       "                                       decoder_input  \\\n",
       "0  sostoken upgrad learner switches to career in ...   \n",
       "1  sostoken delhi techie wins free food from swig...   \n",
       "2  sostoken new zealand end rohit sharma led indi...   \n",
       "3  sostoken aegon life iterm insurance plan helps...   \n",
       "5  sostoken rahat fateh ali khan denies getting n...   \n",
       "\n",
       "                                      decoder_target  \n",
       "0  upgrad learner switches to career in ml al wit...  \n",
       "1  delhi techie wins free food from swiggy for on...  \n",
       "2  new zealand end rohit sharma led india match w...  \n",
       "3  aegon life iterm insurance plan helps customer...  \n",
       "5  rahat fateh ali khan denies getting notice for...  "
      ]
     },
     "execution_count": 50,
     "metadata": {},
     "output_type": "execute_result"
    }
   ],
   "source": [
    "data['decoder_input'] = data['headlines'].apply(lambda x : 'sostoken '+ x)\n",
    "data['decoder_target'] = data['headlines'].apply(lambda x : x + ' eostoken')\n",
    "data.head()"
   ]
  },
  {
   "cell_type": "code",
   "execution_count": 51,
   "id": "73a63e30",
   "metadata": {},
   "outputs": [
    {
     "name": "stdout",
     "output_type": "stream",
     "text": [
      "saurav kant alumnus upgrad iiit pg program machine learning artificial intelligence sr systems engineer infosys almost years work experience program upgrad degree career support helped transition data scientist tech mahindra salary hike upgrad online power learning powered lakh careers\n"
     ]
    }
   ],
   "source": [
    "encoder_input = np.array(data['text']) # 인코더의 입력\n",
    "decoder_input = np.array(data['decoder_input']) # 디코더의 입력\n",
    "decoder_target = np.array(data['decoder_target']) # 디코더의 레이블\n",
    "\n",
    "print(encoder_input[0])"
   ]
  },
  {
   "cell_type": "code",
   "execution_count": 52,
   "id": "548472fe",
   "metadata": {},
   "outputs": [
    {
     "name": "stdout",
     "output_type": "stream",
     "text": [
      "97114\n",
      "97114\n",
      "97114\n",
      "97114\n"
     ]
    }
   ],
   "source": [
    "print(len(data['headlines']))\n",
    "print(len(data['text']))\n",
    "print(len(data['decoder_input']))\n",
    "print(len(data['decoder_target']))"
   ]
  },
  {
   "cell_type": "code",
   "execution_count": 53,
   "id": "537c9f8b",
   "metadata": {},
   "outputs": [
    {
     "name": "stdout",
     "output_type": "stream",
     "text": [
      "[69015   619 15087 ... 73767 59250 18378]\n",
      "테스트 데이터의 수 : 19422\n",
      "훈련 데이터의 개수 : 77692\n",
      "훈련 레이블의 개수 : 77692\n",
      "테스트 데이터의 개수 : 19422\n",
      "테스트 레이블의 개수 : 19422\n"
     ]
    }
   ],
   "source": [
    "indices = np.arange(encoder_input.shape[0])\n",
    "np.random.shuffle(indices)\n",
    "print(indices)\n",
    "\n",
    "encoder_input = encoder_input[indices]\n",
    "decoder_input = decoder_input[indices]\n",
    "decoder_target = decoder_target[indices]\n",
    "\n",
    "n_of_val = int(len(encoder_input)*0.2)\n",
    "print('테스트 데이터의 수 :', n_of_val)\n",
    "# 랜덤 시드를 이런식으로 만들었구나\n",
    "# 0.2는 훈련데이터와 테스트데이터의 비율이고\n",
    "\n",
    "encoder_input_train = encoder_input[:-n_of_val]\n",
    "decoder_input_train = decoder_input[:-n_of_val]\n",
    "decoder_target_train = decoder_target[:-n_of_val]\n",
    "\n",
    "encoder_input_test = encoder_input[-n_of_val:]\n",
    "decoder_input_test = decoder_input[-n_of_val:]\n",
    "decoder_target_test = decoder_target[-n_of_val:]\n",
    "\n",
    "print('훈련 데이터의 개수 :', len(encoder_input_train))\n",
    "print('훈련 레이블의 개수 :', len(decoder_input_train))\n",
    "print('테스트 데이터의 개수 :', len(encoder_input_test))\n",
    "print('테스트 레이블의 개수 :', len(decoder_input_test))"
   ]
  },
  {
   "cell_type": "markdown",
   "id": "8c2481b4",
   "metadata": {},
   "source": [
    "print(src_tokenizer.word_counts.items())\n",
    "\n",
    "위 코드를 실행하면 아래와 같은 결과가 나옵니다\n",
    "![nn](word_counts.items.png)"
   ]
  },
  {
   "cell_type": "markdown",
   "id": "daae92ca",
   "metadata": {},
   "source": [
    "print(src_tokenizer.word_counts)\n",
    "\n",
    "위 코드를 실행하면 아래와 같은 결과가 나옵니다\n",
    "\n",
    "위 코드와의 차이점이 컨테이너 이름 뿐인 거 같은데, 해당 차이가 어떤 역할을 하는지는 잘 모르겠습니다\n",
    "![nn](word_counts.png)"
   ]
  },
  {
   "cell_type": "markdown",
   "id": "1ca7b805",
   "metadata": {},
   "source": [
    "print(src_tokenizer.word_index)\n",
    "\n",
    "위 코드를 실행하면 아래와 같은 결과가 나옵니다\n",
    "![nn](word_index.png)"
   ]
  },
  {
   "cell_type": "markdown",
   "id": "656fd31d",
   "metadata": {},
   "source": [
    "\n",
    "encoder_input_train = encoder_input[:-n_of_val]\n",
    "decoder_input_train = decoder_input[:-n_of_val]\n",
    "decoder_target_train = decoder_target[:-n_of_val]\n",
    "\n",
    "encoder_input_test = encoder_input[-n_of_val:]\n",
    "decoder_input_test = decoder_input[-n_of_val:]\n",
    "decoder_target_test = decoder_target[-n_of_val:]"
   ]
  },
  {
   "cell_type": "code",
   "execution_count": 55,
   "id": "0d6a9dc8",
   "metadata": {},
   "outputs": [],
   "source": [
    "src_tokenizer = Tokenizer() # 토크나이저 정의\n",
    "src_tokenizer.fit_on_texts(encoder_input_train) # 입력된 데이터로부터 단어 집합 생성\n"
   ]
  },
  {
   "cell_type": "code",
   "execution_count": 56,
   "id": "17f2124d",
   "metadata": {
    "scrolled": true
   },
   "outputs": [
    {
     "name": "stdout",
     "output_type": "stream",
     "text": [
      "(69119, 2)\n",
      "42532\n",
      "1\n",
      "34376 42927 61272 67897 69080 69109 69115 69118 69118 69118 69118 69118 69118 69119\n"
     ]
    }
   ],
   "source": [
    "print(np.array(list(src_tokenizer.word_counts.items())).shape)\n",
    "\n",
    "Frequency_src = dict(src_tokenizer.word_counts.items()).values()\n",
    "\n",
    "print(max(list(Frequency_src)))\n",
    "print(min(list(Frequency_src)))\n",
    "#print(list(Frequency_src))\n",
    "\n",
    "\n",
    "p0005 = 0\n",
    "p001 = 0\n",
    "p01 = 0\n",
    "p1 = 0\n",
    "p10 = 0\n",
    "p20 = 0\n",
    "p30 = 0\n",
    "p40 = 0\n",
    "p50 = 0\n",
    "p60 = 0\n",
    "p70 = 0\n",
    "p80 = 0\n",
    "p90 = 0\n",
    "p100 = 0\n",
    "\n",
    "\n",
    "for asqw in list(Frequency_src):\n",
    "    if asqw <= 42662*0.00005:\n",
    "        p0005 += 1\n",
    "    if asqw <= 42662*0.0001:\n",
    "        p001 += 1\n",
    "    if asqw <= 42662*0.001:\n",
    "        p01 += 1\n",
    "    if asqw <= 42662*0.01:\n",
    "        p1 += 1\n",
    "    if asqw <= 42662*0.1:\n",
    "        p10 += 1\n",
    "    if asqw <= 42662*0.2:\n",
    "        p20 += 1\n",
    "    if asqw <= 42662*0.3:\n",
    "        p30 += 1\n",
    "    if asqw <= 42662*0.4:\n",
    "        p40 += 1\n",
    "    if asqw <= 42662*0.5:\n",
    "        p50 += 1\n",
    "    if asqw <= 42662*0.6:\n",
    "        p60 += 1\n",
    "    if asqw <= 42662*0.7:\n",
    "        p70 += 1\n",
    "    if asqw <= 42662*0.8:\n",
    "        p80 += 1\n",
    "    if asqw <= 42662*0.9:\n",
    "        p90 += 1\n",
    "    if asqw <= 42662:\n",
    "        p100 += 1\n",
    "\n",
    "print(p0005,p001,p01,p1,p10, p20, p30, p40, p50, p60, p70, p80, p90, p100)\n",
    "\n",
    "# 최대값을 숫자로 한 이유는 연산시간을 줄이기 위해서 입니다"
   ]
  },
  {
   "cell_type": "markdown",
   "id": "28ab0ea2",
   "metadata": {},
   "source": [
    "1차원 데이터 분포 확인\n",
    "\n",
    "이렇게 하는 게 맞나..?"
   ]
  },
  {
   "cell_type": "code",
   "execution_count": 57,
   "id": "af59c331",
   "metadata": {},
   "outputs": [
    {
     "name": "stdout",
     "output_type": "stream",
     "text": [
      "단어 집합(vocabulary)의 크기 : 69119\n",
      "등장 빈도가 6번 이하인 희귀 단어의 수: 47119\n",
      "단어 집합에서 희귀 단어를 제외시킬 경우의 단어 집합의 크기 22000\n",
      "단어 집합에서 희귀 단어의 비율: 68.17083580491617\n",
      "전체 등장 빈도에서 희귀 단어 등장 빈도 비율: 3.5154701389317147\n"
     ]
    }
   ],
   "source": [
    "threshold = 7\n",
    "total_cnt = len(src_tokenizer.word_index) # 단어의 수\n",
    "rare_cnt = 0 # 등장 빈도수가 threshold보다 작은 단어의 개수를 카운트\n",
    "total_freq = 0 # 훈련 데이터의 전체 단어 빈도수 총 합\n",
    "rare_freq = 0 # 등장 빈도수가 threshold보다 작은 단어의 등장 빈도수의 총 합\n",
    "\n",
    "# 단어와 빈도수의 쌍(pair)을 key와 value로 받는다.\n",
    "for key, value in src_tokenizer.word_counts.items():\n",
    "    total_freq = total_freq + value\n",
    "\n",
    "    # 단어의 등장 빈도수가 threshold보다 작으면\n",
    "    if(value < threshold):\n",
    "        rare_cnt = rare_cnt + 1\n",
    "        rare_freq = rare_freq + value\n",
    "\n",
    "print('단어 집합(vocabulary)의 크기 :', total_cnt)\n",
    "print('등장 빈도가 %s번 이하인 희귀 단어의 수: %s'%(threshold - 1, rare_cnt))\n",
    "print('단어 집합에서 희귀 단어를 제외시킬 경우의 단어 집합의 크기 %s'%(total_cnt - rare_cnt))\n",
    "print(\"단어 집합에서 희귀 단어의 비율:\", (rare_cnt / total_cnt)*100)\n",
    "print(\"전체 등장 빈도에서 희귀 단어 등장 빈도 비율:\", (rare_freq / total_freq)*100)\n"
   ]
  },
  {
   "cell_type": "code",
   "execution_count": 58,
   "id": "5035471a",
   "metadata": {
    "scrolled": true
   },
   "outputs": [
    {
     "name": "stdout",
     "output_type": "stream",
     "text": [
      "22000\n"
     ]
    }
   ],
   "source": [
    "print(total_cnt-rare_cnt)"
   ]
  },
  {
   "cell_type": "code",
   "execution_count": 59,
   "id": "656d9273",
   "metadata": {
    "scrolled": true
   },
   "outputs": [],
   "source": [
    "src_vocab = 22000\n",
    "\n",
    "src_tokenizer = Tokenizer(num_words=src_vocab)\n",
    "src_tokenizer.fit_on_texts(encoder_input_train) # 단어 집합 재생성\n"
   ]
  },
  {
   "cell_type": "code",
   "execution_count": 60,
   "id": "877df628",
   "metadata": {},
   "outputs": [],
   "source": [
    "tar_tokenizer = Tokenizer()\n",
    "tar_tokenizer.fit_on_texts(decoder_input_train)"
   ]
  },
  {
   "cell_type": "code",
   "execution_count": 61,
   "id": "d92128c0",
   "metadata": {},
   "outputs": [
    {
     "name": "stdout",
     "output_type": "stream",
     "text": [
      "단어 집합(vocabulary)의 크기 : 30017\n",
      "등장 빈도가 5번 이하인 희귀 단어의 수: 19641\n",
      "단어 집합에서 희귀 단어를 제외시킬 경우의 단어 집합의 크기 10376\n",
      "단어 집합에서 희귀 단어의 비율: 65.4329213445714\n",
      "전체 등장 빈도에서 희귀 단어 등장 빈도 비율: 4.719620468831141\n"
     ]
    }
   ],
   "source": [
    "threshold = 6\n",
    "total_cnt = len(tar_tokenizer.word_index) # 단어의 수\n",
    "rare_cnt = 0 # 등장 빈도수가 threshold보다 작은 단어의 개수를 카운트\n",
    "total_freq = 0 # 훈련 데이터의 전체 단어 빈도수 총 합\n",
    "rare_freq = 0 # 등장 빈도수가 threshold보다 작은 단어의 등장 빈도수의 총 합\n",
    "\n",
    "# 단어와 빈도수의 쌍(pair)을 key와 value로 받는다.\n",
    "for key, value in tar_tokenizer.word_counts.items():\n",
    "    total_freq = total_freq + value\n",
    "\n",
    "    # 단어의 등장 빈도수가 threshold보다 작으면\n",
    "    if(value < threshold):\n",
    "        rare_cnt = rare_cnt + 1\n",
    "        rare_freq = rare_freq + value\n",
    "\n",
    "print('단어 집합(vocabulary)의 크기 :', total_cnt)\n",
    "print('등장 빈도가 %s번 이하인 희귀 단어의 수: %s'%(threshold - 1, rare_cnt))\n",
    "print('단어 집합에서 희귀 단어를 제외시킬 경우의 단어 집합의 크기 %s'%(total_cnt - rare_cnt))\n",
    "print(\"단어 집합에서 희귀 단어의 비율:\", (rare_cnt / total_cnt)*100)\n",
    "print(\"전체 등장 빈도에서 희귀 단어 등장 빈도 비율:\", (rare_freq / total_freq)*100)"
   ]
  },
  {
   "cell_type": "code",
   "execution_count": 62,
   "id": "5d34bb05",
   "metadata": {},
   "outputs": [
    {
     "name": "stdout",
     "output_type": "stream",
     "text": [
      "(30017, 2)\n",
      "77692\n",
      "1\n",
      "3 16948 7 21291 77 28466 776 29925 7769 30011 15538 30014 23307 30015 31076 30016 38846 30016 46615 30016 54384 30016 62153 30016 69922 30016 77692 30017\n"
     ]
    }
   ],
   "source": [
    "print(np.array(list(tar_tokenizer.word_counts.items())).shape)\n",
    "\n",
    "Frequency_src = dict(tar_tokenizer.word_counts.items()).values()\n",
    "\n",
    "print(max(list(Frequency_src)))\n",
    "print(min(list(Frequency_src)))\n",
    "#print(list(Frequency_src))\n",
    "\n",
    "\n",
    "p0005 = 0\n",
    "p001 = 0\n",
    "p01 = 0\n",
    "p1 = 0\n",
    "p10 = 0\n",
    "p20 = 0\n",
    "p30 = 0\n",
    "p40 = 0\n",
    "p50 = 0\n",
    "p60 = 0\n",
    "p70 = 0\n",
    "p80 = 0\n",
    "p90 = 0\n",
    "p100 = 0\n",
    "\n",
    "\n",
    "for asqw in list(Frequency_src):\n",
    "    if asqw <= 77692*0.00005:\n",
    "        p0005 += 1\n",
    "    if asqw <= 77692*0.0001:\n",
    "        p001 += 1\n",
    "    if asqw <= 77692*0.001:\n",
    "        p01 += 1\n",
    "    if asqw <= 77692*0.01:\n",
    "        p1 += 1\n",
    "    if asqw <= 77692*0.1:\n",
    "        p10 += 1\n",
    "    if asqw <= 77692*0.2:\n",
    "        p20 += 1\n",
    "    if asqw <= 77692*0.3:\n",
    "        p30 += 1\n",
    "    if asqw <= 77692*0.4:\n",
    "        p40 += 1\n",
    "    if asqw <= 77692*0.5:\n",
    "        p50 += 1\n",
    "    if asqw <= 77692*0.6:\n",
    "        p60 += 1\n",
    "    if asqw <= 77692*0.7:\n",
    "        p70 += 1\n",
    "    if asqw <= 77692*0.8:\n",
    "        p80 += 1\n",
    "    if asqw <= 77692*0.9:\n",
    "        p90 += 1\n",
    "    if asqw <= 77692:\n",
    "        p100 += 1\n",
    "\n",
    "print(int(77692*0.00005),p0005,int(77692*0.0001),p001,int(77692*0.001),p01,int(77692*0.01),p1,int(77692*0.1),p10,int(77692*0.20),p20,int(77692*0.3),p30,int(77692*0.4),p40,int(77692*0.5),p50,int(77692*0.6),p60,int(77692*0.7),p70,int(77692*0.8),p80,int(77692*0.9),p90,77692,p100)\n",
    "\n",
    "# 최대값을 숫자로 한 이유는 연산시간을 줄이기 위해서 입니다"
   ]
  },
  {
   "cell_type": "code",
   "execution_count": 63,
   "id": "f9aef952",
   "metadata": {},
   "outputs": [
    {
     "name": "stdout",
     "output_type": "stream",
     "text": [
      "10376\n"
     ]
    }
   ],
   "source": [
    "print(total_cnt-rare_cnt)"
   ]
  },
  {
   "cell_type": "code",
   "execution_count": 64,
   "id": "abbc30f0",
   "metadata": {},
   "outputs": [
    {
     "name": "stdout",
     "output_type": "stream",
     "text": [
      "input\n",
      "input  [[1, 922, 502, 4, 3, 3, 567], [1, 915, 392, 4, 1773, 12, 4, 83], [1, 532, 10, 1853, 23, 7, 942, 222], [1, 18, 7, 1553, 3, 356, 37, 4, 62, 89], [1, 13, 153, 90, 471, 19, 45, 561, 3, 549]]\n",
      "target\n",
      "decoder  [[922, 502, 4, 3, 3, 567, 2], [915, 392, 4, 1773, 12, 4, 83, 2], [532, 10, 1853, 23, 7, 942, 222, 2], [18, 7, 1553, 3, 356, 37, 4, 62, 89, 2], [13, 153, 90, 471, 19, 45, 561, 3, 549, 2]]\n"
     ]
    }
   ],
   "source": [
    "tar_vocab = 2000\n",
    "tar_tokenizer = Tokenizer(num_words=tar_vocab) \n",
    "tar_tokenizer.fit_on_texts(decoder_input_train)\n",
    "tar_tokenizer.fit_on_texts(decoder_target_train)\n",
    "\n",
    "# 텍스트 시퀀스를 정수 시퀀스로 변환\n",
    "decoder_input_train = tar_tokenizer.texts_to_sequences(decoder_input_train) \n",
    "decoder_target_train = tar_tokenizer.texts_to_sequences(decoder_target_train)\n",
    "decoder_input_test = tar_tokenizer.texts_to_sequences(decoder_input_test)\n",
    "decoder_target_test = tar_tokenizer.texts_to_sequences(decoder_target_test)\n",
    "\n",
    "# 잘 변환되었는지 확인\n",
    "print('input ',decoder_input_train[:5])\n",
    "print('decoder ',decoder_target_train[:5])"
   ]
  },
  {
   "cell_type": "code",
   "execution_count": 71,
   "id": "be90c66b",
   "metadata": {
    "scrolled": true
   },
   "outputs": [
    {
     "name": "stdout",
     "output_type": "stream",
     "text": [
      "삭제할 훈련 데이터의 개수 : 0\n",
      "삭제할 테스트 데이터의 개수 : 0\n",
      "훈련 데이터의 개수 : 77682\n",
      "훈련 레이블의 개수 : 77682\n",
      "테스트 데이터의 개수 : 19419\n",
      "테스트 레이블의 개수 : 19419\n"
     ]
    }
   ],
   "source": [
    "drop_train = [index for index, sentence in enumerate(decoder_input_train) if len(sentence) == 1]\n",
    "drop_test = [index for index, sentence in enumerate(decoder_input_test) if len(sentence) == 1]\n",
    "\n",
    "print('삭제할 훈련 데이터의 개수 :', len(drop_train))\n",
    "print('삭제할 테스트 데이터의 개수 :', len(drop_test))\n",
    "\n",
    "encoder_input_train = [sentence for index, sentence in enumerate(encoder_input_train) if index not in drop_train]\n",
    "decoder_input_train = [sentence for index, sentence in enumerate(decoder_input_train) if index not in drop_train]\n",
    "decoder_target_train = [sentence for index, sentence in enumerate(decoder_target_train) if index not in drop_train]\n",
    "\n",
    "encoder_input_test = [sentence for index, sentence in enumerate(encoder_input_test) if index not in drop_test]\n",
    "decoder_input_test = [sentence for index, sentence in enumerate(decoder_input_test) if index not in drop_test]\n",
    "decoder_target_test = [sentence for index, sentence in enumerate(decoder_target_test) if index not in drop_test]\n",
    "\n",
    "print('훈련 데이터의 개수 :', len(encoder_input_train))\n",
    "print('훈련 레이블의 개수 :', len(decoder_input_train))\n",
    "print('테스트 데이터의 개수 :', len(encoder_input_test))\n",
    "print('테스트 레이블의 개수 :', len(decoder_input_test))"
   ]
  },
  {
   "cell_type": "code",
   "execution_count": 72,
   "id": "82d77193",
   "metadata": {},
   "outputs": [
    {
     "name": "stdout",
     "output_type": "stream",
     "text": [
      "[[151, 26, 1283, 804, 68, 854, 1163, 676, 7307, 6415, 17, 1175, 5472, 73, 891, 12437, 6, 255, 854, 761, 445, 290, 1961, 14681, 60, 3, 13, 407, 616, 1146, 2961, 120, 200, 6415], [9, 2112, 73, 2005, 77, 109, 1038, 295, 6119, 2382, 9982, 1039, 5205, 978, 3264, 23814, 1031, 343, 216, 6119, 1861, 1602, 448, 8760, 9, 1, 23814, 1231, 2005, 7004, 672], [4882, 36, 57, 7093, 465, 11465, 8607, 56, 91, 1558, 57, 635, 399, 469, 7094, 47, 4841, 5828, 1472, 1830, 8, 2136, 229, 8607, 1, 2103, 5828, 1486, 1, 50, 113, 46, 9223, 2136, 2064, 2996, 229, 932]]\n",
      "[[1, 922, 502, 4, 3, 3, 567], [1, 915, 392, 4, 1773, 12, 4, 83], [1, 532, 10, 1853, 23, 7, 942, 222]]\n",
      "[[922, 502, 4, 3, 3, 567, 2], [915, 392, 4, 1773, 12, 4, 83, 2], [532, 10, 1853, 23, 7, 942, 222, 2]]\n",
      "[[1972, 2704, 3014, 3067, 2361, 480, 17297, 3642, 271, 2178, 150, 3678, 795, 59, 3747, 24, 795, 150, 480, 28149, 3067, 7632, 1992, 206, 6078, 9780, 1, 372, 271, 193, 174, 291, 1031, 116, 44, 7, 188], [1693, 635, 399, 1865, 1395, 399, 1865, 6675, 6726, 2692, 47, 606, 2, 1560, 631, 31, 465, 2317, 555, 4973, 8927, 6896, 1560, 3258, 16, 1561, 14302, 5568, 427, 12, 191, 379, 1384, 1635], [89, 27, 19, 698, 2409, 840, 1853, 1414, 1019, 19, 197, 1504, 919, 19, 197, 1710, 249, 467, 1414, 2409, 7, 4524, 135, 1414, 22, 789, 919, 38295, 181, 19, 197, 27, 199, 3935, 89, 308, 1696, 919, 397, 306, 492, 3452]]\n",
      "[[1, 1554, 268, 245, 10, 390], [1, 143, 19, 17, 3, 17, 85, 1304, 6, 8], [1, 1505, 231, 1486, 27, 243, 943, 7, 298, 53]]\n",
      "[[1554, 268, 245, 10, 390, 2], [143, 19, 17, 3, 17, 85, 1304, 6, 8, 2], [1505, 231, 1486, 27, 243, 943, 7, 298, 53, 2]]\n"
     ]
    }
   ],
   "source": [
    "src_tokenizer = Tokenizer()\n",
    "src_tokenizer.fit_on_texts(encoder_input_train)\n",
    "# 입력된 데이터로부터 단어 집합 생성\n",
    "\n",
    "# 텍스트 시퀀스를 정수 시퀀스로 변환\n",
    "encoder_input_train = src_tokenizer.texts_to_sequences(encoder_input_train) \n",
    "encoder_input_test = src_tokenizer.texts_to_sequences(encoder_input_test)\n",
    "\n",
    "# 잘 진행되었는지 샘플 출력\n",
    "print(encoder_input_train[:3])\n",
    "print(decoder_input_train[:3])\n",
    "print(decoder_target_train[:3])\n",
    "print(encoder_input_test[:3])\n",
    "print(decoder_input_test[:3])\n",
    "print(decoder_target_test[:3])"
   ]
  },
  {
   "cell_type": "code",
   "execution_count": 73,
   "id": "87aafdbb",
   "metadata": {},
   "outputs": [],
   "source": [
    "encoder_input_train = pad_sequences(encoder_input_train, maxlen=text_max_len, padding='pre')\n",
    "encoder_input_test = pad_sequences(encoder_input_test, maxlen=text_max_len, padding='pre')\n",
    "decoder_input_train = pad_sequences(decoder_input_train, maxlen=summary_max_len, padding='pre')\n",
    "decoder_target_train = pad_sequences(decoder_target_train, maxlen=summary_max_len, padding='pre')\n",
    "decoder_input_test = pad_sequences(decoder_input_test, maxlen=summary_max_len, padding='pre')\n",
    "decoder_target_test = pad_sequences(decoder_target_test, maxlen=summary_max_len, padding='pre')\n",
    "\n"
   ]
  },
  {
   "cell_type": "code",
   "execution_count": 74,
   "id": "fda6e013",
   "metadata": {},
   "outputs": [
    {
     "name": "stdout",
     "output_type": "stream",
     "text": [
      "WARNING:tensorflow:Layer lstm will not use cuDNN kernels since it doesn't meet the criteria. It will use a generic GPU kernel as fallback when running on GPU.\n",
      "WARNING:tensorflow:Layer lstm_1 will not use cuDNN kernels since it doesn't meet the criteria. It will use a generic GPU kernel as fallback when running on GPU.\n",
      "WARNING:tensorflow:Layer lstm_2 will not use cuDNN kernels since it doesn't meet the criteria. It will use a generic GPU kernel as fallback when running on GPU.\n"
     ]
    }
   ],
   "source": [
    "from tensorflow.keras.layers import Input, LSTM, Embedding, Dense, Concatenate, TimeDistributed\n",
    "from tensorflow.keras.models import Model\n",
    "from tensorflow.keras.callbacks import EarlyStopping, ModelCheckpoint\n",
    "\n",
    "\n",
    "# 인코더 설계 시작\n",
    "embedding_dim = 128\n",
    "hidden_size = 256\n",
    "\n",
    "# 인코더\n",
    "encoder_inputs = Input(shape=(text_max_len,))\n",
    "\n",
    "# 인코더의 임베딩 층\n",
    "enc_emb = Embedding(src_vocab, embedding_dim)(encoder_inputs)\n",
    "\n",
    "# 인코더의 LSTM 1\n",
    "encoder_lstm1 = LSTM(hidden_size, return_sequences=True, return_state=True ,dropout = 0.4, recurrent_dropout = 0.4)\n",
    "encoder_output1, state_h1, state_c1 = encoder_lstm1(enc_emb)\n",
    "\n",
    "# 인코더의 LSTM 2\n",
    "encoder_lstm2 = LSTM(hidden_size, return_sequences=True, return_state=True, dropout=0.4, recurrent_dropout=0.4)\n",
    "encoder_output2, state_h2, state_c2 = encoder_lstm2(encoder_output1)\n",
    "\n",
    "# 인코더의 LSTM 3\n",
    "encoder_lstm3 = LSTM(hidden_size, return_state=True, return_sequences=True, dropout=0.4, recurrent_dropout=0.4)\n",
    "encoder_outputs, state_h, state_c= encoder_lstm3(encoder_output2)"
   ]
  },
  {
   "cell_type": "code",
   "execution_count": 75,
   "id": "db47314c",
   "metadata": {},
   "outputs": [
    {
     "name": "stdout",
     "output_type": "stream",
     "text": [
      "WARNING:tensorflow:Layer lstm_3 will not use cuDNN kernels since it doesn't meet the criteria. It will use a generic GPU kernel as fallback when running on GPU.\n"
     ]
    }
   ],
   "source": [
    "# 디코더 설계\n",
    "decoder_inputs = Input(shape=(None,))\n",
    "\n",
    "# 디코더의 임베딩 층\n",
    "dec_emb_layer = Embedding(tar_vocab, embedding_dim)\n",
    "dec_emb = dec_emb_layer(decoder_inputs)\n",
    "\n",
    "# 디코더의 LSTM\n",
    "decoder_lstm = LSTM(hidden_size, return_sequences=True, return_state=True, dropout=0.4, recurrent_dropout=0.2)\n",
    "decoder_outputs, _, _ = decoder_lstm(dec_emb, initial_state=[state_h, state_c])"
   ]
  },
  {
   "cell_type": "code",
   "execution_count": 76,
   "id": "d36ea89a",
   "metadata": {},
   "outputs": [
    {
     "name": "stdout",
     "output_type": "stream",
     "text": [
      "Model: \"model\"\n",
      "__________________________________________________________________________________________________\n",
      "Layer (type)                    Output Shape         Param #     Connected to                     \n",
      "==================================================================================================\n",
      "input_1 (InputLayer)            [(None, 45)]         0                                            \n",
      "__________________________________________________________________________________________________\n",
      "embedding (Embedding)           (None, 45, 128)      2816000     input_1[0][0]                    \n",
      "__________________________________________________________________________________________________\n",
      "lstm (LSTM)                     [(None, 45, 256), (N 394240      embedding[0][0]                  \n",
      "__________________________________________________________________________________________________\n",
      "input_2 (InputLayer)            [(None, None)]       0                                            \n",
      "__________________________________________________________________________________________________\n",
      "lstm_1 (LSTM)                   [(None, 45, 256), (N 525312      lstm[0][0]                       \n",
      "__________________________________________________________________________________________________\n",
      "embedding_1 (Embedding)         (None, None, 128)    256000      input_2[0][0]                    \n",
      "__________________________________________________________________________________________________\n",
      "lstm_2 (LSTM)                   [(None, 45, 256), (N 525312      lstm_1[0][0]                     \n",
      "__________________________________________________________________________________________________\n",
      "lstm_3 (LSTM)                   [(None, None, 256),  394240      embedding_1[0][0]                \n",
      "                                                                 lstm_2[0][1]                     \n",
      "                                                                 lstm_2[0][2]                     \n",
      "__________________________________________________________________________________________________\n",
      "dense (Dense)                   (None, None, 2000)   514000      lstm_3[0][0]                     \n",
      "==================================================================================================\n",
      "Total params: 5,425,104\n",
      "Trainable params: 5,425,104\n",
      "Non-trainable params: 0\n",
      "__________________________________________________________________________________________________\n"
     ]
    }
   ],
   "source": [
    "# 디코더의 출력층\n",
    "decoder_softmax_layer = Dense(tar_vocab, activation='softmax')\n",
    "decoder_softmax_outputs = decoder_softmax_layer(decoder_outputs) \n",
    "\n",
    "# 모델 정의\n",
    "model = Model([encoder_inputs, decoder_inputs], decoder_softmax_outputs)\n",
    "model.summary()"
   ]
  },
  {
   "cell_type": "code",
   "execution_count": 77,
   "id": "216b0970",
   "metadata": {},
   "outputs": [
    {
     "name": "stdout",
     "output_type": "stream",
     "text": [
      "Model: \"model_1\"\n",
      "__________________________________________________________________________________________________\n",
      "Layer (type)                    Output Shape         Param #     Connected to                     \n",
      "==================================================================================================\n",
      "input_1 (InputLayer)            [(None, 45)]         0                                            \n",
      "__________________________________________________________________________________________________\n",
      "embedding (Embedding)           (None, 45, 128)      2816000     input_1[0][0]                    \n",
      "__________________________________________________________________________________________________\n",
      "lstm (LSTM)                     [(None, 45, 256), (N 394240      embedding[0][0]                  \n",
      "__________________________________________________________________________________________________\n",
      "input_2 (InputLayer)            [(None, None)]       0                                            \n",
      "__________________________________________________________________________________________________\n",
      "lstm_1 (LSTM)                   [(None, 45, 256), (N 525312      lstm[0][0]                       \n",
      "__________________________________________________________________________________________________\n",
      "embedding_1 (Embedding)         (None, None, 128)    256000      input_2[0][0]                    \n",
      "__________________________________________________________________________________________________\n",
      "lstm_2 (LSTM)                   [(None, 45, 256), (N 525312      lstm_1[0][0]                     \n",
      "__________________________________________________________________________________________________\n",
      "lstm_3 (LSTM)                   [(None, None, 256),  394240      embedding_1[0][0]                \n",
      "                                                                 lstm_2[0][1]                     \n",
      "                                                                 lstm_2[0][2]                     \n",
      "__________________________________________________________________________________________________\n",
      "attention_layer (AdditiveAttent (None, None, 256)    256         lstm_3[0][0]                     \n",
      "                                                                 lstm_2[0][0]                     \n",
      "__________________________________________________________________________________________________\n",
      "concat_layer (Concatenate)      (None, None, 512)    0           lstm_3[0][0]                     \n",
      "                                                                 attention_layer[0][0]            \n",
      "__________________________________________________________________________________________________\n",
      "dense_1 (Dense)                 (None, None, 2000)   1026000     concat_layer[0][0]               \n",
      "==================================================================================================\n",
      "Total params: 5,937,360\n",
      "Trainable params: 5,937,360\n",
      "Non-trainable params: 0\n",
      "__________________________________________________________________________________________________\n"
     ]
    }
   ],
   "source": [
    "from tensorflow.keras.layers import AdditiveAttention\n",
    "\n",
    "# 어텐션 층(어텐션 함수)\n",
    "attn_layer = AdditiveAttention(name='attention_layer')\n",
    "\n",
    "# 인코더와 디코더의 모든 time step의 hidden state를 어텐션 층에 전달하고 결과를 리턴\n",
    "attn_out = attn_layer([decoder_outputs, encoder_outputs])\n",
    "\n",
    "\n",
    "# 어텐션의 결과와 디코더의 hidden state들을 연결\n",
    "decoder_concat_input = Concatenate(axis=-1, name='concat_layer')([decoder_outputs, attn_out])\n",
    "\n",
    "# 디코더의 출력층\n",
    "decoder_softmax_layer = Dense(tar_vocab, activation='softmax')\n",
    "decoder_softmax_outputs = decoder_softmax_layer(decoder_concat_input)\n",
    "\n",
    "# 모델 정의\n",
    "model = Model([encoder_inputs, decoder_inputs], decoder_softmax_outputs)\n",
    "model.summary()"
   ]
  },
  {
   "cell_type": "code",
   "execution_count": 78,
   "id": "b38f7f3c",
   "metadata": {},
   "outputs": [
    {
     "name": "stdout",
     "output_type": "stream",
     "text": [
      "Epoch 1/50\n",
      "304/304 [==============================] - 243s 760ms/step - loss: 3.8181 - val_loss: 3.6112\n",
      "Epoch 2/50\n",
      "304/304 [==============================] - 231s 759ms/step - loss: 3.5521 - val_loss: 3.4735\n",
      "Epoch 3/50\n",
      "304/304 [==============================] - 230s 758ms/step - loss: 3.4405 - val_loss: 3.3610\n",
      "Epoch 4/50\n",
      "304/304 [==============================] - 231s 759ms/step - loss: 3.3281 - val_loss: 3.3522\n",
      "Epoch 5/50\n",
      "304/304 [==============================] - 226s 745ms/step - loss: 3.2371 - val_loss: 3.1933\n",
      "Epoch 6/50\n",
      "304/304 [==============================] - 187s 615ms/step - loss: 3.1678 - val_loss: 3.1399\n",
      "Epoch 7/50\n",
      "304/304 [==============================] - 187s 617ms/step - loss: 3.1124 - val_loss: 3.1008\n",
      "Epoch 8/50\n",
      "304/304 [==============================] - 187s 617ms/step - loss: 3.0688 - val_loss: 3.0701\n",
      "Epoch 9/50\n",
      "304/304 [==============================] - 187s 616ms/step - loss: 3.0221 - val_loss: 3.0089\n",
      "Epoch 10/50\n",
      "304/304 [==============================] - 187s 616ms/step - loss: 2.9432 - val_loss: 2.9323\n",
      "Epoch 11/50\n",
      "304/304 [==============================] - 187s 616ms/step - loss: 2.8496 - val_loss: 2.8414\n",
      "Epoch 12/50\n",
      "304/304 [==============================] - 187s 614ms/step - loss: 2.7507 - val_loss: 2.7555\n",
      "Epoch 13/50\n",
      "304/304 [==============================] - 187s 615ms/step - loss: 2.6556 - val_loss: 2.6958\n",
      "Epoch 14/50\n",
      "304/304 [==============================] - 187s 614ms/step - loss: 2.5678 - val_loss: 2.6167\n",
      "Epoch 15/50\n",
      "304/304 [==============================] - 187s 615ms/step - loss: 2.4866 - val_loss: 2.5572\n",
      "Epoch 16/50\n",
      "304/304 [==============================] - 188s 619ms/step - loss: 2.4118 - val_loss: 2.5128\n",
      "Epoch 17/50\n",
      "304/304 [==============================] - 187s 615ms/step - loss: 2.3427 - val_loss: 2.4656\n",
      "Epoch 18/50\n",
      "304/304 [==============================] - 187s 615ms/step - loss: 2.2800 - val_loss: 2.4280\n",
      "Epoch 19/50\n",
      "304/304 [==============================] - 187s 615ms/step - loss: 2.2220 - val_loss: 2.3944\n",
      "Epoch 20/50\n",
      "304/304 [==============================] - 187s 615ms/step - loss: 2.1709 - val_loss: 2.3696\n",
      "Epoch 21/50\n",
      "304/304 [==============================] - 188s 618ms/step - loss: 2.1242 - val_loss: 2.3471\n",
      "Epoch 22/50\n",
      "304/304 [==============================] - 188s 620ms/step - loss: 2.0802 - val_loss: 2.3307\n",
      "Epoch 23/50\n",
      "304/304 [==============================] - 189s 621ms/step - loss: 2.0406 - val_loss: 2.3135\n",
      "Epoch 24/50\n",
      "304/304 [==============================] - 189s 621ms/step - loss: 2.0039 - val_loss: 2.3063\n",
      "Epoch 25/50\n",
      "304/304 [==============================] - 188s 619ms/step - loss: 1.9695 - val_loss: 2.2925\n",
      "Epoch 26/50\n",
      "304/304 [==============================] - 188s 619ms/step - loss: 1.9381 - val_loss: 2.2836\n",
      "Epoch 27/50\n",
      "304/304 [==============================] - 188s 618ms/step - loss: 1.9089 - val_loss: 2.2765\n",
      "Epoch 28/50\n",
      "304/304 [==============================] - 188s 620ms/step - loss: 1.8799 - val_loss: 2.2744\n",
      "Epoch 29/50\n",
      "304/304 [==============================] - 188s 618ms/step - loss: 1.8530 - val_loss: 2.2706\n",
      "Epoch 30/50\n",
      "304/304 [==============================] - 188s 619ms/step - loss: 1.8287 - val_loss: 2.2683\n",
      "Epoch 31/50\n",
      "304/304 [==============================] - 189s 621ms/step - loss: 1.8039 - val_loss: 2.2622\n",
      "Epoch 32/50\n",
      "304/304 [==============================] - 188s 618ms/step - loss: 1.7818 - val_loss: 2.2619\n",
      "Epoch 33/50\n",
      "304/304 [==============================] - 188s 618ms/step - loss: 1.7604 - val_loss: 2.2604\n",
      "Epoch 34/50\n",
      "304/304 [==============================] - 188s 619ms/step - loss: 1.7403 - val_loss: 2.2625\n",
      "Epoch 35/50\n",
      "304/304 [==============================] - 188s 619ms/step - loss: 1.7209 - val_loss: 2.2621\n",
      "Epoch 00035: early stopping\n"
     ]
    }
   ],
   "source": [
    "model.compile(optimizer='rmsprop', loss='sparse_categorical_crossentropy')\n",
    "es = EarlyStopping(monitor='val_loss', patience=2, verbose=1)\n",
    "history = model.fit(x=[encoder_input_train, decoder_input_train], y=decoder_target_train, \\\n",
    "          validation_data=([encoder_input_test, decoder_input_test], decoder_target_test), \\\n",
    "          batch_size=256, callbacks=[es], epochs=50)"
   ]
  },
  {
   "cell_type": "code",
   "execution_count": 79,
   "id": "df60afe7",
   "metadata": {},
   "outputs": [
    {
     "data": {
      "image/png": "[encoded data removed]",
      "text/plain": [
       "<Figure size 432x288 with 1 Axes>"
      ]
     },
     "metadata": {
      "needs_background": "light"
     },
     "output_type": "display_data"
    }
   ],
   "source": [
    "plt.plot(history.history['loss'], label='train')\n",
    "plt.plot(history.history['val_loss'], label='test')\n",
    "plt.legend()\n",
    "plt.show()"
   ]
  },
  {
   "cell_type": "code",
   "execution_count": 80,
   "id": "f5ae677c",
   "metadata": {},
   "outputs": [],
   "source": [
    "src_index_to_word = src_tokenizer.index_word # 원문 단어 집합에서 정수 -> 단어를 얻음\n",
    "tar_word_to_index = tar_tokenizer.word_index # 요약 단어 집합에서 단어 -> 정수를 얻음\n",
    "tar_index_to_word = tar_tokenizer.index_word # 요약 단어 집합에서 정수 -> 단어를 얻음\n"
   ]
  },
  {
   "cell_type": "code",
   "execution_count": 81,
   "id": "c4e25b5f",
   "metadata": {},
   "outputs": [],
   "source": [
    "# 인코더 설계\n",
    "encoder_model = Model(inputs=encoder_inputs, outputs=[encoder_outputs, state_h, state_c])\n",
    "\n",
    "# 이전 시점의 상태들을 저장하는 텐서\n",
    "decoder_state_input_h = Input(shape=(hidden_size,))\n",
    "decoder_state_input_c = Input(shape=(hidden_size,))\n",
    "\n",
    "dec_emb2 = dec_emb_layer(decoder_inputs)\n",
    "\n",
    "# 문장의 다음 단어를 예측하기 위해서 초기 상태(initial_state)를 이전 시점의 상태로 사용. 이는 뒤의 함수 decode_sequence()에 구현\n",
    "# 훈련 과정에서와 달리 LSTM의 리턴하는 은닉 상태와 셀 상태인 state_h와 state_c를 버리지 않음.\n",
    "decoder_outputs2, state_h2, state_c2 = decoder_lstm(dec_emb2, initial_state=[decoder_state_input_h, decoder_state_input_c])\n"
   ]
  },
  {
   "cell_type": "code",
   "execution_count": 82,
   "id": "1afedf39",
   "metadata": {},
   "outputs": [],
   "source": [
    "# 어텐션 함수\n",
    "decoder_hidden_state_input = Input(shape=(text_max_len, hidden_size))\n",
    "attn_out_inf = attn_layer([decoder_outputs2, decoder_hidden_state_input])\n",
    "decoder_inf_concat = Concatenate(axis=-1, name='concat')([decoder_outputs2, attn_out_inf])\n",
    "\n",
    "# 디코더의 출력층\n",
    "decoder_outputs2 = decoder_softmax_layer(decoder_inf_concat) \n",
    "\n",
    "# 최종 디코더 모델\n",
    "decoder_model = Model(\n",
    "    [decoder_inputs] + [decoder_hidden_state_input,decoder_state_input_h, decoder_state_input_c],\n",
    "    [decoder_outputs2] + [state_h2, state_c2])\n"
   ]
  },
  {
   "cell_type": "code",
   "execution_count": 83,
   "id": "213f9c3f",
   "metadata": {},
   "outputs": [],
   "source": [
    "def decode_sequence(input_seq):\n",
    "    # 입력으로부터 인코더의 상태를 얻음\n",
    "    e_out, e_h, e_c = encoder_model.predict(input_seq)\n",
    "\n",
    "     # <SOS>에 해당하는 토큰 생성\n",
    "    target_seq = np.zeros((1,1))\n",
    "    target_seq[0, 0] = tar_word_to_index['sostoken']\n",
    "\n",
    "    stop_condition = False\n",
    "    decoded_sentence = ''\n",
    "    while not stop_condition: # stop_condition이 True가 될 때까지 루프 반복\n",
    "\n",
    "        output_tokens, h, c = decoder_model.predict([target_seq] + [e_out, e_h, e_c])\n",
    "        sampled_token_index = np.argmax(output_tokens[0, -1, :])\n",
    "        sampled_token = tar_index_to_word[sampled_token_index]\n",
    "\n",
    "        if (sampled_token!='eostoken'):\n",
    "            decoded_sentence += ' '+sampled_token\n",
    "\n",
    "        #  <eos>에 도달하거나 최대 길이를 넘으면 중단.\n",
    "        if (sampled_token == 'eostoken'  or len(decoded_sentence.split()) >= (summary_max_len-1)):\n",
    "            stop_condition = True\n",
    "\n",
    "        # 길이가 1인 타겟 시퀀스를 업데이트\n",
    "        target_seq = np.zeros((1,1))\n",
    "        target_seq[0, 0] = sampled_token_index\n",
    "\n",
    "        # 상태를 업데이트 합니다.\n",
    "        e_h, e_c = h, c\n",
    "\n",
    "    return decoded_sentence\n"
   ]
  },
  {
   "cell_type": "code",
   "execution_count": 84,
   "id": "2ce93198",
   "metadata": {},
   "outputs": [],
   "source": [
    "# 원문의 정수 시퀀스를 텍스트 시퀀스로 변환\n",
    "def seq2text(input_seq):\n",
    "    temp=''\n",
    "    for i in input_seq:\n",
    "        if (i!=0):\n",
    "            temp = temp + src_index_to_word[i]+' '\n",
    "    return temp\n",
    "\n",
    "# 요약문의 정수 시퀀스를 텍스트 시퀀스로 변환\n",
    "def seq2summary(input_seq):\n",
    "    temp=''\n",
    "    for i in input_seq:\n",
    "        if ((i!=0 and i!=tar_word_to_index['sostoken']) and i!=tar_word_to_index['eostoken']):\n",
    "            temp = temp + tar_index_to_word[i] + ' '\n",
    "    return temp\n"
   ]
  },
  {
   "cell_type": "code",
   "execution_count": 85,
   "id": "92bf99bb",
   "metadata": {},
   "outputs": [
    {
     "name": "stdout",
     "output_type": "stream",
     "text": [
      "원문 : us canada european union states monday expelled many russian diplomats russia alleged involvement poisoning former spy sergei skripal uk russia vowed retaliate expulsions diplomats calling move provocative gesture earlier russia uk expelled diplomats \n",
      "실제 요약 : countries russian in one day \n",
      "예측 요약 :  us russia to end russia in russia to spy on spy\n",
      "\n",
      "\n",
      "원문 : cbi arrested two former sbi managers former canara bank manager four others allegedly defrauding sbi branch kolkata crore directors kolkata based private firm allegedly conspired bank officials discounted three bills using forged letters credit issued three banks \n",
      "실제 요약 : cbi arrests sbi officials others in cr fraud case \n",
      "예측 요약 :  ex bank manager arrested for fraud of fraud of ex bank\n",
      "\n",
      "\n",
      "원문 : congress president rahul gandhi said keeping dalits bottom bjp dna union minister ram vilas paswan said moral right talk dalit issues added congress nothing dalit community abused leader br ambedkar comes amidst dalit protests supreme court ruling sc st act \n",
      "실제 요약 : rahul has no right to talk about dalit issues \n",
      "예측 요약 :  rahul must be bjp in lok sabha polls bjp to rahul\n",
      "\n",
      "\n",
      "원문 : woman gurugram friday delivered baby outside gate hospital emergency ward allegedly denied ultrasound test due lack aadhaar card wife reportedly aadhaar number voter id hospital asked physical copy aadhaar required admission ultrasound test \n",
      "실제 요약 : denied over aadhaar woman in the open \n",
      "예측 요약 :  woman caught on flight to check her while taking wrong flight\n",
      "\n",
      "\n",
      "원문 : organisation named karnataka rakshana vedike organised wedding goat sheep bengaluru support valentine day animals garlanded flowers foreheads marked turmeric ceremony interestingly another group earlier performed marriage rituals dog donkey chennai protest valentine day \n",
      "실제 요약 : married off in luru to support day \n",
      "예측 요약 :  taka cm gives birth to day on day of his day\n",
      "\n",
      "\n",
      "원문 : actor rishi kapoor took twitter urging fans donate kerala flood victims please kindly help kerala flood situation donation gods country peril today need resurrect tweeted wrote son ranbir kapoor also donated flood victims \n",
      "실제 요약 : rishi ranbir for kerala fans to do the same \n",
      "예측 요약 :  who are the flood victims of kerala flood victims kerala floods\n",
      "\n",
      "\n",
      "원문 : several shipping firms japan come together develop remote controlled cargo vessels could launched according reports ships would use internet things gather data including weather conditions shipping information project aimed reduce number accidents sea removing potential human error \n",
      "실제 요약 : japan firms to launch ships using internet of things \n",
      "예측 요약 :  japan to build electric vehicles in south south asia border report\n",
      "\n",
      "\n",
      "원문 : rti response revealed lakh spent funeral ceremony former chief minister jayalalithaa december tamil nadu government response rti query came amidst inquiry death former aiadmk supremo deputy cm panneerselvam many others party raised suspicions \n",
      "실제 요약 : tamil nadu govt spent crore on funeral \n",
      "예측 요약 :  kin of property funeral booked for life of property in rti\n",
      "\n",
      "\n",
      "원문 : km wide landscape mars led speculations crater formed meteorite impact supervolcano image captured european space agency mars express exploring red planet since mars known host largest volcano ever discovered solar system km height \n",
      "실제 요약 : mars feature for being or \n",
      "예측 요약 :  mars to be into mars side of the moon by nasa\n",
      "\n",
      "\n",
      "원문 : uidai sunday rubbished claims french ethical hacker hacking trai chairman rs sharma personal information using aadhaar number called completely false called hacked info already available public domain uidai said anyone google visit sources find sharma personal details without aadhaar added \n",
      "실제 요약 : french claim of chief info false \n",
      "예측 요약 :  users ask to ask hackers to stop aadhaar leak goes viral\n",
      "\n",
      "\n",
      "원문 : scientists planning conduct study antarctica collect blue whale poop examine impact biodiversity climate change first deploy sonar buoys identify location whales use drones collect orange plumes want show whales ecosystem engineers one researchers said \n",
      "실제 요약 : scientists to largest study of blue whale \n",
      "예측 요약 :  to use to use blood to humans in europe to study\n",
      "\n",
      "\n",
      "원문 : according cybersecurity company flashpoint ransom note wannacry malware hit countries written various languages using google translate company used typos grammatical errors determine original text written chinese speaking hackers translated languages earlier researchers linked wannacry north korean hackers \n",
      "실제 요약 : note was using google \n",
      "예측 요약 :  google to cut users share note ban on note ban in\n",
      "\n",
      "\n",
      "원문 : us based cab aggregator uber vice president product daniel graf said someone started earlier would define uber crazy yet positive startup experience also said uber company grown faster companies history dealing growth playbook added \n",
      "실제 요약 : would uber as yet uber vp \n",
      "예측 요약 :  uber is not an uber ceo on its th day event\n",
      "\n",
      "\n",
      "원문 : actress amala paul registered police complaint businessman named azhagesan harassing tweet wrote ready trade like existence makes sick added gone dance rehearsal man spoke like conducting trade \n",
      "실제 요약 : he was ready to trade me off like actress \n",
      "예측 요약 :  my body is my image actress on being fired by actress\n",
      "\n",
      "\n",
      "원문 : personal device management startup servify announced acquisition bengaluru based gadget repair startup cash stock deal post acquisition founders core technology product teams absorbed servify founded blume ventures backed startup provides repair services home stores \n",
      "실제 요약 : acquires luru based startup \n",
      "예측 요약 :  startup in talks to buy startup that bought by mn valuation\n",
      "\n",
      "\n",
      "원문 : uttar pradesh cm yogi adityanath wednesday said bulandshahr violence earlier month policeman youth killed political conspiracy lost political ground remark came assembly adjourned following protests opposition parties issues including law order situation state \n",
      "실제 요약 : up cm yogi calls violence political \n",
      "예측 요약 :  cm yogi asks up cm to kill up cm in violence\n",
      "\n",
      "\n",
      "원문 : american airlines passenger claims found dead rat inside luggage airline lost five days said bag smelled horrendous realised contained rat washing contents complained us health department american airlines giving compensation \n",
      "실제 요약 : dead found in after airline loses it for days \n",
      "예측 요약 :  man who was stuck in plane to crash in us plane\n",
      "\n",
      "\n",
      "원문 : scientists identified oldest known lizard reptile lived million years ago earth single continent geographically dinosaurs emerged discovered years ago italy mother lizards initially misclassified lizard relative discovery pushed back origins lizards million years said researchers \n",
      "실제 요약 : world oldest when earth had only \n",
      "예측 요약 :  oldest found in yrs old oldest ever found in years old\n",
      "\n",
      "\n",
      "원문 : four time world champion driver lewis hamilton tried push car back pit lane suffered hydraulics leak german grand prix opening qualifying session saturday heart never give hardest thing give accept car make back said \n",
      "실제 요약 : time world champ down car \n",
      "예측 요약 :  world no one handed catch to back his car race back\n",
      "\n",
      "\n",
      "원문 : india new ambassador china vikram took charge post monday batch indian foreign service officer replaced gautam bambawale retired november previously served indian envoy myanmar well various capacities headquarters ministry external affairs prime minister office \n",
      "실제 요약 : takes charge as india new envoy to china \n",
      "예측 요약 :  india top top cop member member of indian jail for india\n",
      "\n",
      "\n",
      "원문 : anupam kher said censor board act villain films rather help respect filmmakers coming across people know stop film rather facilitate film added anupam said need self regulation st century \n",
      "실제 요약 : board should not act as for films \n",
      "예측 요약 :  cbfc denies reports of cbfc body cuts on cbfc body rumours\n",
      "\n",
      "\n",
      "원문 : international monetary fund mission chief india ranil salgado said india source global growth next years india almost china world economy added salgado said india three decades hits point working age population starts declining \n",
      "실제 요약 : india will be of global growth for next years \n",
      "예측 요약 :  india to work in india next week to india next years\n",
      "\n",
      "\n",
      "원문 : many infants died admitted born january may adani foundation run gk general hospital gujarat bhuj hospital data revealed however infant mortality rate hospital year stands compared \n",
      "실제 요약 : died in months in hospital \n",
      "예측 요약 :  died in guj after being run by people in guj govt\n",
      "\n",
      "\n",
      "원문 : us first lady melania trump said would worn jacket reading really care message people left wing media criticise could criticise stop feel right added melania criticised wearing jacket visiting immigrant children detention centre \n",
      "실제 요약 : don was message for my \n",
      "예측 요약 :  trump told me to talk to talk to talk to him\n",
      "\n",
      "\n",
      "원문 : dr abhijit pune visits temples mosques streets daily treat elderly physically challenged homeless people beg survive also gives free medicines check ups treating people build rapport try convince quit begging kind work doctor said \n",
      "실제 요약 : pune doctor visits on for free check \n",
      "예측 요약 :  people in up to ask people to clean up to clean\n",
      "\n",
      "\n",
      "원문 : saudi arabia king salman bin abdulaziz al saud ordered set department investigate prosecute corruption cases following recent crackdown saudi arabia detained suspects including princes businessmen crackdown last year kingdom recovered lakh crore settlements reached crackdown \n",
      "실제 요약 : saudi arabia sets up to probe corruption cases \n",
      "예측 요약 :  saudi arabia journo detained for paying to saudi arabia corruption report\n",
      "\n",
      "\n",
      "원문 : former indian cricketer virender sehwag slammed several twitter users tweets deaths children hospital uttar pradesh gorakhpur many users commented sehwag courage criticise government failure said questioned negligence mentioned reason user tweeted \n",
      "실제 요약 : sehwag slammed for tweets on deaths of children in \n",
      "예측 요약 :  sehwag responds to shut down after being trolled for cow kids\n",
      "\n",
      "\n",
      "원문 : aviation think tank capa said failure divest air india could see carrier shutting unless government puts taxpayers money airline capa said air india could head two year loss billion would far less costly government make divestment attractive investors make sale happen capa added \n",
      "실제 요약 : air india may shut down if not think \n",
      "예측 요약 :  air india has no need to make jobs in air india\n",
      "\n",
      "\n",
      "원문 : india skipper ms dhoni ended india year long wait world cup trophy six sri lankan pacer nuwan long wankhede stadium mumbai april skipper decided come ahead yuvraj singh final later revealed planned finishing match six \n",
      "실제 요약 : video ms dhoni six that won india the world cup \n",
      "예측 요약 :  dhoni to play in wc final with india win vs sl\n",
      "\n",
      "\n",
      "원문 : study internet freedom countries found governments nations deploying form manipulation distort information suppress dissent online human rights group freedom house said use paid commentators political bots spread government propaganda pioneered china russia gone global group added \n",
      "실제 요약 : of out of nations social media study \n",
      "예측 요약 :  india to give people to eu climate change white house site\n",
      "\n",
      "\n",
      "원문 : paratrooper part indian army surgical strikes last september said strikes another operation special forces large scale operation wherein strength damage attrition caused much added notably india carried strikes seven terror bases pok \n",
      "실제 요약 : strikes just another special \n",
      "예측 요약 :  indian army has hit by people till july in last yrs\n",
      "\n",
      "\n",
      "원문 : external affairs minister sushma swaraj thursday hailed international court justice interim ruling staying kulbhushan jadhav execution said india would leave stone unturned save icj order come great relief grateful harish salve presenting india case effectively icj added \n",
      "실제 요약 : swaraj to do to save jadhav \n",
      "예측 요약 :  sushma swaraj visa to make birth in jail to save swaraj\n",
      "\n",
      "\n",
      "원문 : bihar education minister knp verma said teachers bihar asked set aside teaching clicking selfies people defecating open calling unnecessary controversy adding personally like idea minister said authorities wanted teachers exercise influence society bring awareness \n",
      "실제 요약 : don stop for open bihar minister \n",
      "예측 요약 :  bihar govt to stop bihar cm if he cannot be made\n",
      "\n",
      "\n",
      "원문 : sports minister rajyavardhan singh rathore said sack ministry officials athletes face problems getting incentives funds rathore added dearth money indian sports funds used justified purposes warned athletes sure error ministry part making accusations \n",
      "실제 요약 : if don get funds will officials sports min \n",
      "예측 요약 :  no proposal to cut finance ministry to pay for govt reports\n",
      "\n",
      "\n",
      "원문 : commonwealth gold medal winning indian wrestler satish kumar paid lakh compensation delhi court wrongfully denied participation asian games kumar native punjab mistaken another athlete west bengal tested positive banned substances subsequently banned two years \n",
      "실제 요약 : paid for being denied asiad entry \n",
      "예측 요약 :  asiad champ to asiad gold in asiad for not giving asiad\n",
      "\n",
      "\n",
      "원문 : israel sunday said indo israel ties become visible modi government jewish nation respects change india policy zero sum game dealing israel arab nations sent positive message said israeli envoy daniel carmon israel fine india relations arab countries also added \n",
      "실제 요약 : israel ties more under modi govt israel \n",
      "예측 요약 :  israel israel to ties with nations for peace talks with israel\n",
      "\n",
      "\n",
      "원문 : actress sara ali khan considered star choreographer filmmaker remo souza upcoming dance film katrina kaif backed film per reports reports earlier suggested actress shraddha kapoor play female lead film following katrina exit film also star actors varun dhawan prabhudheva \n",
      "실제 요약 : sara may star in film post katrina exit report \n",
      "예측 요약 :  sara to star in remake of ali khan next film reports\n",
      "\n",
      "\n",
      "원문 : delhi high court friday pulled delhi police inaction rape case self styled godman daati maharaj asked arrested month time daati accused raping female devotee chhatarpur ashram recently witness case alleged threatened daati aides \n",
      "실제 요약 : why has rape accused not been arrested yet hc \n",
      "예측 요약 :  delhi cops accused of rape accused of raping yr old arrested\n",
      "\n",
      "\n",
      "원문 : private lender yes bank added nearly crore market value thursday reported increase profit crore bank shares surged taking total market capitalisation crore bank asset quality improved gross bad loan ratio falling compared previous quarter \n",
      "실제 요약 : bank adds cr to market value after results \n",
      "예측 요약 :  bank adds crore in cap quarter profit of crore in fy\n",
      "\n",
      "\n",
      "원문 : england captain harry kane golden boot award scoring goals fifa world cup croatia luka modri golden ball award given competition best player france year old forward kylian mbapp scored four goals named tournament best young player belgian goalkeeper thibaut courtois golden glove award \n",
      "실제 요약 : england wins named best player \n",
      "예측 요약 :  england wc winning player wins his own award at world cup\n",
      "\n",
      "\n",
      "원문 : pankaj advani led indian snooker team defeated pakistan final asian team snooker championship wednesday advani remained player lose single individual match team event title brings advani second asian title season th overall first title advani teammate laxman rawat \n",
      "실제 요약 : india defeat pakistan to win asian \n",
      "예측 요약 :  indian team india pak team to asian cup medal in asian\n",
      "\n",
      "\n",
      "원문 : international space station installed advanced closed loop system life support system developed european space agency system recycles half carbon dioxide exhaled astronauts converts oxygen could save litres water requirement iss year researchers claimed \n",
      "실제 요약 : gets life support system that turns co into \n",
      "예측 요약 :  to see light in space light may be made by study\n",
      "\n",
      "\n",
      "원문 : alia bhatt undergoing training kathak dancing madhuri dixit upcoming film kalank per reports alia reportedly got chance learn pandit birju maharaj madhuri guru reports also suggested alia learning kathak year last two half months underwent rigorous training \n",
      "실제 요약 : alia gets training for dance with reports \n",
      "예측 요약 :  alia bhatt to star in front of alia bhatt dating report\n",
      "\n",
      "\n",
      "원문 : us president donald trump ordered flags flown half mast honour victims las vegas mass shooting calling attack act pure evil trump said visit las vegas meet survivors victims families mass shooting deadliest us history claiming lives leaving injured \n",
      "실제 요약 : us to be at half to honour victims \n",
      "예측 요약 :  trump told to shoot for attack on us mexico border attack\n",
      "\n",
      "\n",
      "원문 : defence ministry announced disability war injury pension special family pension liberalised family pension shall minimum per month amount revised effect january th pay commission earlier suggested slab based system fixing disability pension soldiers received criticism retired soldiers \n",
      "실제 요약 : soldiers to get \n",
      "예측 요약 :  people to give lakh to family of family who died report\n",
      "\n",
      "\n",
      "원문 : mit researchers developed ai based system detect quality safety food items system uses radio frequency identification tags stickers tiny ultra high frequency antennas several products sense potential food contamination detected fake baby milk powder accuracy researchers said \n",
      "실제 요약 : ai system that can food safety using made \n",
      "예측 요약 :  mit mit mit to check food to use food to guests\n",
      "\n",
      "\n",
      "원문 : zimbabwean army taken country president robert mugabe custody deployed troops across capital harare mugabe accused head military treason however army denied military takeover government saying seized power targeted assault criminals around mugabe causing social economic suffering \n",
      "실제 요약 : army takes president in denies \n",
      "예측 요약 :  army chief may face probe into military bid for prez reports\n",
      "\n",
      "\n",
      "원문 : congress thursday called jeweller nirav modi accused punjab national bank billion scam chhota modi also questioned could jeweller dupe entire banking system nose pm narendra modi led government slamming government nirav fleeing country congress said loot run away new motto government \n",
      "실제 요약 : congress calls bn scam accused nirav modi modi \n",
      "예측 요약 :  nirav modi is the govt to find pnb fraud cong leader\n",
      "\n",
      "\n",
      "원문 : chinese commerce giant alibaba vice chairman joseph tsai said company ready possible trade war us stated alibaba would survive fight also thrive us goods become expensive chinese consumers shift domestic producers imports parts world tsai said \n",
      "실제 요약 : ready for trade war with us alibaba \n",
      "예측 요약 :  we will be ready to lead to trade with jack ma\n",
      "\n",
      "\n",
      "원문 : china relaunching fastest bullet trains world run kilometres per hour china first ran trains kilometres per hour however reduced speeds kilometres per hour two train collision near city wenzhou killed people injured \n",
      "실제 요약 : china to world fastest bullet trains \n",
      "예측 요약 :  china to build fastest engine in china for fastest in china\n",
      "\n",
      "\n"
     ]
    }
   ],
   "source": [
    "for i in range(50, 100):\n",
    "    print(\"원문 :\", seq2text(encoder_input_test[i]))\n",
    "    print(\"실제 요약 :\", seq2summary(decoder_input_test[i]))\n",
    "    print(\"예측 요약 :\", decode_sequence(encoder_input_test[i].reshape(1, text_max_len)))\n",
    "    print(\"\\n\")\n"
   ]
  },
  {
   "cell_type": "markdown",
   "id": "3f41364f",
   "metadata": {},
   "source": [
    "!pip list | grep summa\n",
    "\n",
    "클라우드가 아닐 경우 해당 코드를 실행해준다"
   ]
  },
  {
   "cell_type": "code",
   "execution_count": 86,
   "id": "4896ddd5",
   "metadata": {},
   "outputs": [],
   "source": [
    "import requests\n",
    "from summa.summarizer import summarize"
   ]
  },
  {
   "cell_type": "code",
   "execution_count": 103,
   "id": "abc0dfa1",
   "metadata": {},
   "outputs": [
    {
     "name": "stdout",
     "output_type": "stream",
     "text": [
      "원문:\n",
      "US-based researchers have found waves on lakes of Saturn's largest moon Titan reach only about 1 cm high. The calm lakes are an indication that winds are low, suggesting smooth landing for future probes sent there, scientists said. Previous studies using NASA's Cassini probe show Titan may possess life ingredients, making the moon an interesting place to explore, they added.\n",
      "\n",
      "요약문:\n",
      "US-based researchers have found waves on lakes of Saturn's largest moon Titan reach only about 1 cm high.\n",
      "----------------------------------------------------------------------------------------------------\n",
      "\n",
      "원문:\n",
      "The US no longer seeks to oust Syrian President Bashar al-Assad but rather aims to achieve a \"regime that is fundamentally different\", the US Special Representative for Syria Engagement, Ambassador James Jeffrey said. He added that the West would not provide reconstruction aid to the war-torn country unless there is a compromise on the part of the Syrian government.\n",
      "\n",
      "요약문:\n",
      "The US no longer seeks to oust Syrian President Bashar al-Assad but rather aims to achieve a \"regime that is fundamentally different\", the US Special Representative for Syria Engagement, Ambassador James Jeffrey said.\n",
      "----------------------------------------------------------------------------------------------------\n",
      "\n",
      "원문:\n",
      "The Maharashtra government has lifted ban on small plastic bottles with capacity of less than half litre. However, it has made the installation of vending and crushing machines mandatory at hotels, malls, and public places where these bottles are used in bulk. People will have to pay â¹2 extra on purchasing these bottles, which would be refunded after the return.\n",
      "\n",
      "요약문:\n",
      "People will have to pay â¹2 extra on purchasing these bottles, which would be refunded after the return.\n",
      "----------------------------------------------------------------------------------------------------\n",
      "\n",
      "원문:\n",
      "The death toll from the 7.3 magnitude earthquake which hit the Iran-Iraq border on Sunday has risen to over 450. The earthquake which is the world's deadliest of the year has also injured 7,000 others and left over 70,000 people in need of emergency shelter. Local officials said the toll is likely to rise as rescue teams reached remote areas.\n",
      "\n",
      "요약문:\n",
      "The death toll from the 7.3 magnitude earthquake which hit the Iran-Iraq border on Sunday has risen to over 450.\n",
      "----------------------------------------------------------------------------------------------------\n",
      "\n",
      "원문:\n",
      "The government has launched a new initiative called 'Tele-Law', which will provide free legal assistance to people in rural areas, through video conferencing. Training will also be provided to village women, who will act as paralegal volunteers for villagers. Government-appointed lawyers will provide advice and training on issues like women and child rights, domestic violence and land disputes.\n",
      "\n",
      "요약문:\n",
      "Government-appointed lawyers will provide advice and training on issues like women and child rights, domestic violence and land disputes.\n",
      "----------------------------------------------------------------------------------------------------\n",
      "\n",
      "원문:\n",
      "Bihar Deputy Chief Minister Sushil Modi will head the seven-member committee to analyse the revenue shortfall faced by states after the GST rollout. The shortfall in collection stood between 14-37% in the April-November period for states including Punjab, Bihar and Himachal Pradesh. Only six states including Andhra Pradesh and Mizoram have recorded a revenue increase after GST was implemented.\n",
      "\n",
      "요약문:\n",
      "Only six states including Andhra Pradesh and Mizoram have recorded a revenue increase after GST was implemented.\n",
      "----------------------------------------------------------------------------------------------------\n",
      "\n",
      "원문:\n",
      "Male Costa's hummingbirds in North America use their tail feathers to create a whistling sound to impress their female counterparts, a US-Canada research has found. The birds twist their tails sideways while flying by females, who chose their mates according to their speeds. The diving fashion increases the apparent speed due to Doppler effect, said researchers.\n",
      "\n",
      "요약문:\n",
      "The birds twist their tails sideways while flying by females, who chose their mates according to their speeds.\n",
      "----------------------------------------------------------------------------------------------------\n",
      "\n",
      "원문:\n",
      "Former Jammu and Kashmir MLA Abid Ansari quit the Peoples Democratic Party on Saturday. Announcing his resignation on Twitter, Ansari said, \"The party has failed the people of J&K...I don't want to be a part of the lies and deception being perpetuated by the party.\" Ansari's resignation comes after former J&K Finance Minister Haseeb Drabu quit the party on Thursday.\n",
      "\n",
      "요약문:\n",
      "Former Jammu and Kashmir MLA Abid Ansari quit the Peoples Democratic Party on Saturday.\n",
      "----------------------------------------------------------------------------------------------------\n",
      "\n",
      "원문:\n",
      "Pakistan's ruling party has dropped its plan to eventually replace Nawaz Sharif, who was recently ousted from the post of country's PM, with his brother and Punjab's CM Shehbaz Sharif, reports said. The party reportedly fears losing its grip on the Punjab province that accounts for over half of Pakistan's 19 crore population if Shehbaz steps down as its CM.\n",
      "\n",
      "요약문:\n",
      "Pakistan's ruling party has dropped its plan to eventually replace Nawaz Sharif, who was recently ousted from the post of country's PM, with his brother and Punjab's CM Shehbaz Sharif, reports said.\n",
      "----------------------------------------------------------------------------------------------------\n",
      "\n",
      "원문:\n",
      "A 45-year-old woman in Northern Ireland claims to have married the ghost of a Haitian pirate named Jack who died 300 years ago. Amanda Teague, who has five children with her ex-husband, said her love affair with Jack started in 2014 but she has never seen him in physical form. Meanwhile, the wedding was attended by her friends and family. \n",
      "\n",
      "요약문:\n",
      "A 45-year-old woman in Northern Ireland claims to have married the ghost of a Haitian pirate named Jack who died 300 years ago.\n",
      "----------------------------------------------------------------------------------------------------\n",
      "\n"
     ]
    }
   ],
   "source": [
    "input_text = pd.read_csv('news_summary_more.csv')['text']\n",
    "\n",
    "for _ in range(10):\n",
    "    rnum = np.random.randint(len(input_text))\n",
    "    print(f'원문:\\n{input_text[rnum]}\\n')\n",
    "    print(f'요약문:\\n{summarize(input_text[rnum], ratio=0.5)}')\n",
    "    print('--'*50+'\\n')"
   ]
  },
  {
   "cell_type": "markdown",
   "id": "0323dc33",
   "metadata": {},
   "source": [
    "ratio를 0.5로 지정해야 그나마 요약문이 없는 현상이 적어지는 것 같습니다"
   ]
  },
  {
   "cell_type": "markdown",
   "id": "db4710ca",
   "metadata": {},
   "source": [
    "# 회고\n",
    "\n",
    "처음으로 모델이 학습하는 시간을 보고 경악했습니다\n",
    "early stopping을 쓴다 하더라도, 너무 오래 걸립니다\n",
    "\n",
    "앞으로는 이것보다 더 오래걸린다고 하는데 앞으로 모델 튜닝을 한다면 어떻게 해야될지 막막하네요\n",
    "\n",
    "## 좀 더 공부할 거\n",
    "\n",
    "이번에는 1차원 데이터를 노가다 방식으로 시각화 했지만, 모든 1차원 데이터를 이번처럼 노가다 방식으로 시각화할 순 없다는 생각이 들었습니다\n",
    "때문에 1차원 데이터를 어떻게 간단하게 시각화 하는지 알아봐야 될 거 같습니다\n",
    "\n",
    "## 다음 목표\n",
    "\n",
    "이번 노드를 하며 모델을 만드는 건 너무나도 중요하기 때문에 앞으로 제가 직접 하는거 보다는,\n",
    "만들어진 것들을 쓸 경우의 수가 좀 더 많겠다 라는 생각이 들었습니다\n",
    "\n",
    "왜냐하면 앞으로 더 많고 더 복잡한 데이터를 쓸텐데 그럼 학습시간도 비약적으로 늘어날 건데 모델을 잘못 만들면 그 학습을 위한 컴퓨팅 파워와 시간이 무의미하게 됩니다\n",
    "\n",
    "### 그럼 뭘 하겠다는 건가?\n",
    "\n",
    "데이터 전처리입니다\n",
    "데이터 전처리는 인공지능 학습보다 비교적 시간이 덜 소모되며,\n",
    "인공지능을 만들 때 무조건 해야되는 단계입니다\n",
    "\n",
    "그리고 저 혼자 만드는 모델에는 한계가 있으며 이미 다른 사람들이 만든 훌륭한 모델이 많습니다\n",
    "\n",
    "요약하자면, 모델을 만드는 전문적인 작업보다는 그 전문작업을 위한 기반을 만드는 작업을 남들보다 좀 더 잘하는 게 목표입니다"
   ]
  }
 ],
 "metadata": {
  "kernelspec": {
   "display_name": "Python 3 (ipykernel)",
   "language": "python",
   "name": "python3"
  },
  "language_info": {
   "codemirror_mode": {
    "name": "ipython",
    "version": 3
   },
   "file_extension": ".py",
   "mimetype": "text/x-python",
   "name": "python",
   "nbconvert_exporter": "python",
   "pygments_lexer": "ipython3",
   "version": "3.9.7"
  }
 },
 "nbformat": 4,
 "nbformat_minor": 5
}
