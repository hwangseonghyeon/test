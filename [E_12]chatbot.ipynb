{
 "cells": [
  {
   "cell_type": "markdown",
   "id": "45fbf365",
   "metadata": {},
   "source": [
    "!mkdir -p ~/aiffel/songys_chatbot"
   ]
  },
  {
   "cell_type": "code",
   "execution_count": 11,
   "id": "3fe97c96",
   "metadata": {},
   "outputs": [],
   "source": [
    "import tensorflow as tf\n",
    "import os\n",
    "import re\n",
    "import numpy as np\n",
    "import matplotlib.pyplot as plt\n",
    "import pandas as pd\n",
    "\n",
    "ds = pd.read_csv(os.getenv(\"HOME\")+'/aiffel/transformer_chatbot/data/ChatbotData .csv')"
   ]
  },
  {
   "cell_type": "code",
   "execution_count": 64,
   "id": "53e7e797",
   "metadata": {
    "scrolled": true
   },
   "outputs": [
    {
     "data": {
      "text/html": [
       "<div>\n",
       "<style scoped>\n",
       "    .dataframe tbody tr th:only-of-type {\n",
       "        vertical-align: middle;\n",
       "    }\n",
       "\n",
       "    .dataframe tbody tr th {\n",
       "        vertical-align: top;\n",
       "    }\n",
       "\n",
       "    .dataframe thead th {\n",
       "        text-align: right;\n",
       "    }\n",
       "</style>\n",
       "<table border=\"1\" class=\"dataframe\">\n",
       "  <thead>\n",
       "    <tr style=\"text-align: right;\">\n",
       "      <th></th>\n",
       "      <th>Q</th>\n",
       "      <th>A</th>\n",
       "      <th>label</th>\n",
       "    </tr>\n",
       "  </thead>\n",
       "  <tbody>\n",
       "    <tr>\n",
       "      <th>0</th>\n",
       "      <td>12시 땡!</td>\n",
       "      <td>하루가 또 가네요.</td>\n",
       "      <td>0</td>\n",
       "    </tr>\n",
       "    <tr>\n",
       "      <th>1</th>\n",
       "      <td>1지망 학교 떨어졌어</td>\n",
       "      <td>위로해 드립니다.</td>\n",
       "      <td>0</td>\n",
       "    </tr>\n",
       "    <tr>\n",
       "      <th>2</th>\n",
       "      <td>3박4일 놀러가고 싶다</td>\n",
       "      <td>여행은 언제나 좋죠.</td>\n",
       "      <td>0</td>\n",
       "    </tr>\n",
       "    <tr>\n",
       "      <th>3</th>\n",
       "      <td>3박4일 정도 놀러가고 싶다</td>\n",
       "      <td>여행은 언제나 좋죠.</td>\n",
       "      <td>0</td>\n",
       "    </tr>\n",
       "    <tr>\n",
       "      <th>4</th>\n",
       "      <td>PPL 심하네</td>\n",
       "      <td>눈살이 찌푸려지죠.</td>\n",
       "      <td>0</td>\n",
       "    </tr>\n",
       "    <tr>\n",
       "      <th>5</th>\n",
       "      <td>SD카드 망가졌어</td>\n",
       "      <td>다시 새로 사는 게 마음 편해요.</td>\n",
       "      <td>0</td>\n",
       "    </tr>\n",
       "    <tr>\n",
       "      <th>6</th>\n",
       "      <td>SD카드 안돼</td>\n",
       "      <td>다시 새로 사는 게 마음 편해요.</td>\n",
       "      <td>0</td>\n",
       "    </tr>\n",
       "    <tr>\n",
       "      <th>7</th>\n",
       "      <td>SNS 맞팔 왜 안하지ㅠㅠ</td>\n",
       "      <td>잘 모르고 있을 수도 있어요.</td>\n",
       "      <td>0</td>\n",
       "    </tr>\n",
       "    <tr>\n",
       "      <th>8</th>\n",
       "      <td>SNS 시간낭비인 거 아는데 매일 하는 중</td>\n",
       "      <td>시간을 정하고 해보세요.</td>\n",
       "      <td>0</td>\n",
       "    </tr>\n",
       "    <tr>\n",
       "      <th>9</th>\n",
       "      <td>SNS 시간낭비인데 자꾸 보게됨</td>\n",
       "      <td>시간을 정하고 해보세요.</td>\n",
       "      <td>0</td>\n",
       "    </tr>\n",
       "  </tbody>\n",
       "</table>\n",
       "</div>"
      ],
      "text/plain": [
       "                         Q                   A  label\n",
       "0                   12시 땡!          하루가 또 가네요.      0\n",
       "1              1지망 학교 떨어졌어           위로해 드립니다.      0\n",
       "2             3박4일 놀러가고 싶다         여행은 언제나 좋죠.      0\n",
       "3          3박4일 정도 놀러가고 싶다         여행은 언제나 좋죠.      0\n",
       "4                  PPL 심하네          눈살이 찌푸려지죠.      0\n",
       "5                SD카드 망가졌어  다시 새로 사는 게 마음 편해요.      0\n",
       "6                  SD카드 안돼  다시 새로 사는 게 마음 편해요.      0\n",
       "7           SNS 맞팔 왜 안하지ㅠㅠ    잘 모르고 있을 수도 있어요.      0\n",
       "8  SNS 시간낭비인 거 아는데 매일 하는 중       시간을 정하고 해보세요.      0\n",
       "9        SNS 시간낭비인데 자꾸 보게됨       시간을 정하고 해보세요.      0"
      ]
     },
     "execution_count": 64,
     "metadata": {},
     "output_type": "execute_result"
    }
   ],
   "source": [
    "ds.head(10)"
   ]
  },
  {
   "cell_type": "code",
   "execution_count": 16,
   "id": "63421547",
   "metadata": {
    "scrolled": false
   },
   "outputs": [
    {
     "name": "stdout",
     "output_type": "stream",
     "text": [
      "<class 'pandas.core.frame.DataFrame'>\n",
      "RangeIndex: 11823 entries, 0 to 11822\n",
      "Data columns (total 3 columns):\n",
      " #   Column  Non-Null Count  Dtype \n",
      "---  ------  --------------  ----- \n",
      " 0   Q       11823 non-null  object\n",
      " 1   A       11823 non-null  object\n",
      " 2   label   11823 non-null  int64 \n",
      "dtypes: int64(1), object(2)\n",
      "memory usage: 277.2+ KB\n"
     ]
    }
   ],
   "source": [
    "ds.info()"
   ]
  },
  {
   "cell_type": "code",
   "execution_count": 31,
   "id": "a3fbcd2b",
   "metadata": {},
   "outputs": [
    {
     "name": "stdout",
     "output_type": "stream",
     "text": [
      "11823\n"
     ]
    }
   ],
   "source": [
    "print(len(ds))"
   ]
  },
  {
   "cell_type": "code",
   "execution_count": 32,
   "id": "d867f0bc",
   "metadata": {
    "scrolled": false
   },
   "outputs": [
    {
     "data": {
      "text/html": [
       "<div>\n",
       "<style scoped>\n",
       "    .dataframe tbody tr th:only-of-type {\n",
       "        vertical-align: middle;\n",
       "    }\n",
       "\n",
       "    .dataframe tbody tr th {\n",
       "        vertical-align: top;\n",
       "    }\n",
       "\n",
       "    .dataframe thead th {\n",
       "        text-align: right;\n",
       "    }\n",
       "</style>\n",
       "<table border=\"1\" class=\"dataframe\">\n",
       "  <thead>\n",
       "    <tr style=\"text-align: right;\">\n",
       "      <th></th>\n",
       "      <th>Q</th>\n",
       "      <th>A</th>\n",
       "      <th>label</th>\n",
       "    </tr>\n",
       "  </thead>\n",
       "  <tbody>\n",
       "    <tr>\n",
       "      <th>11818</th>\n",
       "      <td>훔쳐보는 것도 눈치 보임.</td>\n",
       "      <td>티가 나니까 눈치가 보이는 거죠!</td>\n",
       "      <td>2</td>\n",
       "    </tr>\n",
       "    <tr>\n",
       "      <th>11819</th>\n",
       "      <td>훔쳐보는 것도 눈치 보임.</td>\n",
       "      <td>훔쳐보는 거 티나나봐요.</td>\n",
       "      <td>2</td>\n",
       "    </tr>\n",
       "    <tr>\n",
       "      <th>11820</th>\n",
       "      <td>흑기사 해주는 짝남.</td>\n",
       "      <td>설렜겠어요.</td>\n",
       "      <td>2</td>\n",
       "    </tr>\n",
       "    <tr>\n",
       "      <th>11821</th>\n",
       "      <td>힘든 연애 좋은 연애라는게 무슨 차이일까?</td>\n",
       "      <td>잘 헤어질 수 있는 사이 여부인 거 같아요.</td>\n",
       "      <td>2</td>\n",
       "    </tr>\n",
       "    <tr>\n",
       "      <th>11822</th>\n",
       "      <td>힘들어서 결혼할까봐</td>\n",
       "      <td>도피성 결혼은 하지 않길 바라요.</td>\n",
       "      <td>2</td>\n",
       "    </tr>\n",
       "  </tbody>\n",
       "</table>\n",
       "</div>"
      ],
      "text/plain": [
       "                             Q                         A  label\n",
       "11818           훔쳐보는 것도 눈치 보임.        티가 나니까 눈치가 보이는 거죠!      2\n",
       "11819           훔쳐보는 것도 눈치 보임.             훔쳐보는 거 티나나봐요.      2\n",
       "11820              흑기사 해주는 짝남.                    설렜겠어요.      2\n",
       "11821  힘든 연애 좋은 연애라는게 무슨 차이일까?  잘 헤어질 수 있는 사이 여부인 거 같아요.      2\n",
       "11822               힘들어서 결혼할까봐        도피성 결혼은 하지 않길 바라요.      2"
      ]
     },
     "execution_count": 32,
     "metadata": {},
     "output_type": "execute_result"
    }
   ],
   "source": [
    "ds.tail()"
   ]
  },
  {
   "cell_type": "markdown",
   "id": "c0799c4a",
   "metadata": {},
   "source": [
    "label이 뭘 의미하는 거지?"
   ]
  },
  {
   "cell_type": "code",
   "execution_count": 93,
   "id": "86c99448",
   "metadata": {
    "scrolled": true
   },
   "outputs": [
    {
     "name": "stdout",
     "output_type": "stream",
     "text": [
      "Q_1:  ['1000일 만난 여자친구와 이별', '10년 연애. 헤어졌습니다.', '10년 연애사 되돌아보니 다 부질없네', '10년 연예의끝', '10년만나다 헤어지네', '10년이라는 시간이 참 무색하다 싶네', '10월의 마지막밤 . 더 보고싶네 그사람', '14년된 여자친구랑 이별', '14년의 기나긴 이야기.', '15년…안녕'] \n",
      "\n",
      "A_1:  ['더 오래 만날 사람 만날 거예요.', '더 공허함이 크시겠네요.', '더 좋은 사람 만나실 거예요.', '더 마음이 허하겠어요.', '충분히 슬퍼하고 충분히 아파하다가 이겨내세요.', '함께 걸은 길을 혼자 돌아가고 계시겠네요.', '이별은 보고 싶은 마음을 참는 과정이죠.', '충분히 슬퍼하고 충분히 아파하다가 이겨내세요.', '좋은 연애였길 바라요.', '시간이 무색하네요.']\n",
      "3570\n",
      "\n",
      "\n",
      "Q_2:  ['짝사랑만큼 고통스러운 건 없겠지.', '1년 넘게 만났는데 지금도 불타올라', '1년 동거 중인데 계속 좋아', '1년 동거하고 결혼했어', '1년 만났는데도 그 사람에 대해 잘 모르겠어', '1년반 만났는데 결혼하자고 해도 될까?', '1년째 동거중이야', '1년째 좋아하는 사람이 있어.', '2년 가량의 연애', '2년 만났는데도 잘 모르는 부분이 많은 거 같아'] \n",
      "\n",
      "A_2:  ['짝사랑 만큼 감정소모가 큰 건 없을 거예요.', '정열적인 사랑을 하고 있나봐요.', '서로 깊게 알게되면서 더 좋아졌나봅니다.', '축하합니다!', '더 만나보세요.', '기다리고 있을지도 몰라요.', '서로 알아가는 단계인가봐요.', '힘든 시간이었겠어요.', '딱 잘 만났네요.', '양파같은 사람이네요.']\n",
      "2963\n"
     ]
    }
   ],
   "source": [
    "ahffk_c = 0\n",
    "\n",
    "q_1 = []\n",
    "a_1 = []\n",
    "\n",
    "\n",
    "for ahffk in ds['label']:\n",
    "    if ahffk == 1:\n",
    "        q_1.append(ds['Q'][ahffk_c])\n",
    "        a_1.append(ds['A'][ahffk_c])\n",
    "    ahffk_c += 1\n",
    "\n",
    "print('Q_1: ',q_1[:10],'\\n\\nA_1: ',a_1[:10])\n",
    "print(len(q_1))\n",
    "\n",
    "\n",
    "ahffk_c = 0\n",
    "\n",
    "\n",
    "q_2 = []\n",
    "a_2 = []\n",
    "\n",
    "for ahffk in ds['label']:\n",
    "    if ahffk == 2:\n",
    "        q_2.append(ds['Q'][ahffk_c])\n",
    "        a_2.append(ds['A'][ahffk_c])\n",
    "    ahffk_c += 1\n",
    "    \n",
    "print('\\n\\nQ_2: ',q_2[:10],'\\n\\nA_2: ',a_2[:10])\n",
    "print(len(q_2))"
   ]
  },
  {
   "cell_type": "markdown",
   "id": "9dec7a82",
   "metadata": {},
   "source": [
    "음...label이 뭘 의미하는지 전혀 모르겠다\n",
    "\n",
    "각 레이블마다 내가 느낀 특징을 적어보자\n",
    "<br/>\n",
    "1:\n",
    "<br/>\n",
    "굉장히 가벼운 질문이나 대화가 많다\n",
    "<br/>\n",
    "아주 가벼운 대화를 하는 거 같다\n",
    "<br/>\n",
    "2:\n",
    "슬픈 주제가 상당하다\n",
    "<br/>\n",
    "챗봇이 위로해주는 문장을 말한다\n",
    "<br/>\n",
    "3:\n",
    "<br/>\n",
    "불안감을 표현하는 문장이 많은 거 같다\n",
    "<br/>\n",
    "챗봇이 불안감을 없애주기 위한 답변을 해준다\n",
    "<br/>\n",
    "\n",
    "물론 대략 3천 혹은 2천개 되는 데이터를 전부 보고 판단한 건 아니지만..\n",
    "<br/>\n",
    "나중에 감정을 파악하는 모델을 가지고 함 분석해봐야 겠다"
   ]
  },
  {
   "cell_type": "code",
   "execution_count": 91,
   "id": "35759613",
   "metadata": {
    "scrolled": true
   },
   "outputs": [],
   "source": [
    "# 사용할 샘플의 최대 개수\n",
    "MAX_SAMPLES = 50000\n",
    "\n",
    "# 전처리 함수\n",
    "def preprocess_sentence(sentence):\n",
    "    sentence = re.sub(r\"([?.!,])\", r\" \\1 \", sentence)\n",
    "    sentence = re.sub(r'[\" \"]+', \" \", sentence)\n",
    "\n",
    "  # (a-z, A-Z, \".\", \"?\", \"!\", \",\")를 제외한 모든 문자를 공백인 ' '로 대체합니다.\n",
    "    sentence = re.sub(r\"[^0-9ㄱ-ㅎㅏ-ㅣ가-힣a-zA-Z?.!,]+\", \" \", sentence)\n",
    "    sentence = sentence.strip()\n",
    "    return sentence\n"
   ]
  },
  {
   "cell_type": "code",
   "execution_count": 92,
   "id": "17213ca7",
   "metadata": {},
   "outputs": [
    {
     "name": "stdout",
     "output_type": "stream",
     "text": [
      "Youtube 보고 싶은데 , 123모여서 같이봐도 돼 ? ?\n"
     ]
    }
   ],
   "source": [
    "print(preprocess_sentence(\"Youtube 보고 싶은데, 123모여서 같이봐도 돼??^^\"))"
   ]
  },
  {
   "cell_type": "code",
   "execution_count": 94,
   "id": "d9610d32",
   "metadata": {},
   "outputs": [],
   "source": [
    "def load_conversations(data):\n",
    "    inputs, outputs = [], []\n",
    "    for i in range(len(data)):\n",
    "        inputs.append(preprocess_sentence(data['Q'][i]))\n",
    "        outputs.append(preprocess_sentence(data['A'][i]))\n",
    "    assert len(inputs) == len(outputs) and len(inputs) == len(data)\n",
    "    return inputs, outputs"
   ]
  },
  {
   "cell_type": "code",
   "execution_count": 99,
   "id": "0c73b821",
   "metadata": {},
   "outputs": [
    {
     "name": "stdout",
     "output_type": "stream",
     "text": [
      "['12시 땡 !', '1지망 학교 떨어졌어', '3박4일 놀러가고 싶다', '3박4일 정도 놀러가고 싶다', 'PPL 심하네', 'SD카드 망가졌어', 'SD카드 안돼', 'SNS 맞팔 왜 안하지ㅠㅠ', 'SNS 시간낭비인 거 아는데 매일 하는 중', 'SNS 시간낭비인데 자꾸 보게됨']\n",
      "['하루가 또 가네요 .', '위로해 드립니다 .', '여행은 언제나 좋죠 .', '여행은 언제나 좋죠 .', '눈살이 찌푸려지죠 .', '다시 새로 사는 게 마음 편해요 .', '다시 새로 사는 게 마음 편해요 .', '잘 모르고 있을 수도 있어요 .', '시간을 정하고 해보세요 .', '시간을 정하고 해보세요 .']\n",
      "전체 샘플 수 : 11823\n",
      "전체 샘플 수 : 11823\n"
     ]
    }
   ],
   "source": [
    "questions, answers = load_conversations(ds)\n",
    "\n",
    "print(questions[:10])\n",
    "print(answers[:10])\n",
    "\n",
    "print('전체 샘플 수 :', len(questions))\n",
    "print('전체 샘플 수 :', len(answers))"
   ]
  },
  {
   "cell_type": "code",
   "execution_count": 100,
   "id": "6725fec4",
   "metadata": {
    "scrolled": true
   },
   "outputs": [
    {
     "name": "stdout",
     "output_type": "stream",
     "text": [
      "전처리 후의 22번째 질문 샘플: 가스비 장난 아님\n",
      "전처리 후의 22번째 답변 샘플: 다음 달에는 더 절약해봐요 .\n"
     ]
    }
   ],
   "source": [
    "print('전처리 후의 22번째 질문 샘플: {}'.format(questions[21]))\n",
    "print('전처리 후의 22번째 답변 샘플: {}'.format(answers[21]))"
   ]
  },
  {
   "cell_type": "code",
   "execution_count": 84,
   "id": "9bf63c8e",
   "metadata": {
    "scrolled": true
   },
   "outputs": [
    {
     "ename": "AttributeError",
     "evalue": "'DataFrame' object has no attribute 'deprecated'",
     "output_type": "error",
     "traceback": [
      "\u001b[0;31m---------------------------------------------------------------------------\u001b[0m",
      "\u001b[0;31mAttributeError\u001b[0m                            Traceback (most recent call last)",
      "\u001b[0;32m/tmp/ipykernel_186/3723930415.py\u001b[0m in \u001b[0;36m<module>\u001b[0;34m\u001b[0m\n\u001b[1;32m      1\u001b[0m \u001b[0;31m# 질문과 답변 데이터셋에 대해서 Vocabulary 생성. (Tensorflow 2.3.0 이상) (클라우드는 2.4 입니다)\u001b[0m\u001b[0;34m\u001b[0m\u001b[0;34m\u001b[0m\u001b[0m\n\u001b[0;32m----> 2\u001b[0;31m \u001b[0mtokenizer\u001b[0m \u001b[0;34m=\u001b[0m \u001b[0mds\u001b[0m\u001b[0;34m.\u001b[0m\u001b[0mdeprecated\u001b[0m\u001b[0;34m.\u001b[0m\u001b[0mtext\u001b[0m\u001b[0;34m.\u001b[0m\u001b[0mSubwordTextEncoder\u001b[0m\u001b[0;34m.\u001b[0m\u001b[0mbuild_from_corpus\u001b[0m\u001b[0;34m(\u001b[0m\u001b[0mquestions\u001b[0m \u001b[0;34m+\u001b[0m \u001b[0manswers\u001b[0m\u001b[0;34m,\u001b[0m \u001b[0mtarget_vocab_size\u001b[0m\u001b[0;34m=\u001b[0m\u001b[0;36m2\u001b[0m\u001b[0;34m**\u001b[0m\u001b[0;36m13\u001b[0m\u001b[0;34m)\u001b[0m\u001b[0;34m\u001b[0m\u001b[0;34m\u001b[0m\u001b[0m\n\u001b[0m\u001b[1;32m      3\u001b[0m \u001b[0;34m\u001b[0m\u001b[0m\n\u001b[1;32m      4\u001b[0m \u001b[0;34m\u001b[0m\u001b[0m\n\u001b[1;32m      5\u001b[0m \u001b[0;31m# 시작 토큰과 종료 토큰에 고유한 정수를 부여합니다.\u001b[0m\u001b[0;34m\u001b[0m\u001b[0;34m\u001b[0m\u001b[0m\n",
      "\u001b[0;32m/opt/conda/lib/python3.9/site-packages/pandas/core/generic.py\u001b[0m in \u001b[0;36m__getattr__\u001b[0;34m(self, name)\u001b[0m\n\u001b[1;32m   5485\u001b[0m         ):\n\u001b[1;32m   5486\u001b[0m             \u001b[0;32mreturn\u001b[0m \u001b[0mself\u001b[0m\u001b[0;34m[\u001b[0m\u001b[0mname\u001b[0m\u001b[0;34m]\u001b[0m\u001b[0;34m\u001b[0m\u001b[0;34m\u001b[0m\u001b[0m\n\u001b[0;32m-> 5487\u001b[0;31m         \u001b[0;32mreturn\u001b[0m \u001b[0mobject\u001b[0m\u001b[0;34m.\u001b[0m\u001b[0m__getattribute__\u001b[0m\u001b[0;34m(\u001b[0m\u001b[0mself\u001b[0m\u001b[0;34m,\u001b[0m \u001b[0mname\u001b[0m\u001b[0;34m)\u001b[0m\u001b[0;34m\u001b[0m\u001b[0;34m\u001b[0m\u001b[0m\n\u001b[0m\u001b[1;32m   5488\u001b[0m \u001b[0;34m\u001b[0m\u001b[0m\n\u001b[1;32m   5489\u001b[0m     \u001b[0;32mdef\u001b[0m \u001b[0m__setattr__\u001b[0m\u001b[0;34m(\u001b[0m\u001b[0mself\u001b[0m\u001b[0;34m,\u001b[0m \u001b[0mname\u001b[0m\u001b[0;34m:\u001b[0m \u001b[0mstr\u001b[0m\u001b[0;34m,\u001b[0m \u001b[0mvalue\u001b[0m\u001b[0;34m)\u001b[0m \u001b[0;34m->\u001b[0m \u001b[0;32mNone\u001b[0m\u001b[0;34m:\u001b[0m\u001b[0;34m\u001b[0m\u001b[0;34m\u001b[0m\u001b[0m\n",
      "\u001b[0;31mAttributeError\u001b[0m: 'DataFrame' object has no attribute 'deprecated'"
     ]
    }
   ],
   "source": [
    "# 질문과 답변 데이터셋에 대해서 Vocabulary 생성. (Tensorflow 2.3.0 이상) (클라우드는 2.4 입니다)\n",
    "tokenizer = ds.deprecated.text.SubwordTextEncoder.build_from_corpus(questions + answers, target_vocab_size=2**13)\n",
    "\n",
    "\n",
    "# 시작 토큰과 종료 토큰에 고유한 정수를 부여합니다.\n",
    "START_TOKEN, END_TOKEN = [tokenizer.vocab_size], [tokenizer.vocab_size + 1]\n"
   ]
  },
  {
   "cell_type": "code",
   "execution_count": 103,
   "id": "fd9adf97",
   "metadata": {},
   "outputs": [
    {
     "ename": "AttributeError",
     "evalue": "module 'tensorflow_datasets.core.features' has no attribute 'text'",
     "output_type": "error",
     "traceback": [
      "\u001b[0;31m---------------------------------------------------------------------------\u001b[0m",
      "\u001b[0;31mAttributeError\u001b[0m                            Traceback (most recent call last)",
      "\u001b[0;32m/tmp/ipykernel_186/4235500084.py\u001b[0m in \u001b[0;36m<module>\u001b[0;34m\u001b[0m\n\u001b[1;32m      1\u001b[0m \u001b[0;32mimport\u001b[0m \u001b[0mtensorflow_datasets\u001b[0m \u001b[0;32mas\u001b[0m \u001b[0mtfds\u001b[0m\u001b[0;34m\u001b[0m\u001b[0;34m\u001b[0m\u001b[0m\n\u001b[1;32m      2\u001b[0m \u001b[0;34m\u001b[0m\u001b[0m\n\u001b[0;32m----> 3\u001b[0;31m \u001b[0mtokenizer\u001b[0m \u001b[0;34m=\u001b[0m \u001b[0mtfds\u001b[0m\u001b[0;34m.\u001b[0m\u001b[0mfeatures\u001b[0m\u001b[0;34m.\u001b[0m\u001b[0mtext\u001b[0m\u001b[0;34m.\u001b[0m\u001b[0mSubwordTextEncoder\u001b[0m\u001b[0;34m.\u001b[0m\u001b[0mbuild_from_corpus\u001b[0m\u001b[0;34m(\u001b[0m\u001b[0mquestions\u001b[0m\u001b[0;34m+\u001b[0m\u001b[0manswers\u001b[0m\u001b[0;34m,\u001b[0m\u001b[0mtarget_vocab_size\u001b[0m\u001b[0;34m=\u001b[0m\u001b[0;36m2\u001b[0m\u001b[0;34m**\u001b[0m\u001b[0;36m13\u001b[0m\u001b[0;34m)\u001b[0m\u001b[0;34m\u001b[0m\u001b[0;34m\u001b[0m\u001b[0m\n\u001b[0m\u001b[1;32m      4\u001b[0m \u001b[0;34m\u001b[0m\u001b[0m\n\u001b[1;32m      5\u001b[0m \u001b[0mstart_token\u001b[0m\u001b[0;34m,\u001b[0m\u001b[0mend_token\u001b[0m \u001b[0;34m=\u001b[0m \u001b[0;34m[\u001b[0m\u001b[0mtokenizer\u001b[0m\u001b[0;34m.\u001b[0m\u001b[0mvocab_size\u001b[0m\u001b[0;34m]\u001b[0m\u001b[0;34m,\u001b[0m \u001b[0;34m[\u001b[0m\u001b[0mtokenizer\u001b[0m\u001b[0;34m.\u001b[0m\u001b[0mvocab_size\u001b[0m \u001b[0;34m+\u001b[0m \u001b[0;36m1\u001b[0m\u001b[0;34m]\u001b[0m\u001b[0;34m\u001b[0m\u001b[0;34m\u001b[0m\u001b[0m\n",
      "\u001b[0;31mAttributeError\u001b[0m: module 'tensorflow_datasets.core.features' has no attribute 'text'"
     ]
    }
   ],
   "source": [
    "import tensorflow_datasets as tfds\n",
    "\n",
    "tokenizer = tfds.features.text.SubwordTextEncoder.build_from_corpus(questions+answers,target_vocab_size=2**13)\n",
    "\n",
    "start_token,end_token = [tokenizer.vocab_size], [tokenizer.vocab_size + 1]\n",
    "\n",
    "print(start_token)\n",
    "print(end_token)\n"
   ]
  },
  {
   "cell_type": "code",
   "execution_count": 108,
   "id": "69d23512",
   "metadata": {
    "scrolled": true
   },
   "outputs": [
    {
     "name": "stdout",
     "output_type": "stream",
     "text": [
      "['Audio', 'BBox', 'BBoxFeature', 'ClassLabel', 'Dataset', 'Encoding', 'FeatureConnector', 'FeaturesDict', 'Image', 'LabeledImage', 'Sequence', 'Tensor', 'TensorInfo', 'Text', 'Translation', 'TranslationVariableLanguages', 'Video', '__all__', '__builtins__', '__cached__', '__doc__', '__file__', '__loader__', '__name__', '__package__', '__path__', '__spec__', 'audio_feature', 'bounding_boxes', 'class_label_feature', 'dataset_feature', 'feature', 'features_dict', 'image_feature', 'labeled_image', 'sequence_feature', 'tensor_feature', 'text_feature', 'top_level_feature', 'translation_feature', 'video_feature']\n",
      "['ALIASES', '__abstractmethods__', '__annotations__', '__class__', '__delattr__', '__dict__', '__dir__', '__doc__', '__eq__', '__format__', '__ge__', '__getattribute__', '__gt__', '__hash__', '__init__', '__init_subclass__', '__le__', '__lt__', '__module__', '__ne__', '__new__', '__reduce__', '__reduce_ex__', '__repr__', '__setattr__', '__sizeof__', '__str__', '__subclasshook__', '__weakref__', '_abc_impl', '_additional_repr_info', '_encoder_cls', '_flatten', '_nest', '_registered_features', 'decode_batch_example', 'decode_example', 'decode_ragged_example', 'dtype', 'encode_example', 'encoder', 'from_config', 'from_json', 'from_json_content', 'get_serialized_info', 'get_tensor_info', 'ints2str', 'load_metadata', 'maybe_build_from_corpus', 'maybe_set_encoder', 'repr_html', 'repr_html_batch', 'repr_html_ragged', 'save_config', 'save_metadata', 'shape', 'str2ints', 'to_json', 'to_json_content', 'vocab_size']\n",
      "['Encoding', 'Json', 'Shape', 'Tensor', 'Union', '__builtins__', '__cached__', '__doc__', '__file__', '__loader__', '__name__', '__package__', '__spec__', 'enum', 'feature_lib', 'get_inner_feature_repr', 'np', 'tf', 'utils', 'zlib']\n"
     ]
    }
   ],
   "source": [
    "print(dir(tfds.features))\n",
    "\n",
    "print(dir(tfds.features.Text))\n",
    "\n",
    "print(dir(tfds.features.tensor_feature))"
   ]
  },
  {
   "cell_type": "markdown",
   "id": "a65010bc",
   "metadata": {},
   "source": [
    "tfds subwordtextencoder 공식 문서\n",
    "\n",
    "https://www.tensorflow.org/datasets/api_docs/python/tfds/deprecated/text/SubwordTextEncoder"
   ]
  },
  {
   "cell_type": "markdown",
   "id": "7513c1bc",
   "metadata": {},
   "source": [
    "SubwordTextEncoder가 존재하는 경로를 잘못 알고 있어서 오류가 일어났다"
   ]
  },
  {
   "cell_type": "code",
   "execution_count": 110,
   "id": "b03edba4",
   "metadata": {
    "scrolled": false
   },
   "outputs": [
    {
     "name": "stdout",
     "output_type": "stream",
     "text": [
      "[8170]\n",
      "[8171]\n"
     ]
    }
   ],
   "source": [
    "import tensorflow_datasets as tfds\n",
    "\n",
    "tokenizer = tfds.deprecated.text.SubwordTextEncoder.build_from_corpus(questions+answers,target_vocab_size=2**13)\n",
    "\n",
    "start_token,end_token = [tokenizer.vocab_size], [tokenizer.vocab_size + 1]\n",
    "\n",
    "print(start_token)\n",
    "print(end_token)\n"
   ]
  },
  {
   "cell_type": "code",
   "execution_count": 112,
   "id": "05c046db",
   "metadata": {},
   "outputs": [
    {
     "name": "stdout",
     "output_type": "stream",
     "text": [
      "원래 질문 문장 샘플 : 가스비 장난 아님\n",
      "원래 답변 문장 샘플 : 다음 달에는 더 절약해봐요 .\n",
      "정수 인코딩 후의 21번째 질문 샘플: [5762, 610, 2490, 4163]\n",
      "정수 인코딩 후의 21번째 답변 샘플: [2356, 7510, 7, 6273, 97, 1]\n"
     ]
    }
   ],
   "source": [
    "print('원래 질문 문장 샘플 : {}'.format(questions[21]))\n",
    "print('원래 답변 문장 샘플 : {}'.format(answers[21]))\n",
    "print('정수 인코딩 후의 21번째 질문 샘플: {}'.format(tokenizer.encode(questions[21])))\n",
    "print('정수 인코딩 후의 21번째 답변 샘플: {}'.format(tokenizer.encode(answers[21])))\n"
   ]
  },
  {
   "cell_type": "code",
   "execution_count": 113,
   "id": "b33320ba",
   "metadata": {},
   "outputs": [
    {
     "name": "stdout",
     "output_type": "stream",
     "text": [
      "8172\n"
     ]
    }
   ],
   "source": [
    "# 시작 토큰과 종료 토큰을 고려하여 +2를 하여 단어장의 크기를 산정합니다.\n",
    "VOCAB_SIZE = tokenizer.vocab_size + 2\n",
    "print(VOCAB_SIZE)"
   ]
  },
  {
   "cell_type": "code",
   "execution_count": 122,
   "id": "e0a1841b",
   "metadata": {},
   "outputs": [
    {
     "name": "stdout",
     "output_type": "stream",
     "text": [
      "56\n"
     ]
    },
    {
     "data": {
      "text/plain": [
       "[<matplotlib.lines.Line2D at 0x7fba94a2d9d0>]"
      ]
     },
     "execution_count": 122,
     "metadata": {},
     "output_type": "execute_result"
    },
    {
     "data": {
      "image/png": "[encoded data removed]",
      "text/plain": [
       "<Figure size 432x288 with 1 Axes>"
      ]
     },
     "metadata": {
      "needs_background": "light"
     },
     "output_type": "display_data"
    }
   ],
   "source": [
    "wkdans_scat = 0\n",
    "wkdans_scatter = []\n",
    "wkdans_max = 0\n",
    "\n",
    "for wkdans in ds['Q']:\n",
    "    if len(wkdans) > wkdans_max:\n",
    "        wkdans_max = len(wkdans)\n",
    "        wkdans_scatter.append(len(wkdans))\n",
    "    if len(wkdans) > wkdans_scat:\n",
    "        wkdans_scatter.append(len(wkdans))\n",
    "\n",
    "print(wkdans_max)\n",
    "plt.plot(wkdans_scatter)"
   ]
  },
  {
   "cell_type": "code",
   "execution_count": 124,
   "id": "d6ae2fba",
   "metadata": {},
   "outputs": [],
   "source": [
    "# 샘플의 최대 허용 길이 또는 패딩 후의 최종 길이\n",
    "MAX_LENGTH = 45"
   ]
  },
  {
   "cell_type": "code",
   "execution_count": 128,
   "id": "8788353d",
   "metadata": {},
   "outputs": [],
   "source": [
    "# 정수 인코딩, 최대 길이를 초과하는 샘플 제거, 패딩\n",
    "def tokenize_and_filter(inputs, outputs):\n",
    "    tokenized_inputs, tokenized_outputs = [], []\n",
    "  \n",
    "    for (sentence1, sentence2) in zip(inputs, outputs):\n",
    "    # 정수 인코딩 과정에서 시작 토큰과 종료 토큰을 추가\n",
    "        sentence1 = start_token + tokenizer.encode(sentence1) + end_token\n",
    "        sentence2 = start_token + tokenizer.encode(sentence2) + end_token\n",
    "\n",
    "    # 최대 길이 40 이하인 경우에만 데이터셋으로 허용\n",
    "        if len(sentence1) <= MAX_LENGTH and len(sentence2) <= MAX_LENGTH:\n",
    "            tokenized_inputs.append(sentence1)\n",
    "            tokenized_outputs.append(sentence2)\n",
    "  \n",
    "  # 최대 길이 40으로 모든 데이터셋을 패딩\n",
    "    tokenized_inputs = tf.keras.preprocessing.sequence.pad_sequences(\n",
    "        tokenized_inputs, maxlen=MAX_LENGTH, padding='post')\n",
    "    tokenized_outputs = tf.keras.preprocessing.sequence.pad_sequences(\n",
    "        tokenized_outputs, maxlen=MAX_LENGTH, padding='post')\n",
    "  \n",
    "    return tokenized_inputs, tokenized_outputs\n"
   ]
  },
  {
   "cell_type": "code",
   "execution_count": 129,
   "id": "e2d248ff",
   "metadata": {},
   "outputs": [
    {
     "name": "stdout",
     "output_type": "stream",
     "text": [
      "단어장의 크기 : 8172\n",
      "필터링 후의 질문 샘플 개수: 11823\n",
      "필터링 후의 답변 샘플 개수: 11823\n"
     ]
    }
   ],
   "source": [
    "questions, answers = tokenize_and_filter(questions, answers)\n",
    "print('단어장의 크기 :',(VOCAB_SIZE))\n",
    "print('필터링 후의 질문 샘플 개수: {}'.format(len(questions)))\n",
    "print('필터링 후의 답변 샘플 개수: {}'.format(len(answers)))"
   ]
  },
  {
   "cell_type": "markdown",
   "id": "5e791223",
   "metadata": {},
   "source": [
    "tensorflow tensor_slices에 대한 공식 문서\n",
    "\n",
    "https://www.tensorflow.org/api_docs/python/tf/data/Dataset"
   ]
  },
  {
   "cell_type": "code",
   "execution_count": 130,
   "id": "8d5e3e82",
   "metadata": {},
   "outputs": [],
   "source": [
    "BATCH_SIZE = 64\n",
    "BUFFER_SIZE = 20000\n",
    "\n",
    "# 디코더는 이전의 target을 다음의 input으로 사용합니다.\n",
    "# 이에 따라 outputs에서는 START_TOKEN을 제거하겠습니다.\n",
    "dataset = tf.data.Dataset.from_tensor_slices((\n",
    "    {\n",
    "        'inputs': questions,\n",
    "        'dec_inputs': answers[:, :-1]\n",
    "    },\n",
    "    {\n",
    "        'outputs': answers[:, 1:]\n",
    "    },\n",
    "))\n",
    "\n",
    "dataset = dataset.cache()\n",
    "dataset = dataset.shuffle(BUFFER_SIZE)\n",
    "dataset = dataset.batch(BATCH_SIZE)\n",
    "dataset = dataset.prefetch(tf.data.experimental.AUTOTUNE)\n"
   ]
  },
  {
   "cell_type": "code",
   "execution_count": 131,
   "id": "2253ee28",
   "metadata": {},
   "outputs": [],
   "source": [
    "def transformer(vocab_size,\n",
    "                num_layers,\n",
    "                units,\n",
    "                d_model,\n",
    "                num_heads,\n",
    "                dropout,\n",
    "                name=\"transformer\"):\n",
    "    inputs = tf.keras.Input(shape=(None,), name=\"inputs\")\n",
    "    dec_inputs = tf.keras.Input(shape=(None,), name=\"dec_inputs\")\n",
    "\n",
    "  # 인코더에서 패딩을 위한 마스크\n",
    "    enc_padding_mask = tf.keras.layers.Lambda(\n",
    "        create_padding_mask, output_shape=(1, 1, None),\n",
    "        name='enc_padding_mask')(inputs)\n",
    "\n",
    "  # 디코더에서 미래의 토큰을 마스크 하기 위해서 사용합니다.\n",
    "  # 내부적으로 패딩 마스크도 포함되어져 있습니다.\n",
    "    look_ahead_mask = tf.keras.layers.Lambda(\n",
    "        create_look_ahead_mask,\n",
    "        output_shape=(1, None, None),\n",
    "        name='look_ahead_mask')(dec_inputs)\n",
    "\n",
    "  # 두 번째 어텐션 블록에서 인코더의 벡터들을 마스킹\n",
    "  # 디코더에서 패딩을 위한 마스크\n",
    "    dec_padding_mask = tf.keras.layers.Lambda(\n",
    "        create_padding_mask, output_shape=(1, 1, None),\n",
    "        name='dec_padding_mask')(inputs)\n",
    "\n",
    "  # 인코더\n",
    "    enc_outputs = encoder(\n",
    "        vocab_size=vocab_size,\n",
    "        num_layers=num_layers,\n",
    "        units=units,\n",
    "        d_model=d_model,\n",
    "        num_heads=num_heads,\n",
    "        dropout=dropout,\n",
    "    )(inputs=[inputs, enc_padding_mask])\n",
    "\n",
    "  # 디코더\n",
    "    dec_outputs = decoder(\n",
    "        vocab_size=vocab_size,\n",
    "        num_layers=num_layers,\n",
    "        units=units,\n",
    "        d_model=d_model,\n",
    "        num_heads=num_heads,\n",
    "        dropout=dropout,\n",
    "    )(inputs=[dec_inputs, enc_outputs, look_ahead_mask, dec_padding_mask])\n",
    "\n",
    "  # 완전연결층\n",
    "    outputs = tf.keras.layers.Dense(units=vocab_size, name=\"outputs\")(dec_outputs)\n",
    "\n",
    "    return tf.keras.Model(inputs=[inputs, dec_inputs], outputs=outputs, name=name)\n"
   ]
  },
  {
   "cell_type": "code",
   "execution_count": 132,
   "id": "ea1a34db",
   "metadata": {},
   "outputs": [
    {
     "name": "stdout",
     "output_type": "stream",
     "text": [
      "Model: \"transformer\"\n",
      "__________________________________________________________________________________________________\n",
      "Layer (type)                    Output Shape         Param #     Connected to                     \n",
      "==================================================================================================\n",
      "inputs (InputLayer)             [(None, None)]       0                                            \n",
      "__________________________________________________________________________________________________\n",
      "dec_inputs (InputLayer)         [(None, None)]       0                                            \n",
      "__________________________________________________________________________________________________\n",
      "enc_padding_mask (Lambda)       (None, 1, 1, None)   0           inputs[0][0]                     \n",
      "__________________________________________________________________________________________________\n",
      "encoder (Functional)            (None, None, 256)    3146240     inputs[0][0]                     \n",
      "                                                                 enc_padding_mask[0][0]           \n",
      "__________________________________________________________________________________________________\n",
      "look_ahead_mask (Lambda)        (None, 1, None, None 0           dec_inputs[0][0]                 \n",
      "__________________________________________________________________________________________________\n",
      "dec_padding_mask (Lambda)       (None, 1, 1, None)   0           inputs[0][0]                     \n",
      "__________________________________________________________________________________________________\n",
      "decoder (Functional)            (None, None, 256)    3673600     dec_inputs[0][0]                 \n",
      "                                                                 encoder[0][0]                    \n",
      "                                                                 look_ahead_mask[0][0]            \n",
      "                                                                 dec_padding_mask[0][0]           \n",
      "__________________________________________________________________________________________________\n",
      "outputs (Dense)                 (None, None, 8172)   2100204     decoder[0][0]                    \n",
      "==================================================================================================\n",
      "Total params: 8,920,044\n",
      "Trainable params: 8,920,044\n",
      "Non-trainable params: 0\n",
      "__________________________________________________________________________________________________\n"
     ]
    }
   ],
   "source": [
    "tf.keras.backend.clear_session()\n",
    "\n",
    "# 하이퍼파라미터\n",
    "NUM_LAYERS = 2 # 인코더와 디코더 층의 개수\n",
    "D_MODEL = 256 # 인코더와 디코더 내부의 입, 출력의 고정 차원\n",
    "NUM_HEADS = 8 # 멀티 헤드 어텐션에서의 헤드 수 \n",
    "UNITS = 512 # 피드 포워드 신경망의 은닉층의 크기\n",
    "DROPOUT = 0.1 # 드롭아웃의 비율\n",
    "\n",
    "model = transformer(\n",
    "    vocab_size=VOCAB_SIZE,\n",
    "    num_layers=NUM_LAYERS,\n",
    "    units=UNITS,\n",
    "    d_model=D_MODEL,\n",
    "    num_heads=NUM_HEADS,\n",
    "    dropout=DROPOUT)\n",
    "\n",
    "model.summary()"
   ]
  },
  {
   "cell_type": "code",
   "execution_count": 133,
   "id": "2b6d8492",
   "metadata": {},
   "outputs": [],
   "source": [
    "def loss_function(y_true, y_pred):\n",
    "    y_true = tf.reshape(y_true, shape=(-1, MAX_LENGTH - 1))\n",
    "  \n",
    "    loss = tf.keras.losses.SparseCategoricalCrossentropy(\n",
    "        from_logits=True, reduction='none')(y_true, y_pred)\n",
    "\n",
    "    mask = tf.cast(tf.not_equal(y_true, 0), tf.float32)\n",
    "    loss = tf.multiply(loss, mask)\n",
    "\n",
    "    return tf.reduce_mean(loss)\n"
   ]
  },
  {
   "cell_type": "code",
   "execution_count": 134,
   "id": "6f517dd8",
   "metadata": {},
   "outputs": [],
   "source": [
    "class CustomSchedule(tf.keras.optimizers.schedules.LearningRateSchedule):\n",
    "\n",
    "    def __init__(self, d_model, warmup_steps=4000):\n",
    "        super(CustomSchedule, self).__init__()\n",
    "\n",
    "        self.d_model = d_model\n",
    "        self.d_model = tf.cast(self.d_model, tf.float32)\n",
    "\n",
    "        self.warmup_steps = warmup_steps\n",
    "\n",
    "    def __call__(self, step):\n",
    "        arg1 = tf.math.rsqrt(step)\n",
    "        arg2 = step * (self.warmup_steps**-1.5)\n",
    "\n",
    "        return tf.math.rsqrt(self.d_model) * tf.math.minimum(arg1, arg2)\n"
   ]
  },
  {
   "cell_type": "code",
   "execution_count": 136,
   "id": "38d39e9a",
   "metadata": {},
   "outputs": [],
   "source": [
    "learning_rate = CustomSchedule(D_MODEL)\n",
    "\n",
    "optimizer = tf.keras.optimizers.Adam(\n",
    "    learning_rate, beta_1=0.9, beta_2=0.98, epsilon=1e-9)\n",
    "\n",
    "def accuracy(y_true, y_pred):\n",
    "    y_true = tf.reshape(y_true, shape=(-1, MAX_LENGTH - 1))\n",
    "    return tf.keras.metrics.sparse_categorical_accuracy(y_true, y_pred)\n",
    "\n",
    "model.compile(optimizer=optimizer, loss=loss_function, metrics=[accuracy])\n"
   ]
  },
  {
   "cell_type": "code",
   "execution_count": 137,
   "id": "6c47d5bd",
   "metadata": {},
   "outputs": [
    {
     "name": "stdout",
     "output_type": "stream",
     "text": [
      "Epoch 1/20\n",
      "185/185 [==============================] - 17s 59ms/step - loss: 1.2822 - accuracy: 0.0277\n",
      "Epoch 2/20\n",
      "185/185 [==============================] - 11s 59ms/step - loss: 1.0427 - accuracy: 0.0437\n",
      "Epoch 3/20\n",
      "185/185 [==============================] - 11s 60ms/step - loss: 0.8902 - accuracy: 0.0448\n",
      "Epoch 4/20\n",
      "185/185 [==============================] - 11s 60ms/step - loss: 0.8234 - accuracy: 0.0482\n",
      "Epoch 5/20\n",
      "185/185 [==============================] - 11s 60ms/step - loss: 0.7712 - accuracy: 0.0512\n",
      "Epoch 6/20\n",
      "185/185 [==============================] - 11s 61ms/step - loss: 0.7181 - accuracy: 0.0546\n",
      "Epoch 7/20\n",
      "185/185 [==============================] - 11s 61ms/step - loss: 0.6608 - accuracy: 0.0598\n",
      "Epoch 8/20\n",
      "185/185 [==============================] - 11s 61ms/step - loss: 0.5973 - accuracy: 0.0669\n",
      "Epoch 9/20\n",
      "185/185 [==============================] - 11s 61ms/step - loss: 0.5274 - accuracy: 0.0745\n",
      "Epoch 10/20\n",
      "185/185 [==============================] - 11s 61ms/step - loss: 0.4544 - accuracy: 0.0827\n",
      "Epoch 11/20\n",
      "185/185 [==============================] - 11s 61ms/step - loss: 0.3807 - accuracy: 0.0918\n",
      "Epoch 12/20\n",
      "185/185 [==============================] - 11s 61ms/step - loss: 0.3083 - accuracy: 0.1017\n",
      "Epoch 13/20\n",
      "185/185 [==============================] - 11s 61ms/step - loss: 0.2417 - accuracy: 0.1116\n",
      "Epoch 14/20\n",
      "185/185 [==============================] - 11s 60ms/step - loss: 0.1833 - accuracy: 0.1206\n",
      "Epoch 15/20\n",
      "185/185 [==============================] - 11s 60ms/step - loss: 0.1350 - accuracy: 0.1289\n",
      "Epoch 16/20\n",
      "185/185 [==============================] - 11s 61ms/step - loss: 0.0968 - accuracy: 0.1359\n",
      "Epoch 17/20\n",
      "185/185 [==============================] - 11s 61ms/step - loss: 0.0705 - accuracy: 0.1406\n",
      "Epoch 18/20\n",
      "185/185 [==============================] - 11s 61ms/step - loss: 0.0538 - accuracy: 0.1436\n",
      "Epoch 19/20\n",
      "185/185 [==============================] - 11s 61ms/step - loss: 0.0449 - accuracy: 0.1450\n",
      "Epoch 20/20\n",
      "185/185 [==============================] - 11s 61ms/step - loss: 0.0400 - accuracy: 0.1459\n"
     ]
    },
    {
     "data": {
      "text/plain": [
       "<keras.callbacks.History at 0x7fbb0804d430>"
      ]
     },
     "execution_count": 137,
     "metadata": {},
     "output_type": "execute_result"
    }
   ],
   "source": [
    "EPOCHS = 20\n",
    "model.fit(dataset, epochs=EPOCHS, verbose=1)"
   ]
  },
  {
   "cell_type": "code",
   "execution_count": 138,
   "id": "d1f8594e",
   "metadata": {},
   "outputs": [
    {
     "data": {
      "text/plain": [
       "[<matplotlib.lines.Line2D at 0x7fba6cb882b0>]"
      ]
     },
     "execution_count": 138,
     "metadata": {},
     "output_type": "execute_result"
    },
    {
     "data": {
      "image/png": "[encoded data removed]",
      "text/plain": [
       "<Figure size 720x360 with 2 Axes>"
      ]
     },
     "metadata": {
      "needs_background": "light"
     },
     "output_type": "display_data"
    }
   ],
   "source": [
    "plt.figure(figsize=(10, 5))\n",
    "plt.subplot(121)\n",
    "plt.xlabel('EPOCHS')\n",
    "plt.ylabel('ACCURACY')\n",
    "plt.plot(model.history.history['accuracy'])\n",
    "\n",
    "plt.subplot(122)\n",
    "plt.xlabel('EPOCHS')\n",
    "plt.ylabel('LOSS')\n",
    "plt.plot(model.history.history['loss'])"
   ]
  },
  {
   "cell_type": "code",
   "execution_count": 145,
   "id": "252cf720",
   "metadata": {},
   "outputs": [],
   "source": [
    "def decoder_inference(sentence):\n",
    "    sentence = preprocess_sentence(sentence)\n",
    "\n",
    "  # 입력된 문장을 정수 인코딩 후, 시작 토큰과 종료 토큰을 앞뒤로 추가.\n",
    "  # ex) Where have you been? → [[8331   86   30    5 1059    7 8332]]\n",
    "    sentence = tf.expand_dims(\n",
    "        start_token + tokenizer.encode(sentence) + end_token, axis=0)\n",
    "\n",
    "  # 디코더의 현재까지의 예측한 출력 시퀀스가 지속적으로 저장되는 변수.\n",
    "  # 처음에는 예측한 내용이 없음으로 시작 토큰만 별도 저장. ex) 8331\n",
    "    output_sequence = tf.expand_dims(start_token, 0)\n",
    "\n",
    "  # 디코더의 인퍼런스 단계\n",
    "    for i in range(MAX_LENGTH):\n",
    "    # 디코더는 최대 MAX_LENGTH의 길이만큼 다음 단어 예측을 반복합니다.\n",
    "        predictions = model(inputs=[sentence, output_sequence], training=False)\n",
    "        predictions = predictions[:, -1:, :]\n",
    "\n",
    "    # 현재 예측한 단어의 정수\n",
    "        predicted_id = tf.cast(tf.argmax(predictions, axis=-1), tf.int32)\n",
    "\n",
    "    # 만약 현재 예측한 단어가 종료 토큰이라면 for문을 종료\n",
    "        if tf.equal(predicted_id, end_token[0]):\n",
    "            break\n",
    "\n",
    "    # 예측한 단어들은 지속적으로 output_sequence에 추가됩니다.\n",
    "    # 이 output_sequence는 다시 디코더의 입력이 됩니다.\n",
    "        output_sequence = tf.concat([output_sequence, predicted_id], axis=-1)\n",
    "\n",
    "    return tf.squeeze(output_sequence, axis=0)\n"
   ]
  },
  {
   "cell_type": "code",
   "execution_count": 146,
   "id": "d1829c47",
   "metadata": {},
   "outputs": [],
   "source": [
    "def sentence_generation(sentence):\n",
    "  # 입력 문장에 대해서 디코더를 동작 시켜 예측된 정수 시퀀스를 리턴받습니다.\n",
    "    prediction = decoder_inference(sentence)\n",
    "\n",
    "  # 정수 시퀀스를 다시 텍스트 시퀀스로 변환합니다.\n",
    "    predicted_sentence = tokenizer.decode(\n",
    "        [i for i in prediction if i < tokenizer.vocab_size])\n",
    "\n",
    "    print('입력 : {}'.format(sentence))\n",
    "    print('출력 : {}'.format(predicted_sentence))\n",
    "\n",
    "    return predicted_sentence\n"
   ]
  },
  {
   "cell_type": "code",
   "execution_count": 148,
   "id": "2a257e5d",
   "metadata": {
    "scrolled": true
   },
   "outputs": [
    {
     "name": "stdout",
     "output_type": "stream",
     "text": [
      "입력 : 그림을 그리고 싶어\n",
      "출력 : 따뜻하게 사세요 .\n",
      "입력 : 내가 그림으로 돈을 벌 수 있을지가 의문이야\n",
      "출력 : 할인점에서 사먹으세요 .\n"
     ]
    },
    {
     "data": {
      "text/plain": [
       "'할인점에서 사먹으세요 .'"
      ]
     },
     "execution_count": 148,
     "metadata": {},
     "output_type": "execute_result"
    }
   ],
   "source": [
    "sentence_generation('그림을 그리고 싶어')\n",
    "\n",
    "sentence_generation(\"내가 그림으로 돈을 벌 수 있을지가 의문이야\")"
   ]
  },
  {
   "cell_type": "markdown",
   "id": "97f275a7",
   "metadata": {},
   "source": [
    "??????????????????????????????????????\n",
    "\n",
    "인공지능이 날 놀리네;;"
   ]
  },
  {
   "cell_type": "code",
   "execution_count": 149,
   "id": "7cc12452",
   "metadata": {
    "scrolled": true
   },
   "outputs": [
    {
     "name": "stdout",
     "output_type": "stream",
     "text": [
      "Epoch 1/20\n",
      "185/185 [==============================] - 11s 60ms/step - loss: 0.0379 - accuracy: 0.1459\n",
      "Epoch 2/20\n",
      "185/185 [==============================] - 11s 60ms/step - loss: 0.0359 - accuracy: 0.1463\n",
      "Epoch 3/20\n",
      "185/185 [==============================] - 11s 60ms/step - loss: 0.0319 - accuracy: 0.1472\n",
      "Epoch 4/20\n",
      "185/185 [==============================] - 11s 60ms/step - loss: 0.0276 - accuracy: 0.1483\n",
      "Epoch 5/20\n",
      "185/185 [==============================] - 11s 61ms/step - loss: 0.0250 - accuracy: 0.1489\n",
      "Epoch 6/20\n",
      "185/185 [==============================] - 11s 61ms/step - loss: 0.0212 - accuracy: 0.1499\n",
      "Epoch 7/20\n",
      "185/185 [==============================] - 11s 61ms/step - loss: 0.0192 - accuracy: 0.1504\n",
      "Epoch 8/20\n",
      "185/185 [==============================] - 11s 61ms/step - loss: 0.0176 - accuracy: 0.1508\n",
      "Epoch 9/20\n",
      "185/185 [==============================] - 11s 61ms/step - loss: 0.0165 - accuracy: 0.1511\n",
      "Epoch 10/20\n",
      "185/185 [==============================] - 11s 60ms/step - loss: 0.0145 - accuracy: 0.1515\n",
      "Epoch 11/20\n",
      "185/185 [==============================] - 11s 61ms/step - loss: 0.0137 - accuracy: 0.1517\n",
      "Epoch 12/20\n",
      "185/185 [==============================] - 11s 61ms/step - loss: 0.0122 - accuracy: 0.1521\n",
      "Epoch 13/20\n",
      "185/185 [==============================] - 11s 61ms/step - loss: 0.0117 - accuracy: 0.1524\n",
      "Epoch 14/20\n",
      "185/185 [==============================] - 11s 61ms/step - loss: 0.0108 - accuracy: 0.1525\n",
      "Epoch 15/20\n",
      "185/185 [==============================] - 11s 61ms/step - loss: 0.0097 - accuracy: 0.1527\n",
      "Epoch 16/20\n",
      "185/185 [==============================] - 11s 61ms/step - loss: 0.0094 - accuracy: 0.1528\n",
      "Epoch 17/20\n",
      "185/185 [==============================] - 11s 60ms/step - loss: 0.0089 - accuracy: 0.1529\n",
      "Epoch 18/20\n",
      "185/185 [==============================] - 11s 60ms/step - loss: 0.0081 - accuracy: 0.1532\n",
      "Epoch 19/20\n",
      "185/185 [==============================] - 11s 60ms/step - loss: 0.0079 - accuracy: 0.1532\n",
      "Epoch 20/20\n",
      "185/185 [==============================] - 11s 60ms/step - loss: 0.0078 - accuracy: 0.1533\n"
     ]
    },
    {
     "data": {
      "text/plain": [
       "<keras.callbacks.History at 0x7fba9446d9a0>"
      ]
     },
     "execution_count": 149,
     "metadata": {},
     "output_type": "execute_result"
    }
   ],
   "source": [
    "EPOCHS = 20\n",
    "model.fit(dataset, epochs=EPOCHS, verbose=1)"
   ]
  },
  {
   "cell_type": "code",
   "execution_count": 150,
   "id": "4f34f848",
   "metadata": {},
   "outputs": [
    {
     "name": "stdout",
     "output_type": "stream",
     "text": [
      "입력 : 그림을 그리고 싶어\n",
      "출력 : 이불킥하게 될 거예요 .\n",
      "입력 : 내가 그림으로 돈을 벌 수 있을지가 의문이야\n",
      "출력 : 호감이 있을 수도 있어요 . 그렇지만 조금 더 상황을 지켜보세요 .\n"
     ]
    },
    {
     "data": {
      "text/plain": [
       "'호감이 있을 수도 있어요 . 그렇지만 조금 더 상황을 지켜보세요 .'"
      ]
     },
     "execution_count": 150,
     "metadata": {},
     "output_type": "execute_result"
    }
   ],
   "source": [
    "sentence_generation('그림을 그리고 싶어')\n",
    "\n",
    "sentence_generation(\"내가 그림으로 돈을 벌 수 있을지가 의문이야\")"
   ]
  },
  {
   "cell_type": "markdown",
   "id": "d58a7807",
   "metadata": {},
   "source": [
    "오호...답변을 상황에 맞게 한 거 같지만, 약간 팩트폭력을 당한 느낌이 듭니다\n",
    "\n",
    "다른 질문을 해봅시다"
   ]
  },
  {
   "cell_type": "code",
   "execution_count": 151,
   "id": "02fe9080",
   "metadata": {},
   "outputs": [
    {
     "name": "stdout",
     "output_type": "stream",
     "text": [
      "입력 : 니가 너무 싫다.\n",
      "출력 : 사랑했으니까요 .\n",
      "입력 : 널 어떻게 해야 안 볼 수 있을까?\n",
      "출력 : 저랑 이야기 해요 .\n"
     ]
    },
    {
     "data": {
      "text/plain": [
       "'저랑 이야기 해요 .'"
      ]
     },
     "execution_count": 151,
     "metadata": {},
     "output_type": "execute_result"
    }
   ],
   "source": [
    "sentence_generation('니가 너무 싫다.')\n",
    "\n",
    "sentence_generation(\"널 어떻게 해야 안 볼 수 있을까?\")"
   ]
  },
  {
   "cell_type": "markdown",
   "id": "d3efdf40",
   "metadata": {},
   "source": [
    "?????????????\n",
    "\n",
    "흠...약간 연애상담 전문 봇이 탄생한 거 같습니다\n",
    "\n",
    "답변이 너무 느끼합니다"
   ]
  },
  {
   "cell_type": "code",
   "execution_count": 152,
   "id": "644260e0",
   "metadata": {},
   "outputs": [
    {
     "name": "stdout",
     "output_type": "stream",
     "text": [
      "입력 : 콜라를 먹을까? 스프라이트를 먹을까?\n",
      "출력 : 화장하는 시간이 줄어들 거예요 .\n",
      "입력 : 아는 형이 코카콜라 주식을 샀는데, 과연 올랐을까?\n",
      "출력 : 상관 없는 거 같아요 .\n"
     ]
    },
    {
     "data": {
      "text/plain": [
       "'상관 없는 거 같아요 .'"
      ]
     },
     "execution_count": 152,
     "metadata": {},
     "output_type": "execute_result"
    }
   ],
   "source": [
    "sentence_generation('콜라를 먹을까? 스프라이트를 먹을까?')\n",
    "\n",
    "sentence_generation(\"아는 형이 코카콜라 주식을 샀는데, 과연 올랐을까?\")"
   ]
  },
  {
   "cell_type": "markdown",
   "id": "03ea9f87",
   "metadata": {},
   "source": [
    "어우...굉장히 무심한 느낌이 드네요\n",
    "\n",
    "맘에 안드니, 학습을 시키고자 합니다"
   ]
  },
  {
   "cell_type": "code",
   "execution_count": 153,
   "id": "12eba822",
   "metadata": {
    "scrolled": true
   },
   "outputs": [
    {
     "name": "stdout",
     "output_type": "stream",
     "text": [
      "Epoch 1/20\n",
      "185/185 [==============================] - 11s 60ms/step - loss: 0.0071 - accuracy: 0.1534\n",
      "Epoch 2/20\n",
      "185/185 [==============================] - 11s 60ms/step - loss: 0.0069 - accuracy: 0.1535\n",
      "Epoch 3/20\n",
      "185/185 [==============================] - 11s 60ms/step - loss: 0.0064 - accuracy: 0.1536\n",
      "Epoch 4/20\n",
      "185/185 [==============================] - 11s 61ms/step - loss: 0.0062 - accuracy: 0.1537\n",
      "Epoch 5/20\n",
      "185/185 [==============================] - 11s 61ms/step - loss: 0.0059 - accuracy: 0.1538\n",
      "Epoch 6/20\n",
      "185/185 [==============================] - 11s 61ms/step - loss: 0.0057 - accuracy: 0.1537\n",
      "Epoch 7/20\n",
      "185/185 [==============================] - 11s 60ms/step - loss: 0.0055 - accuracy: 0.1538\n",
      "Epoch 8/20\n",
      "185/185 [==============================] - 11s 60ms/step - loss: 0.0053 - accuracy: 0.1539\n",
      "Epoch 9/20\n",
      "185/185 [==============================] - 11s 60ms/step - loss: 0.0051 - accuracy: 0.1539\n",
      "Epoch 10/20\n",
      "185/185 [==============================] - 11s 60ms/step - loss: 0.0048 - accuracy: 0.1540\n",
      "Epoch 11/20\n",
      "185/185 [==============================] - 11s 60ms/step - loss: 0.0050 - accuracy: 0.1539\n",
      "Epoch 12/20\n",
      "185/185 [==============================] - 11s 60ms/step - loss: 0.0045 - accuracy: 0.1540\n",
      "Epoch 13/20\n",
      "185/185 [==============================] - 11s 61ms/step - loss: 0.0042 - accuracy: 0.1541\n",
      "Epoch 14/20\n",
      "185/185 [==============================] - 11s 61ms/step - loss: 0.0042 - accuracy: 0.1541\n",
      "Epoch 15/20\n",
      "185/185 [==============================] - 11s 60ms/step - loss: 0.0043 - accuracy: 0.1541\n",
      "Epoch 16/20\n",
      "185/185 [==============================] - 11s 60ms/step - loss: 0.0042 - accuracy: 0.1541\n",
      "Epoch 17/20\n",
      "185/185 [==============================] - 11s 60ms/step - loss: 0.0039 - accuracy: 0.1542\n",
      "Epoch 18/20\n",
      "185/185 [==============================] - 11s 60ms/step - loss: 0.0039 - accuracy: 0.1542\n",
      "Epoch 19/20\n",
      "185/185 [==============================] - 11s 61ms/step - loss: 0.0037 - accuracy: 0.1542\n",
      "Epoch 20/20\n",
      "185/185 [==============================] - 11s 60ms/step - loss: 0.0036 - accuracy: 0.1543\n"
     ]
    },
    {
     "data": {
      "text/plain": [
       "[<matplotlib.lines.Line2D at 0x7fba6cb35310>]"
      ]
     },
     "execution_count": 153,
     "metadata": {},
     "output_type": "execute_result"
    },
    {
     "data": {
      "image/png": "[encoded data removed]",
      "text/plain": [
       "<Figure size 720x360 with 2 Axes>"
      ]
     },
     "metadata": {
      "needs_background": "light"
     },
     "output_type": "display_data"
    }
   ],
   "source": [
    "EPOCHS = 20\n",
    "model.fit(dataset, epochs=EPOCHS, verbose=1)\n",
    "\n",
    "plt.figure(figsize=(10, 5))\n",
    "plt.subplot(121)\n",
    "plt.xlabel('EPOCHS')\n",
    "plt.ylabel('ACCURACY')\n",
    "plt.plot(model.history.history['accuracy'])\n",
    "\n",
    "plt.subplot(122)\n",
    "plt.xlabel('EPOCHS')\n",
    "plt.ylabel('LOSS')\n",
    "plt.plot(model.history.history['loss'])"
   ]
  },
  {
   "cell_type": "code",
   "execution_count": 154,
   "id": "72cb6600",
   "metadata": {},
   "outputs": [
    {
     "name": "stdout",
     "output_type": "stream",
     "text": [
      "입력 : 콜라를 먹을까? 스프라이트를 먹을까?\n",
      "출력 : 있을 거라 믿어요 .\n",
      "입력 : 아는 형이 코카콜라 주식을 샀는데, 과연 올랐을까?\n",
      "출력 : 그런 남자 버리고 이런 느낌 안 주는 사람 만나세요 .\n"
     ]
    },
    {
     "data": {
      "text/plain": [
       "'그런 남자 버리고 이런 느낌 안 주는 사람 만나세요 .'"
      ]
     },
     "execution_count": 154,
     "metadata": {},
     "output_type": "execute_result"
    }
   ],
   "source": [
    "sentence_generation('콜라를 먹을까? 스프라이트를 먹을까?')\n",
    "\n",
    "sentence_generation(\"아는 형이 코카콜라 주식을 샀는데, 과연 올랐을까?\")"
   ]
  },
  {
   "cell_type": "markdown",
   "id": "26e6dd8e",
   "metadata": {},
   "source": [
    "나 남잔데?"
   ]
  },
  {
   "cell_type": "code",
   "execution_count": 156,
   "id": "4c1ea404",
   "metadata": {
    "scrolled": true
   },
   "outputs": [
    {
     "name": "stdout",
     "output_type": "stream",
     "text": [
      "입력 : 그림을 그리고 싶어\n",
      "출력 : 후회없으실 거라 믿어요 .\n",
      "입력 : 내가 그림으로 돈을 벌 수 있을지가 의문이야\n",
      "출력 : 환승은 30분 안에\n",
      "입력 : 원화를 그릴까? 일러스트를 그릴까?\n",
      "출력 : 처음 배우는게 중요해요 .\n",
      "입력 : 역시 그림은 비전이 없어. 3D와 애니메이션으로 간다\n",
      "출력 : 후련하다니 다행이에요 .\n"
     ]
    },
    {
     "data": {
      "text/plain": [
       "'후련하다니 다행이에요 .'"
      ]
     },
     "execution_count": 156,
     "metadata": {},
     "output_type": "execute_result"
    }
   ],
   "source": [
    "sentence_generation('그림을 그리고 싶어')\n",
    "\n",
    "sentence_generation(\"내가 그림으로 돈을 벌 수 있을지가 의문이야\")\n",
    "\n",
    "sentence_generation('원화를 그릴까? 일러스트를 그릴까?')\n",
    "\n",
    "sentence_generation(\"역시 그림은 비전이 없어. 3D와 애니메이션으로 간다\")"
   ]
  },
  {
   "cell_type": "markdown",
   "id": "ab3af4cc",
   "metadata": {},
   "source": [
    "오...첫번째와 마지막 질문에 대한 대답이 정말 맘에 드네요\n",
    "\n",
    "근데 데이터셋이 대부분 연애 관련 QnA였다는 거와,\n",
    "<br/>\n",
    "label이 결국 뭐였는지 알아내지 못 했다는 게 좀 아쉽네요\n",
    "\n",
    "<br/>\n",
    "\n",
    "그래서 찾아봤습니다\n",
    "\n",
    "https://youtube.com/playlist?list=PLNgPShXbeBwErzwo1z_zYobnukjrlVUmP\n",
    "\n",
    "https://youtube.com/playlist?list=PLr_ki3_GfpZNXm_BlKRzaLZDdJy6cx3wF\n",
    "\n",
    "https://youtube.com/playlist?list=PLaH0RII4IUnBmKgpHufCvi8UG0w9z1m0i\n",
    "<br/>\n",
    "2부 부터 강의자료 있으니 참고하기\n",
    "\n",
    "https://youtube.com/playlist?list=PLzMcBGfZo4-ndH9FoC4YWHGXG5RZekt-Q\n",
    "\n",
    "<br/>\n",
    "aiffel에서 배운 뉴스 요약봇[E_08]이나, 영화 감상평 긍정 부정 판별기 [E_06] 등을 이용해서 데이터 프레임을 늘리고,\n",
    "이를 통해 좀 더 좋은 성능의 인공지능을 만들고자 한다"
   ]
  },
  {
   "cell_type": "markdown",
   "id": "cb8805d5",
   "metadata": {},
   "source": [
    "# 회고\n",
    "\n",
    "이번에 배운 내용은 너무 낯설어가지고 감히 커스텀할 엄두가 안 나더군요\n",
    "<br/>\n",
    "그래서 챗봇을 구현하는 여러 강의 자료를 찾았습니다\n",
    "\n",
    "몇몇은 기존에 제게 익순한 방식으로 모델을 만드는 방법을 사용하기 때문에 커스텀을 할 수 있을 거 같습니다\n",
    "<br/>\n",
    "뭐 간단한 만큼 드라마틱한 성능 개선이 이뤄지지 않을 수 있지만,\n",
    "<br/>\n",
    "해당 강의를 따라하면서 이번 EX노드를 더 잘 이해할 수 있을 거 같습니다\n"
   ]
  },
  {
   "cell_type": "code",
   "execution_count": null,
   "id": "f30ab6df",
   "metadata": {},
   "outputs": [],
   "source": []
  }
 ],
 "metadata": {
  "kernelspec": {
   "display_name": "Python 3 (ipykernel)",
   "language": "python",
   "name": "python3"
  },
  "language_info": {
   "codemirror_mode": {
    "name": "ipython",
    "version": 3
   },
   "file_extension": ".py",
   "mimetype": "text/x-python",
   "name": "python",
   "nbconvert_exporter": "python",
   "pygments_lexer": "ipython3",
   "version": "3.9.7"
  }
 },
 "nbformat": 4,
 "nbformat_minor": 5
}
